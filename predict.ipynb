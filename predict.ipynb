{
 "cells": [
  {
   "cell_type": "code",
   "execution_count": 1,
   "metadata": {},
   "outputs": [
    {
     "data": {
      "text/html": [
       "\n",
       "    <div class=\"bk-root\">\n",
       "        <a href=\"https://bokeh.org\" target=\"_blank\" class=\"bk-logo bk-logo-small bk-logo-notebook\"></a>\n",
       "        <span id=\"1001\">Loading BokehJS ...</span>\n",
       "    </div>"
      ]
     },
     "metadata": {},
     "output_type": "display_data"
    },
    {
     "data": {
      "application/javascript": [
       "\n",
       "(function(root) {\n",
       "  function now() {\n",
       "    return new Date();\n",
       "  }\n",
       "\n",
       "  var force = true;\n",
       "\n",
       "  if (typeof root._bokeh_onload_callbacks === \"undefined\" || force === true) {\n",
       "    root._bokeh_onload_callbacks = [];\n",
       "    root._bokeh_is_loading = undefined;\n",
       "  }\n",
       "\n",
       "  var JS_MIME_TYPE = 'application/javascript';\n",
       "  var HTML_MIME_TYPE = 'text/html';\n",
       "  var EXEC_MIME_TYPE = 'application/vnd.bokehjs_exec.v0+json';\n",
       "  var CLASS_NAME = 'output_bokeh rendered_html';\n",
       "\n",
       "  /**\n",
       "   * Render data to the DOM node\n",
       "   */\n",
       "  function render(props, node) {\n",
       "    var script = document.createElement(\"script\");\n",
       "    node.appendChild(script);\n",
       "  }\n",
       "\n",
       "  /**\n",
       "   * Handle when an output is cleared or removed\n",
       "   */\n",
       "  function handleClearOutput(event, handle) {\n",
       "    var cell = handle.cell;\n",
       "\n",
       "    var id = cell.output_area._bokeh_element_id;\n",
       "    var server_id = cell.output_area._bokeh_server_id;\n",
       "    // Clean up Bokeh references\n",
       "    if (id != null && id in Bokeh.index) {\n",
       "      Bokeh.index[id].model.document.clear();\n",
       "      delete Bokeh.index[id];\n",
       "    }\n",
       "\n",
       "    if (server_id !== undefined) {\n",
       "      // Clean up Bokeh references\n",
       "      var cmd = \"from bokeh.io.state import curstate; print(curstate().uuid_to_server['\" + server_id + \"'].get_sessions()[0].document.roots[0]._id)\";\n",
       "      cell.notebook.kernel.execute(cmd, {\n",
       "        iopub: {\n",
       "          output: function(msg) {\n",
       "            var id = msg.content.text.trim();\n",
       "            if (id in Bokeh.index) {\n",
       "              Bokeh.index[id].model.document.clear();\n",
       "              delete Bokeh.index[id];\n",
       "            }\n",
       "          }\n",
       "        }\n",
       "      });\n",
       "      // Destroy server and session\n",
       "      var cmd = \"import bokeh.io.notebook as ion; ion.destroy_server('\" + server_id + \"')\";\n",
       "      cell.notebook.kernel.execute(cmd);\n",
       "    }\n",
       "  }\n",
       "\n",
       "  /**\n",
       "   * Handle when a new output is added\n",
       "   */\n",
       "  function handleAddOutput(event, handle) {\n",
       "    var output_area = handle.output_area;\n",
       "    var output = handle.output;\n",
       "\n",
       "    // limit handleAddOutput to display_data with EXEC_MIME_TYPE content only\n",
       "    if ((output.output_type != \"display_data\") || (!output.data.hasOwnProperty(EXEC_MIME_TYPE))) {\n",
       "      return\n",
       "    }\n",
       "\n",
       "    var toinsert = output_area.element.find(\".\" + CLASS_NAME.split(' ')[0]);\n",
       "\n",
       "    if (output.metadata[EXEC_MIME_TYPE][\"id\"] !== undefined) {\n",
       "      toinsert[toinsert.length - 1].firstChild.textContent = output.data[JS_MIME_TYPE];\n",
       "      // store reference to embed id on output_area\n",
       "      output_area._bokeh_element_id = output.metadata[EXEC_MIME_TYPE][\"id\"];\n",
       "    }\n",
       "    if (output.metadata[EXEC_MIME_TYPE][\"server_id\"] !== undefined) {\n",
       "      var bk_div = document.createElement(\"div\");\n",
       "      bk_div.innerHTML = output.data[HTML_MIME_TYPE];\n",
       "      var script_attrs = bk_div.children[0].attributes;\n",
       "      for (var i = 0; i < script_attrs.length; i++) {\n",
       "        toinsert[toinsert.length - 1].firstChild.setAttribute(script_attrs[i].name, script_attrs[i].value);\n",
       "        toinsert[toinsert.length - 1].firstChild.textContent = bk_div.children[0].textContent\n",
       "      }\n",
       "      // store reference to server id on output_area\n",
       "      output_area._bokeh_server_id = output.metadata[EXEC_MIME_TYPE][\"server_id\"];\n",
       "    }\n",
       "  }\n",
       "\n",
       "  function register_renderer(events, OutputArea) {\n",
       "\n",
       "    function append_mime(data, metadata, element) {\n",
       "      // create a DOM node to render to\n",
       "      var toinsert = this.create_output_subarea(\n",
       "        metadata,\n",
       "        CLASS_NAME,\n",
       "        EXEC_MIME_TYPE\n",
       "      );\n",
       "      this.keyboard_manager.register_events(toinsert);\n",
       "      // Render to node\n",
       "      var props = {data: data, metadata: metadata[EXEC_MIME_TYPE]};\n",
       "      render(props, toinsert[toinsert.length - 1]);\n",
       "      element.append(toinsert);\n",
       "      return toinsert\n",
       "    }\n",
       "\n",
       "    /* Handle when an output is cleared or removed */\n",
       "    events.on('clear_output.CodeCell', handleClearOutput);\n",
       "    events.on('delete.Cell', handleClearOutput);\n",
       "\n",
       "    /* Handle when a new output is added */\n",
       "    events.on('output_added.OutputArea', handleAddOutput);\n",
       "\n",
       "    /**\n",
       "     * Register the mime type and append_mime function with output_area\n",
       "     */\n",
       "    OutputArea.prototype.register_mime_type(EXEC_MIME_TYPE, append_mime, {\n",
       "      /* Is output safe? */\n",
       "      safe: true,\n",
       "      /* Index of renderer in `output_area.display_order` */\n",
       "      index: 0\n",
       "    });\n",
       "  }\n",
       "\n",
       "  // register the mime type if in Jupyter Notebook environment and previously unregistered\n",
       "  if (root.Jupyter !== undefined) {\n",
       "    var events = require('base/js/events');\n",
       "    var OutputArea = require('notebook/js/outputarea').OutputArea;\n",
       "\n",
       "    if (OutputArea.prototype.mime_types().indexOf(EXEC_MIME_TYPE) == -1) {\n",
       "      register_renderer(events, OutputArea);\n",
       "    }\n",
       "  }\n",
       "\n",
       "  \n",
       "  if (typeof (root._bokeh_timeout) === \"undefined\" || force === true) {\n",
       "    root._bokeh_timeout = Date.now() + 5000;\n",
       "    root._bokeh_failed_load = false;\n",
       "  }\n",
       "\n",
       "  var NB_LOAD_WARNING = {'data': {'text/html':\n",
       "     \"<div style='background-color: #fdd'>\\n\"+\n",
       "     \"<p>\\n\"+\n",
       "     \"BokehJS does not appear to have successfully loaded. If loading BokehJS from CDN, this \\n\"+\n",
       "     \"may be due to a slow or bad network connection. Possible fixes:\\n\"+\n",
       "     \"</p>\\n\"+\n",
       "     \"<ul>\\n\"+\n",
       "     \"<li>re-rerun `output_notebook()` to attempt to load from CDN again, or</li>\\n\"+\n",
       "     \"<li>use INLINE resources instead, as so:</li>\\n\"+\n",
       "     \"</ul>\\n\"+\n",
       "     \"<code>\\n\"+\n",
       "     \"from bokeh.resources import INLINE\\n\"+\n",
       "     \"output_notebook(resources=INLINE)\\n\"+\n",
       "     \"</code>\\n\"+\n",
       "     \"</div>\"}};\n",
       "\n",
       "  function display_loaded() {\n",
       "    var el = document.getElementById(\"1001\");\n",
       "    if (el != null) {\n",
       "      el.textContent = \"BokehJS is loading...\";\n",
       "    }\n",
       "    if (root.Bokeh !== undefined) {\n",
       "      if (el != null) {\n",
       "        el.textContent = \"BokehJS \" + root.Bokeh.version + \" successfully loaded.\";\n",
       "      }\n",
       "    } else if (Date.now() < root._bokeh_timeout) {\n",
       "      setTimeout(display_loaded, 100)\n",
       "    }\n",
       "  }\n",
       "\n",
       "\n",
       "  function run_callbacks() {\n",
       "    try {\n",
       "      root._bokeh_onload_callbacks.forEach(function(callback) {\n",
       "        if (callback != null)\n",
       "          callback();\n",
       "      });\n",
       "    } finally {\n",
       "      delete root._bokeh_onload_callbacks\n",
       "    }\n",
       "    console.debug(\"Bokeh: all callbacks have finished\");\n",
       "  }\n",
       "\n",
       "  function load_libs(css_urls, js_urls, callback) {\n",
       "    if (css_urls == null) css_urls = [];\n",
       "    if (js_urls == null) js_urls = [];\n",
       "\n",
       "    root._bokeh_onload_callbacks.push(callback);\n",
       "    if (root._bokeh_is_loading > 0) {\n",
       "      console.debug(\"Bokeh: BokehJS is being loaded, scheduling callback at\", now());\n",
       "      return null;\n",
       "    }\n",
       "    if (js_urls == null || js_urls.length === 0) {\n",
       "      run_callbacks();\n",
       "      return null;\n",
       "    }\n",
       "    console.debug(\"Bokeh: BokehJS not loaded, scheduling load and callback at\", now());\n",
       "    root._bokeh_is_loading = css_urls.length + js_urls.length;\n",
       "\n",
       "    function on_load() {\n",
       "      root._bokeh_is_loading--;\n",
       "      if (root._bokeh_is_loading === 0) {\n",
       "        console.debug(\"Bokeh: all BokehJS libraries/stylesheets loaded\");\n",
       "        run_callbacks()\n",
       "      }\n",
       "    }\n",
       "\n",
       "    function on_error() {\n",
       "      console.error(\"failed to load \" + url);\n",
       "    }\n",
       "\n",
       "    for (var i = 0; i < css_urls.length; i++) {\n",
       "      var url = css_urls[i];\n",
       "      const element = document.createElement(\"link\");\n",
       "      element.onload = on_load;\n",
       "      element.onerror = on_error;\n",
       "      element.rel = \"stylesheet\";\n",
       "      element.type = \"text/css\";\n",
       "      element.href = url;\n",
       "      console.debug(\"Bokeh: injecting link tag for BokehJS stylesheet: \", url);\n",
       "      document.body.appendChild(element);\n",
       "    }\n",
       "\n",
       "    const hashes = {\"https://cdn.bokeh.org/bokeh/release/bokeh-2.0.1.min.js\": \"JpP8FXbgAZLkfur7LiK3j9AGBhHNIvF742meBJrjO2ShJDhCG2I1uVvW+0DUtrmc\", \"https://cdn.bokeh.org/bokeh/release/bokeh-widgets-2.0.1.min.js\": \"xZlADit0Q04ISQEdKg2k3L4W9AwQBAuDs9nJL9fM/WwzL1tEU9VPNezOFX0nLEAz\", \"https://cdn.bokeh.org/bokeh/release/bokeh-tables-2.0.1.min.js\": \"4BuPRZkdMKSnj3zoxiNrQ86XgNw0rYmBOxe7nshquXwwcauupgBF2DHLVG1WuZlV\", \"https://cdn.bokeh.org/bokeh/release/bokeh-gl-2.0.1.min.js\": \"Dv1SQ87hmDqK6S5OhBf0bCuwAEvL5QYL0PuR/F1SPVhCS/r/abjkbpKDYL2zeM19\"};\n",
       "\n",
       "    for (var i = 0; i < js_urls.length; i++) {\n",
       "      var url = js_urls[i];\n",
       "      var element = document.createElement('script');\n",
       "      element.onload = on_load;\n",
       "      element.onerror = on_error;\n",
       "      element.async = false;\n",
       "      element.src = url;\n",
       "      if (url in hashes) {\n",
       "        element.crossOrigin = \"anonymous\";\n",
       "        element.integrity = \"sha384-\" + hashes[url];\n",
       "      }\n",
       "      console.debug(\"Bokeh: injecting script tag for BokehJS library: \", url);\n",
       "      document.head.appendChild(element);\n",
       "    }\n",
       "  };var element = document.getElementById(\"1001\");\n",
       "  if (element == null) {\n",
       "    console.error(\"Bokeh: ERROR: autoload.js configured with elementid '1001' but no matching script tag was found. \")\n",
       "    return false;\n",
       "  }\n",
       "\n",
       "  function inject_raw_css(css) {\n",
       "    const element = document.createElement(\"style\");\n",
       "    element.appendChild(document.createTextNode(css));\n",
       "    document.body.appendChild(element);\n",
       "  }\n",
       "\n",
       "  \n",
       "  var js_urls = [\"https://cdn.bokeh.org/bokeh/release/bokeh-2.0.1.min.js\", \"https://cdn.bokeh.org/bokeh/release/bokeh-widgets-2.0.1.min.js\", \"https://cdn.bokeh.org/bokeh/release/bokeh-tables-2.0.1.min.js\", \"https://cdn.bokeh.org/bokeh/release/bokeh-gl-2.0.1.min.js\"];\n",
       "  var css_urls = [];\n",
       "  \n",
       "\n",
       "  var inline_js = [\n",
       "    function(Bokeh) {\n",
       "      Bokeh.set_log_level(\"info\");\n",
       "    },\n",
       "    function(Bokeh) {\n",
       "    \n",
       "    \n",
       "    }\n",
       "  ];\n",
       "\n",
       "  function run_inline_js() {\n",
       "    \n",
       "    if (root.Bokeh !== undefined || force === true) {\n",
       "      \n",
       "    for (var i = 0; i < inline_js.length; i++) {\n",
       "      inline_js[i].call(root, root.Bokeh);\n",
       "    }\n",
       "    if (force === true) {\n",
       "        display_loaded();\n",
       "      }} else if (Date.now() < root._bokeh_timeout) {\n",
       "      setTimeout(run_inline_js, 100);\n",
       "    } else if (!root._bokeh_failed_load) {\n",
       "      console.log(\"Bokeh: BokehJS failed to load within specified timeout.\");\n",
       "      root._bokeh_failed_load = true;\n",
       "    } else if (force !== true) {\n",
       "      var cell = $(document.getElementById(\"1001\")).parents('.cell').data().cell;\n",
       "      cell.output_area.append_execute_result(NB_LOAD_WARNING)\n",
       "    }\n",
       "\n",
       "  }\n",
       "\n",
       "  if (root._bokeh_is_loading === 0) {\n",
       "    console.debug(\"Bokeh: BokehJS loaded, going straight to plotting\");\n",
       "    run_inline_js();\n",
       "  } else {\n",
       "    load_libs(css_urls, js_urls, function() {\n",
       "      console.debug(\"Bokeh: BokehJS plotting callback run at\", now());\n",
       "      run_inline_js();\n",
       "    });\n",
       "  }\n",
       "}(window));"
      ],
      "application/vnd.bokehjs_load.v0+json": "\n(function(root) {\n  function now() {\n    return new Date();\n  }\n\n  var force = true;\n\n  if (typeof root._bokeh_onload_callbacks === \"undefined\" || force === true) {\n    root._bokeh_onload_callbacks = [];\n    root._bokeh_is_loading = undefined;\n  }\n\n  \n\n  \n  if (typeof (root._bokeh_timeout) === \"undefined\" || force === true) {\n    root._bokeh_timeout = Date.now() + 5000;\n    root._bokeh_failed_load = false;\n  }\n\n  var NB_LOAD_WARNING = {'data': {'text/html':\n     \"<div style='background-color: #fdd'>\\n\"+\n     \"<p>\\n\"+\n     \"BokehJS does not appear to have successfully loaded. If loading BokehJS from CDN, this \\n\"+\n     \"may be due to a slow or bad network connection. Possible fixes:\\n\"+\n     \"</p>\\n\"+\n     \"<ul>\\n\"+\n     \"<li>re-rerun `output_notebook()` to attempt to load from CDN again, or</li>\\n\"+\n     \"<li>use INLINE resources instead, as so:</li>\\n\"+\n     \"</ul>\\n\"+\n     \"<code>\\n\"+\n     \"from bokeh.resources import INLINE\\n\"+\n     \"output_notebook(resources=INLINE)\\n\"+\n     \"</code>\\n\"+\n     \"</div>\"}};\n\n  function display_loaded() {\n    var el = document.getElementById(\"1001\");\n    if (el != null) {\n      el.textContent = \"BokehJS is loading...\";\n    }\n    if (root.Bokeh !== undefined) {\n      if (el != null) {\n        el.textContent = \"BokehJS \" + root.Bokeh.version + \" successfully loaded.\";\n      }\n    } else if (Date.now() < root._bokeh_timeout) {\n      setTimeout(display_loaded, 100)\n    }\n  }\n\n\n  function run_callbacks() {\n    try {\n      root._bokeh_onload_callbacks.forEach(function(callback) {\n        if (callback != null)\n          callback();\n      });\n    } finally {\n      delete root._bokeh_onload_callbacks\n    }\n    console.debug(\"Bokeh: all callbacks have finished\");\n  }\n\n  function load_libs(css_urls, js_urls, callback) {\n    if (css_urls == null) css_urls = [];\n    if (js_urls == null) js_urls = [];\n\n    root._bokeh_onload_callbacks.push(callback);\n    if (root._bokeh_is_loading > 0) {\n      console.debug(\"Bokeh: BokehJS is being loaded, scheduling callback at\", now());\n      return null;\n    }\n    if (js_urls == null || js_urls.length === 0) {\n      run_callbacks();\n      return null;\n    }\n    console.debug(\"Bokeh: BokehJS not loaded, scheduling load and callback at\", now());\n    root._bokeh_is_loading = css_urls.length + js_urls.length;\n\n    function on_load() {\n      root._bokeh_is_loading--;\n      if (root._bokeh_is_loading === 0) {\n        console.debug(\"Bokeh: all BokehJS libraries/stylesheets loaded\");\n        run_callbacks()\n      }\n    }\n\n    function on_error() {\n      console.error(\"failed to load \" + url);\n    }\n\n    for (var i = 0; i < css_urls.length; i++) {\n      var url = css_urls[i];\n      const element = document.createElement(\"link\");\n      element.onload = on_load;\n      element.onerror = on_error;\n      element.rel = \"stylesheet\";\n      element.type = \"text/css\";\n      element.href = url;\n      console.debug(\"Bokeh: injecting link tag for BokehJS stylesheet: \", url);\n      document.body.appendChild(element);\n    }\n\n    const hashes = {\"https://cdn.bokeh.org/bokeh/release/bokeh-2.0.1.min.js\": \"JpP8FXbgAZLkfur7LiK3j9AGBhHNIvF742meBJrjO2ShJDhCG2I1uVvW+0DUtrmc\", \"https://cdn.bokeh.org/bokeh/release/bokeh-widgets-2.0.1.min.js\": \"xZlADit0Q04ISQEdKg2k3L4W9AwQBAuDs9nJL9fM/WwzL1tEU9VPNezOFX0nLEAz\", \"https://cdn.bokeh.org/bokeh/release/bokeh-tables-2.0.1.min.js\": \"4BuPRZkdMKSnj3zoxiNrQ86XgNw0rYmBOxe7nshquXwwcauupgBF2DHLVG1WuZlV\", \"https://cdn.bokeh.org/bokeh/release/bokeh-gl-2.0.1.min.js\": \"Dv1SQ87hmDqK6S5OhBf0bCuwAEvL5QYL0PuR/F1SPVhCS/r/abjkbpKDYL2zeM19\"};\n\n    for (var i = 0; i < js_urls.length; i++) {\n      var url = js_urls[i];\n      var element = document.createElement('script');\n      element.onload = on_load;\n      element.onerror = on_error;\n      element.async = false;\n      element.src = url;\n      if (url in hashes) {\n        element.crossOrigin = \"anonymous\";\n        element.integrity = \"sha384-\" + hashes[url];\n      }\n      console.debug(\"Bokeh: injecting script tag for BokehJS library: \", url);\n      document.head.appendChild(element);\n    }\n  };var element = document.getElementById(\"1001\");\n  if (element == null) {\n    console.error(\"Bokeh: ERROR: autoload.js configured with elementid '1001' but no matching script tag was found. \")\n    return false;\n  }\n\n  function inject_raw_css(css) {\n    const element = document.createElement(\"style\");\n    element.appendChild(document.createTextNode(css));\n    document.body.appendChild(element);\n  }\n\n  \n  var js_urls = [\"https://cdn.bokeh.org/bokeh/release/bokeh-2.0.1.min.js\", \"https://cdn.bokeh.org/bokeh/release/bokeh-widgets-2.0.1.min.js\", \"https://cdn.bokeh.org/bokeh/release/bokeh-tables-2.0.1.min.js\", \"https://cdn.bokeh.org/bokeh/release/bokeh-gl-2.0.1.min.js\"];\n  var css_urls = [];\n  \n\n  var inline_js = [\n    function(Bokeh) {\n      Bokeh.set_log_level(\"info\");\n    },\n    function(Bokeh) {\n    \n    \n    }\n  ];\n\n  function run_inline_js() {\n    \n    if (root.Bokeh !== undefined || force === true) {\n      \n    for (var i = 0; i < inline_js.length; i++) {\n      inline_js[i].call(root, root.Bokeh);\n    }\n    if (force === true) {\n        display_loaded();\n      }} else if (Date.now() < root._bokeh_timeout) {\n      setTimeout(run_inline_js, 100);\n    } else if (!root._bokeh_failed_load) {\n      console.log(\"Bokeh: BokehJS failed to load within specified timeout.\");\n      root._bokeh_failed_load = true;\n    } else if (force !== true) {\n      var cell = $(document.getElementById(\"1001\")).parents('.cell').data().cell;\n      cell.output_area.append_execute_result(NB_LOAD_WARNING)\n    }\n\n  }\n\n  if (root._bokeh_is_loading === 0) {\n    console.debug(\"Bokeh: BokehJS loaded, going straight to plotting\");\n    run_inline_js();\n  } else {\n    load_libs(css_urls, js_urls, function() {\n      console.debug(\"Bokeh: BokehJS plotting callback run at\", now());\n      run_inline_js();\n    });\n  }\n}(window));"
     },
     "metadata": {},
     "output_type": "display_data"
    }
   ],
   "source": [
    "from pyspark.sql import SparkSession\n",
    "import pyspark.sql.functions as F\n",
    "from pyspark.sql.window import Window\n",
    "from pyspark.ml.regression import LinearRegression\n",
    "from pyspark.ml.evaluation import RegressionEvaluator\n",
    "from pyspark.ml.linalg import Vectors\n",
    "from pyspark.sql.functions import desc\n",
    "from pyspark.sql.types import DecimalType, FloatType\n",
    "from pyspark.ml.feature import VectorAssembler\n",
    "import matplotlib.pyplot as plt \n",
    "import geopandas\n",
    "import geoplot\n",
    "from pyproj import CRS\n",
    "import pandas_bokeh\n",
    "pandas_bokeh.output_notebook()\n",
    "import seaborn as sns\n",
    "sns.set()"
   ]
  },
  {
   "cell_type": "code",
   "execution_count": null,
   "metadata": {},
   "outputs": [],
   "source": [
    "#hello world "
   ]
  },
  {
   "cell_type": "markdown",
   "metadata": {},
   "source": [
    "### Import the data to Spark"
   ]
  },
  {
   "cell_type": "code",
   "execution_count": 2,
   "metadata": {},
   "outputs": [],
   "source": [
    "spark = SparkSession.builder.appName(\"COVID\").config(\"spark.some.config.option\", \"some-value\").getOrCreate()\n",
    "confirmed = spark.read.csv('time_series_19-covid-Confirmed_archived_0325.csv', header=True, inferSchema = True)\n",
    "\n",
    "# I will start by creating temporary table querying with SQL\n",
    "confirmed.createOrReplaceTempView('COVID_Confirmed')\n",
    "sparkConfirmedDF = spark.sql('''SELECT * FROM COVID_Confirmed''')"
   ]
  },
  {
   "cell_type": "markdown",
   "metadata": {},
   "source": [
    "### Preprocess the data"
   ]
  },
  {
   "cell_type": "markdown",
   "metadata": {},
   "source": [
    "###### Handle null values & Select only the relevant rows (i.e., those that include data about Australia)"
   ]
  },
  {
   "cell_type": "code",
   "execution_count": 3,
   "metadata": {
    "scrolled": true
   },
   "outputs": [
    {
     "name": "stdout",
     "output_type": "stream",
     "text": [
      "+--------------------+--------------+--------+--------+-------+-------+-------+-------+-------+-------+-------+-------+-------+-------+------+------+------+------+------+------+------+------+------+-------+-------+-------+-------+-------+-------+-------+-------+-------+-------+-------+-------+-------+-------+-------+-------+-------+-------+-------+-------+------+------+------+------+------+------+------+------+------+-------+-------+-------+-------+-------+-------+-------+-------+-------+-------+-------+-------+-------+-------+\n",
      "|      Province/State|Country/Region|     Lat|    Long|1/22/20|1/23/20|1/24/20|1/25/20|1/26/20|1/27/20|1/28/20|1/29/20|1/30/20|1/31/20|2/1/20|2/2/20|2/3/20|2/4/20|2/5/20|2/6/20|2/7/20|2/8/20|2/9/20|2/10/20|2/11/20|2/12/20|2/13/20|2/14/20|2/15/20|2/16/20|2/17/20|2/18/20|2/19/20|2/20/20|2/21/20|2/22/20|2/23/20|2/24/20|2/25/20|2/26/20|2/27/20|2/28/20|2/29/20|3/1/20|3/2/20|3/3/20|3/4/20|3/5/20|3/6/20|3/7/20|3/8/20|3/9/20|3/10/20|3/11/20|3/12/20|3/13/20|3/14/20|3/15/20|3/16/20|3/17/20|3/18/20|3/19/20|3/20/20|3/21/20|3/22/20|3/23/20|\n",
      "+--------------------+--------------+--------+--------+-------+-------+-------+-------+-------+-------+-------+-------+-------+-------+------+------+------+------+------+------+------+------+------+-------+-------+-------+-------+-------+-------+-------+-------+-------+-------+-------+-------+-------+-------+-------+-------+-------+-------+-------+-------+------+------+------+------+------+------+------+------+------+-------+-------+-------+-------+-------+-------+-------+-------+-------+-------+-------+-------+-------+-------+\n",
      "|     New South Wales|     Australia|-33.8688|151.2093|      0|      0|      0|      0|      3|      4|      4|      4|      4|      4|     4|     4|     4|     4|     4|     4|     4|     4|     4|      4|      4|      4|      4|      4|      4|      4|      4|      4|      4|      4|      4|      4|      4|      4|      4|      4|      4|      4|      4|     6|     6|    13|    22|    22|    26|    28|    38|    48|     55|     65|     65|     92|    112|    134|    171|    210|    267|    307|    353|    436|    533|    533|\n",
      "|            Victoria|     Australia|-37.8136|144.9631|      0|      0|      0|      0|      1|      1|      1|      1|      2|      3|     4|     4|     4|     4|     4|     4|     4|     4|     4|      4|      4|      4|      4|      4|      4|      4|      4|      4|      4|      4|      4|      4|      4|      4|      4|      4|      4|      4|      7|     7|     9|     9|    10|    10|    10|    11|    11|    15|     18|     21|     21|     36|     49|     57|     71|     94|    121|    121|    121|    229|    296|    296|\n",
      "|          Queensland|     Australia|-28.0167|   153.4|      0|      0|      0|      0|      0|      0|      0|      1|      3|      2|     3|     2|     2|     3|     3|     4|     5|     5|     5|      5|      5|      5|      5|      5|      5|      5|      5|      5|      5|      5|      5|      5|      5|      5|      5|      5|      5|      5|      9|     9|     9|    11|    11|    13|    13|    13|    15|    15|     18|     20|     20|     35|     46|     61|     68|     78|     94|    144|    184|    221|    221|    221|\n",
      "|     South Australia|     Australia|-34.9285|138.6007|      0|      0|      0|      0|      0|      0|      0|      0|      0|      0|     1|     2|     2|     2|     2|     2|     2|     2|     2|      2|      2|      2|      2|      2|      2|      2|      2|      2|      2|      2|      2|      2|      2|      2|      2|      2|      2|      2|      3|     3|     3|     3|     5|     5|     7|     7|     7|     7|      7|      9|      9|     16|     19|     20|     29|     29|     37|     42|     50|     67|    100|    100|\n",
      "|From Diamond Prin...|     Australia| 35.4437| 139.638|      0|      0|      0|      0|      0|      0|      0|      0|      0|      0|     0|     0|     0|     0|     0|     0|     0|     0|     0|      0|      0|      0|      0|      0|      0|      0|      0|      0|      0|      0|      4|      7|      7|      7|      7|      7|      8|      8|      0|     0|     0|     0|     0|     0|     0|     0|     0|     0|      0|      0|      0|      0|      0|      0|      0|      0|      0|      0|      0|      0|      0|      0|\n",
      "|   Western Australia|     Australia|-31.9505|115.8605|      0|      0|      0|      0|      0|      0|      0|      0|      0|      0|     0|     0|     0|     0|     0|     0|     0|     0|     0|      0|      0|      0|      0|      0|      0|      0|      0|      0|      0|      0|      0|      0|      0|      0|      0|      0|      0|      0|      2|     2|     2|     2|     2|     3|     3|     3|     3|     4|      6|      9|      9|     14|     17|     17|     28|     31|     35|     52|     64|     90|    120|    120|\n",
      "|            Tasmania|     Australia|-41.4545|145.9707|      0|      0|      0|      0|      0|      0|      0|      0|      0|      0|     0|     0|     0|     0|     0|     0|     0|     0|     0|      0|      0|      0|      0|      0|      0|      0|      0|      0|      0|      0|      0|      0|      0|      0|      0|      0|      0|      0|      0|     0|     1|     1|     1|     1|     1|     1|     2|     2|      2|      3|      3|      5|      5|      6|      7|      7|     10|     10|     10|     16|     22|     22|\n",
      "|  Northern Territory|     Australia|-12.4634|130.8456|      0|      0|      0|      0|      0|      0|      0|      0|      0|      0|     0|     0|     0|     0|     0|     0|     0|     0|     0|      0|      0|      0|      0|      0|      0|      0|      0|      0|      0|      0|      0|      0|      0|      0|      0|      0|      0|      0|      0|     0|     0|     0|     1|     1|     0|     0|     0|     0|      1|      1|      1|      1|      1|      1|      1|      1|      1|      1|      3|      3|      3|      3|\n",
      "|Australian Capita...|     Australia|-35.4735|149.0124|      0|      0|      0|      0|      0|      0|      0|      0|      0|      0|     0|     0|     0|     0|     0|     0|     0|     0|     0|      0|      0|      0|      0|      0|      0|      0|      0|      0|      0|      0|      0|      0|      0|      0|      0|      0|      0|      0|      0|     0|     0|     0|     0|     0|     0|     0|     0|     0|      0|      0|      0|      1|      1|      1|      2|      2|      3|      4|      6|      9|     19|     19|\n",
      "+--------------------+--------------+--------+--------+-------+-------+-------+-------+-------+-------+-------+-------+-------+-------+------+------+------+------+------+------+------+------+------+-------+-------+-------+-------+-------+-------+-------+-------+-------+-------+-------+-------+-------+-------+-------+-------+-------+-------+-------+-------+------+------+------+------+------+------+------+------+------+-------+-------+-------+-------+-------+-------+-------+-------+-------+-------+-------+-------+-------+-------+\n",
      "\n"
     ]
    }
   ],
   "source": [
    "# Handling (Dropping) 'NULL / None' Values\n",
    "ConfirmedDF = sparkConfirmedDF.na.drop()\n",
    "\n",
    "# Selecting Australia Confirmed Cases\n",
    "confirmed = spark.sql('''\n",
    "SELECT * FROM COVID_Confirmed \n",
    "WHERE `Country/Region` = 'Australia'\n",
    "''')\n",
    "confirmed.show()"
   ]
  },
  {
   "cell_type": "code",
   "execution_count": 4,
   "metadata": {},
   "outputs": [
    {
     "data": {
      "text/html": [
       "\n",
       "\n",
       "\n",
       "\n",
       "\n",
       "\n",
       "  <div class=\"bk-root\" id=\"ac028a5a-f347-4050-a243-9d2f39dba5ca\" data-root-id=\"1038\"></div>\n"
      ]
     },
     "metadata": {},
     "output_type": "display_data"
    },
    {
     "data": {
      "application/javascript": [
       "(function(root) {\n",
       "  function embed_document(root) {\n",
       "    \n",
       "  var docs_json = {\"04b72727-c805-434b-a121-84e669999320\":{\"roots\":{\"references\":[{\"attributes\":{\"below\":[{\"id\":\"1049\"}],\"center\":[{\"id\":\"1052\"},{\"id\":\"1056\"},{\"id\":\"1084\"}],\"left\":[{\"id\":\"1053\"}],\"output_backend\":\"webgl\",\"plot_height\":500,\"plot_width\":1000,\"renderers\":[{\"id\":\"1077\"},{\"id\":\"1092\"},{\"id\":\"1108\"},{\"id\":\"1124\"},{\"id\":\"1140\"},{\"id\":\"1156\"},{\"id\":\"1172\"},{\"id\":\"1188\"},{\"id\":\"1204\"},{\"id\":\"1220\"},{\"id\":\"1236\"},{\"id\":\"1252\"},{\"id\":\"1268\"},{\"id\":\"1284\"},{\"id\":\"1300\"},{\"id\":\"1316\"},{\"id\":\"1332\"},{\"id\":\"1348\"},{\"id\":\"1364\"},{\"id\":\"1380\"},{\"id\":\"1396\"},{\"id\":\"1412\"},{\"id\":\"1428\"},{\"id\":\"1444\"},{\"id\":\"1460\"},{\"id\":\"1476\"},{\"id\":\"1492\"},{\"id\":\"1508\"},{\"id\":\"1524\"},{\"id\":\"1540\"},{\"id\":\"1556\"},{\"id\":\"1572\"},{\"id\":\"1588\"},{\"id\":\"1604\"},{\"id\":\"1620\"},{\"id\":\"1636\"},{\"id\":\"1652\"},{\"id\":\"1668\"},{\"id\":\"1684\"},{\"id\":\"1700\"},{\"id\":\"1716\"},{\"id\":\"1732\"},{\"id\":\"1748\"},{\"id\":\"1764\"},{\"id\":\"1780\"},{\"id\":\"1796\"},{\"id\":\"1812\"},{\"id\":\"1828\"},{\"id\":\"1844\"},{\"id\":\"1860\"},{\"id\":\"1876\"},{\"id\":\"1892\"},{\"id\":\"1908\"},{\"id\":\"1924\"},{\"id\":\"1940\"},{\"id\":\"1956\"},{\"id\":\"1972\"},{\"id\":\"1988\"},{\"id\":\"2004\"},{\"id\":\"2020\"},{\"id\":\"2036\"},{\"id\":\"2052\"},{\"id\":\"2068\"},{\"id\":\"2084\"}],\"sizing_mode\":\"fixed\",\"title\":{\"id\":\"1039\"},\"toolbar\":{\"id\":\"1064\"},\"x_range\":{\"id\":\"1041\"},\"x_scale\":{\"id\":\"1045\"},\"y_range\":{\"id\":\"1043\"},\"y_scale\":{\"id\":\"1047\"}},\"id\":\"1038\",\"subtype\":\"Figure\",\"type\":\"Plot\"},{\"attributes\":{\"data_source\":{\"id\":\"1037\"},\"glyph\":{\"id\":\"1810\"},\"hover_glyph\":null,\"muted_glyph\":null,\"nonselection_glyph\":{\"id\":\"1811\"},\"selection_glyph\":null,\"view\":{\"id\":\"1813\"}},\"id\":\"1812\",\"type\":\"GlyphRenderer\"},{\"attributes\":{\"source\":{\"id\":\"1037\"}},\"id\":\"1813\",\"type\":\"CDSView\"},{\"attributes\":{\"fill_alpha\":{\"value\":0.1},\"fill_color\":{\"value\":\"#f7b6d2\"},\"line_alpha\":{\"value\":0.1},\"line_color\":{\"value\":\"#f7b6d2\"},\"line_width\":{\"value\":2},\"top\":{\"field\":\"3/13/20\"},\"width\":{\"value\":0.007874015748031496},\"x\":{\"field\":\"__x__values\",\"transform\":{\"id\":\"1920\"}}},\"id\":\"1923\",\"type\":\"VBar\"},{\"attributes\":{\"callback\":null,\"mode\":\"vline\",\"renderers\":[{\"id\":\"1604\"}],\"tooltips\":[[\"Provinces / States\",\"@__x__values_original\"],[\"2/22/20\",\"@{2/22/20}\"]]},\"id\":\"1614\",\"type\":\"HoverTool\"},{\"attributes\":{\"callback\":null,\"mode\":\"vline\",\"renderers\":[{\"id\":\"1812\"}],\"tooltips\":[[\"Provinces / States\",\"@__x__values_original\"],[\"3/6/20\",\"@{3/6/20}\"]]},\"id\":\"1822\",\"type\":\"HoverTool\"},{\"attributes\":{\"label\":{\"value\":\" 3/6/20\"},\"renderers\":[{\"id\":\"1812\"}]},\"id\":\"1821\",\"type\":\"LegendItem\"},{\"attributes\":{\"callback\":null,\"mode\":\"vline\",\"renderers\":[{\"id\":\"1188\"}],\"tooltips\":[[\"Provinces / States\",\"@__x__values_original\"],[\"1/27/20\",\"@{1/27/20}\"]]},\"id\":\"1198\",\"type\":\"HoverTool\"},{\"attributes\":{\"fill_color\":{\"value\":\"#9467bd\"},\"line_color\":{\"value\":\"#9467bd\"},\"line_width\":{\"value\":2},\"top\":{\"field\":\"1/28/20\"},\"width\":{\"value\":0.007874015748031496},\"x\":{\"field\":\"__x__values\",\"transform\":{\"id\":\"1200\"}}},\"id\":\"1202\",\"type\":\"VBar\"},{\"attributes\":{\"range\":{\"id\":\"1041\"},\"value\":0.12301587301587302},\"id\":\"1824\",\"type\":\"Dodge\"},{\"attributes\":{\"fill_color\":{\"value\":\"#ff9896\"},\"line_color\":{\"value\":\"#ff9896\"},\"line_width\":{\"value\":2},\"top\":{\"field\":\"3/7/20\"},\"width\":{\"value\":0.007874015748031496},\"x\":{\"field\":\"__x__values\",\"transform\":{\"id\":\"1824\"}}},\"id\":\"1826\",\"type\":\"VBar\"},{\"attributes\":{\"range\":{\"id\":\"1041\"},\"value\":-0.1865079365079365},\"id\":\"1200\",\"type\":\"Dodge\"},{\"attributes\":{\"callback\":null,\"mode\":\"vline\",\"renderers\":[{\"id\":\"1828\"}],\"tooltips\":[[\"Provinces / States\",\"@__x__values_original\"],[\"3/7/20\",\"@{3/7/20}\"]]},\"id\":\"1838\",\"type\":\"HoverTool\"},{\"attributes\":{\"source\":{\"id\":\"1037\"}},\"id\":\"1829\",\"type\":\"CDSView\"},{\"attributes\":{\"data_source\":{\"id\":\"1037\"},\"glyph\":{\"id\":\"1826\"},\"hover_glyph\":null,\"muted_glyph\":null,\"nonselection_glyph\":{\"id\":\"1827\"},\"selection_glyph\":null,\"view\":{\"id\":\"1829\"}},\"id\":\"1828\",\"type\":\"GlyphRenderer\"},{\"attributes\":{\"range\":{\"id\":\"1041\"},\"value\":-0.14682539682539683},\"id\":\"1280\",\"type\":\"Dodge\"},{\"attributes\":{\"fill_alpha\":{\"value\":0.1},\"fill_color\":{\"value\":\"#ff9896\"},\"line_alpha\":{\"value\":0.1},\"line_color\":{\"value\":\"#ff9896\"},\"line_width\":{\"value\":2},\"top\":{\"field\":\"3/7/20\"},\"width\":{\"value\":0.007874015748031496},\"x\":{\"field\":\"__x__values\",\"transform\":{\"id\":\"1824\"}}},\"id\":\"1827\",\"type\":\"VBar\"},{\"attributes\":{\"label\":{\"value\":\" 3/7/20\"},\"renderers\":[{\"id\":\"1828\"}]},\"id\":\"1837\",\"type\":\"LegendItem\"},{\"attributes\":{\"fill_color\":{\"value\":\"#c5b0d5\"},\"line_color\":{\"value\":\"#c5b0d5\"},\"line_width\":{\"value\":2},\"top\":{\"field\":\"3/9/20\"},\"width\":{\"value\":0.007874015748031496},\"x\":{\"field\":\"__x__values\",\"transform\":{\"id\":\"1856\"}}},\"id\":\"1858\",\"type\":\"VBar\"},{\"attributes\":{\"range\":{\"id\":\"1041\"},\"value\":0.13095238095238093},\"id\":\"1840\",\"type\":\"Dodge\"},{\"attributes\":{\"fill_color\":{\"value\":\"#9467bd\"},\"line_color\":{\"value\":\"#9467bd\"},\"line_width\":{\"value\":2},\"top\":{\"field\":\"3/8/20\"},\"width\":{\"value\":0.007874015748031496},\"x\":{\"field\":\"__x__values\",\"transform\":{\"id\":\"1840\"}}},\"id\":\"1842\",\"type\":\"VBar\"},{\"attributes\":{\"data_source\":{\"id\":\"1037\"},\"glyph\":{\"id\":\"1938\"},\"hover_glyph\":null,\"muted_glyph\":null,\"nonselection_glyph\":{\"id\":\"1939\"},\"selection_glyph\":null,\"view\":{\"id\":\"1941\"}},\"id\":\"1940\",\"type\":\"GlyphRenderer\"},{\"attributes\":{\"source\":{\"id\":\"1037\"}},\"id\":\"1845\",\"type\":\"CDSView\"},{\"attributes\":{\"callback\":null,\"mode\":\"vline\",\"renderers\":[{\"id\":\"1220\"}],\"tooltips\":[[\"Provinces / States\",\"@__x__values_original\"],[\"1/29/20\",\"@{1/29/20}\"]]},\"id\":\"1230\",\"type\":\"HoverTool\"},{\"attributes\":{\"data_source\":{\"id\":\"1037\"},\"glyph\":{\"id\":\"1842\"},\"hover_glyph\":null,\"muted_glyph\":null,\"nonselection_glyph\":{\"id\":\"1843\"},\"selection_glyph\":null,\"view\":{\"id\":\"1845\"}},\"id\":\"1844\",\"type\":\"GlyphRenderer\"},{\"attributes\":{\"source\":{\"id\":\"1037\"}},\"id\":\"1221\",\"type\":\"CDSView\"},{\"attributes\":{\"fill_alpha\":{\"value\":0.1},\"fill_color\":{\"value\":\"#9467bd\"},\"line_alpha\":{\"value\":0.1},\"line_color\":{\"value\":\"#9467bd\"},\"line_width\":{\"value\":2},\"top\":{\"field\":\"3/8/20\"},\"width\":{\"value\":0.007874015748031496},\"x\":{\"field\":\"__x__values\",\"transform\":{\"id\":\"1840\"}}},\"id\":\"1843\",\"type\":\"VBar\"},{\"attributes\":{\"data_source\":{\"id\":\"1037\"},\"glyph\":{\"id\":\"1218\"},\"hover_glyph\":null,\"muted_glyph\":null,\"nonselection_glyph\":{\"id\":\"1219\"},\"selection_glyph\":null,\"view\":{\"id\":\"1221\"}},\"id\":\"1220\",\"type\":\"GlyphRenderer\"},{\"attributes\":{\"fill_alpha\":{\"value\":0.1},\"fill_color\":{\"value\":\"#c5b0d5\"},\"line_alpha\":{\"value\":0.1},\"line_color\":{\"value\":\"#c5b0d5\"},\"line_width\":{\"value\":2},\"top\":{\"field\":\"1/29/20\"},\"width\":{\"value\":0.007874015748031496},\"x\":{\"field\":\"__x__values\",\"transform\":{\"id\":\"1216\"}}},\"id\":\"1219\",\"type\":\"VBar\"},{\"attributes\":{\"label\":{\"value\":\" 1/29/20\"},\"renderers\":[{\"id\":\"1220\"}]},\"id\":\"1229\",\"type\":\"LegendItem\"},{\"attributes\":{\"callback\":null,\"mode\":\"vline\",\"renderers\":[{\"id\":\"1268\"}],\"tooltips\":[[\"Provinces / States\",\"@__x__values_original\"],[\"2/1/20\",\"@{2/1/20}\"]]},\"id\":\"1278\",\"type\":\"HoverTool\"},{\"attributes\":{\"callback\":null,\"mode\":\"vline\",\"renderers\":[{\"id\":\"1860\"}],\"tooltips\":[[\"Provinces / States\",\"@__x__values_original\"],[\"3/9/20\",\"@{3/9/20}\"]]},\"id\":\"1870\",\"type\":\"HoverTool\"},{\"attributes\":{\"source\":{\"id\":\"1037\"}},\"id\":\"1861\",\"type\":\"CDSView\"},{\"attributes\":{\"data_source\":{\"id\":\"1037\"},\"glyph\":{\"id\":\"1858\"},\"hover_glyph\":null,\"muted_glyph\":null,\"nonselection_glyph\":{\"id\":\"1859\"},\"selection_glyph\":null,\"view\":{\"id\":\"1861\"}},\"id\":\"1860\",\"type\":\"GlyphRenderer\"},{\"attributes\":{\"range\":{\"id\":\"1041\"},\"value\":-0.17063492063492064},\"id\":\"1232\",\"type\":\"Dodge\"},{\"attributes\":{\"fill_alpha\":{\"value\":0.1},\"fill_color\":{\"value\":\"#c5b0d5\"},\"line_alpha\":{\"value\":0.1},\"line_color\":{\"value\":\"#c5b0d5\"},\"line_width\":{\"value\":2},\"top\":{\"field\":\"3/9/20\"},\"width\":{\"value\":0.007874015748031496},\"x\":{\"field\":\"__x__values\",\"transform\":{\"id\":\"1856\"}}},\"id\":\"1859\",\"type\":\"VBar\"},{\"attributes\":{\"label\":{\"value\":\" 1/30/20\"},\"renderers\":[{\"id\":\"1236\"}]},\"id\":\"1245\",\"type\":\"LegendItem\"},{\"attributes\":{\"label\":{\"value\":\" 3/9/20\"},\"renderers\":[{\"id\":\"1860\"}]},\"id\":\"1869\",\"type\":\"LegendItem\"},{\"attributes\":{\"fill_color\":{\"value\":\"#8c564b\"},\"line_color\":{\"value\":\"#8c564b\"},\"line_width\":{\"value\":2},\"top\":{\"field\":\"1/30/20\"},\"width\":{\"value\":0.007874015748031496},\"x\":{\"field\":\"__x__values\",\"transform\":{\"id\":\"1232\"}}},\"id\":\"1234\",\"type\":\"VBar\"},{\"attributes\":{\"fill_alpha\":{\"value\":0.1},\"fill_color\":{\"value\":\"#7f7f7f\"},\"line_alpha\":{\"value\":0.1},\"line_color\":{\"value\":\"#7f7f7f\"},\"line_width\":{\"value\":2},\"top\":{\"field\":\"3/14/20\"},\"width\":{\"value\":0.007874015748031496},\"x\":{\"field\":\"__x__values\",\"transform\":{\"id\":\"1936\"}}},\"id\":\"1939\",\"type\":\"VBar\"},{\"attributes\":{\"range\":{\"id\":\"1041\"},\"value\":0.1468253968253968},\"id\":\"1872\",\"type\":\"Dodge\"},{\"attributes\":{\"fill_alpha\":{\"value\":0.1},\"fill_color\":{\"value\":\"#8c564b\"},\"line_alpha\":{\"value\":0.1},\"line_color\":{\"value\":\"#8c564b\"},\"line_width\":{\"value\":2},\"top\":{\"field\":\"3/10/20\"},\"width\":{\"value\":0.007874015748031496},\"x\":{\"field\":\"__x__values\",\"transform\":{\"id\":\"1872\"}}},\"id\":\"1875\",\"type\":\"VBar\"},{\"attributes\":{\"fill_alpha\":{\"value\":0.1},\"fill_color\":{\"value\":\"#8c564b\"},\"line_alpha\":{\"value\":0.1},\"line_color\":{\"value\":\"#8c564b\"},\"line_width\":{\"value\":2},\"top\":{\"field\":\"1/30/20\"},\"width\":{\"value\":0.007874015748031496},\"x\":{\"field\":\"__x__values\",\"transform\":{\"id\":\"1232\"}}},\"id\":\"1235\",\"type\":\"VBar\"},{\"attributes\":{\"fill_color\":{\"value\":\"#8c564b\"},\"line_color\":{\"value\":\"#8c564b\"},\"line_width\":{\"value\":2},\"top\":{\"field\":\"3/10/20\"},\"width\":{\"value\":0.007874015748031496},\"x\":{\"field\":\"__x__values\",\"transform\":{\"id\":\"1872\"}}},\"id\":\"1874\",\"type\":\"VBar\"},{\"attributes\":{\"source\":{\"id\":\"1037\"}},\"id\":\"1237\",\"type\":\"CDSView\"},{\"attributes\":{\"data_source\":{\"id\":\"1037\"},\"glyph\":{\"id\":\"1234\"},\"hover_glyph\":null,\"muted_glyph\":null,\"nonselection_glyph\":{\"id\":\"1235\"},\"selection_glyph\":null,\"view\":{\"id\":\"1237\"}},\"id\":\"1236\",\"type\":\"GlyphRenderer\"},{\"attributes\":{\"fill_alpha\":{\"value\":0.1},\"fill_color\":{\"value\":\"#9467bd\"},\"line_alpha\":{\"value\":0.1},\"line_color\":{\"value\":\"#9467bd\"},\"line_width\":{\"value\":2},\"top\":{\"field\":\"1/28/20\"},\"width\":{\"value\":0.007874015748031496},\"x\":{\"field\":\"__x__values\",\"transform\":{\"id\":\"1200\"}}},\"id\":\"1203\",\"type\":\"VBar\"},{\"attributes\":{\"source\":{\"id\":\"1037\"}},\"id\":\"1205\",\"type\":\"CDSView\"},{\"attributes\":{\"range\":{\"id\":\"1041\"},\"value\":0.02777777777777779},\"id\":\"1632\",\"type\":\"Dodge\"},{\"attributes\":{\"range\":{\"id\":\"1041\"},\"value\":-0.17857142857142858},\"id\":\"1216\",\"type\":\"Dodge\"},{\"attributes\":{\"fill_color\":{\"value\":\"#c5b0d5\"},\"line_color\":{\"value\":\"#c5b0d5\"},\"line_width\":{\"value\":2},\"top\":{\"field\":\"1/29/20\"},\"width\":{\"value\":0.007874015748031496},\"x\":{\"field\":\"__x__values\",\"transform\":{\"id\":\"1216\"}}},\"id\":\"1218\",\"type\":\"VBar\"},{\"attributes\":{\"fill_color\":{\"value\":\"#c7c7c7\"},\"line_color\":{\"value\":\"#c7c7c7\"},\"line_width\":{\"value\":2},\"top\":{\"field\":\"2/24/20\"},\"width\":{\"value\":0.007874015748031496},\"x\":{\"field\":\"__x__values\",\"transform\":{\"id\":\"1632\"}}},\"id\":\"1634\",\"type\":\"VBar\"},{\"attributes\":{\"label\":{\"value\":\" 2/1/20\"},\"renderers\":[{\"id\":\"1268\"}]},\"id\":\"1277\",\"type\":\"LegendItem\"},{\"attributes\":{\"range\":{\"id\":\"1041\"},\"value\":0.059523809523809534},\"id\":\"1696\",\"type\":\"Dodge\"},{\"attributes\":{\"data_source\":{\"id\":\"1037\"},\"glyph\":{\"id\":\"1202\"},\"hover_glyph\":null,\"muted_glyph\":null,\"nonselection_glyph\":{\"id\":\"1203\"},\"selection_glyph\":null,\"view\":{\"id\":\"1205\"}},\"id\":\"1204\",\"type\":\"GlyphRenderer\"},{\"attributes\":{\"label\":{\"value\":\" 1/28/20\"},\"renderers\":[{\"id\":\"1204\"}]},\"id\":\"1213\",\"type\":\"LegendItem\"},{\"attributes\":{\"source\":{\"id\":\"1037\"}},\"id\":\"1941\",\"type\":\"CDSView\"},{\"attributes\":{\"code\":\"\\n                                    var labels = {0: 'New South Wales', 1: 'Victoria', 2: 'Queensland', 3: 'South Australia', 4: 'From Diamond Princess', 5: 'Western Australia', 6: 'Tasmania', 7: 'Northern Territory', 8: 'Australian Capital Territory'};\\n                                    return labels[tick];\\n                                    \"},\"id\":\"1071\",\"type\":\"FuncTickFormatter\"},{\"attributes\":{\"callback\":null,\"mode\":\"vline\",\"renderers\":[{\"id\":\"1940\"}],\"tooltips\":[[\"Provinces / States\",\"@__x__values_original\"],[\"3/14/20\",\"@{3/14/20}\"]]},\"id\":\"1950\",\"type\":\"HoverTool\"},{\"attributes\":{},\"id\":\"1041\",\"type\":\"DataRange1d\"},{\"attributes\":{\"label\":{\"value\":\" 3/14/20\"},\"renderers\":[{\"id\":\"1940\"}]},\"id\":\"1949\",\"type\":\"LegendItem\"},{\"attributes\":{\"range\":{\"id\":\"1041\"},\"value\":0.21825396825396826},\"id\":\"2016\",\"type\":\"Dodge\"},{\"attributes\":{\"range\":{\"id\":\"1041\"},\"value\":0.019841269841269826},\"id\":\"1616\",\"type\":\"Dodge\"},{\"attributes\":{\"range\":{\"id\":\"1041\"},\"value\":0.1865079365079365},\"id\":\"1952\",\"type\":\"Dodge\"},{\"attributes\":{},\"id\":\"1057\",\"type\":\"PanTool\"},{\"attributes\":{\"text\":\"Frequency by Days\"},\"id\":\"1039\",\"type\":\"Title\"},{\"attributes\":{\"fill_color\":{\"value\":\"#c7c7c7\"},\"line_color\":{\"value\":\"#c7c7c7\"},\"line_width\":{\"value\":2},\"top\":{\"field\":\"3/15/20\"},\"width\":{\"value\":0.007874015748031496},\"x\":{\"field\":\"__x__values\",\"transform\":{\"id\":\"1952\"}}},\"id\":\"1954\",\"type\":\"VBar\"},{\"attributes\":{},\"id\":\"1058\",\"type\":\"WheelZoomTool\"},{\"attributes\":{\"callback\":null,\"mode\":\"vline\",\"renderers\":[{\"id\":\"1956\"}],\"tooltips\":[[\"Provinces / States\",\"@__x__values_original\"],[\"3/15/20\",\"@{3/15/20}\"]]},\"id\":\"1966\",\"type\":\"HoverTool\"},{\"attributes\":{\"source\":{\"id\":\"1037\"}},\"id\":\"1957\",\"type\":\"CDSView\"},{\"attributes\":{},\"id\":\"1043\",\"type\":\"DataRange1d\"},{\"attributes\":{\"data_source\":{\"id\":\"1037\"},\"glyph\":{\"id\":\"1954\"},\"hover_glyph\":null,\"muted_glyph\":null,\"nonselection_glyph\":{\"id\":\"1955\"},\"selection_glyph\":null,\"view\":{\"id\":\"1957\"}},\"id\":\"1956\",\"type\":\"GlyphRenderer\"},{\"attributes\":{\"fill_alpha\":{\"value\":0.1},\"fill_color\":{\"value\":\"#c7c7c7\"},\"line_alpha\":{\"value\":0.1},\"line_color\":{\"value\":\"#c7c7c7\"},\"line_width\":{\"value\":2},\"top\":{\"field\":\"3/15/20\"},\"width\":{\"value\":0.007874015748031496},\"x\":{\"field\":\"__x__values\",\"transform\":{\"id\":\"1952\"}}},\"id\":\"1955\",\"type\":\"VBar\"},{\"attributes\":{\"label\":{\"value\":\" 3/15/20\"},\"renderers\":[{\"id\":\"1956\"}]},\"id\":\"1965\",\"type\":\"LegendItem\"},{\"attributes\":{\"overlay\":{\"id\":\"1063\"}},\"id\":\"1059\",\"type\":\"BoxZoomTool\"},{\"attributes\":{\"axis\":{\"id\":\"1053\"},\"dimension\":1,\"ticker\":null},\"id\":\"1056\",\"type\":\"Grid\"},{\"attributes\":{},\"id\":\"1045\",\"type\":\"LinearScale\"},{\"attributes\":{\"range\":{\"id\":\"1041\"},\"value\":0.19444444444444442},\"id\":\"1968\",\"type\":\"Dodge\"},{\"attributes\":{},\"id\":\"1047\",\"type\":\"LinearScale\"},{\"attributes\":{\"fill_color\":{\"value\":\"#bcbd22\"},\"line_color\":{\"value\":\"#bcbd22\"},\"line_width\":{\"value\":2},\"top\":{\"field\":\"3/16/20\"},\"width\":{\"value\":0.007874015748031496},\"x\":{\"field\":\"__x__values\",\"transform\":{\"id\":\"1968\"}}},\"id\":\"1970\",\"type\":\"VBar\"},{\"attributes\":{},\"id\":\"1060\",\"type\":\"SaveTool\"},{\"attributes\":{\"axis_label\":\"Provinces / States\",\"formatter\":{\"id\":\"1071\"},\"ticker\":{\"id\":\"2096\"}},\"id\":\"1049\",\"type\":\"LinearAxis\"},{\"attributes\":{\"fill_alpha\":{\"value\":0.1},\"fill_color\":{\"value\":\"#bcbd22\"},\"line_alpha\":{\"value\":0.1},\"line_color\":{\"value\":\"#bcbd22\"},\"line_width\":{\"value\":2},\"top\":{\"field\":\"2/25/20\"},\"width\":{\"value\":0.007874015748031496},\"x\":{\"field\":\"__x__values\",\"transform\":{\"id\":\"1648\"}}},\"id\":\"1651\",\"type\":\"VBar\"},{\"attributes\":{\"callback\":null,\"mode\":\"vline\",\"renderers\":[{\"id\":\"1972\"}],\"tooltips\":[[\"Provinces / States\",\"@__x__values_original\"],[\"3/16/20\",\"@{3/16/20}\"]]},\"id\":\"1982\",\"type\":\"HoverTool\"},{\"attributes\":{\"source\":{\"id\":\"1037\"}},\"id\":\"1973\",\"type\":\"CDSView\"},{\"attributes\":{\"data_source\":{\"id\":\"1037\"},\"glyph\":{\"id\":\"1970\"},\"hover_glyph\":null,\"muted_glyph\":null,\"nonselection_glyph\":{\"id\":\"1971\"},\"selection_glyph\":null,\"view\":{\"id\":\"1973\"}},\"id\":\"1972\",\"type\":\"GlyphRenderer\"},{\"attributes\":{},\"id\":\"1061\",\"type\":\"ResetTool\"},{\"attributes\":{\"axis\":{\"id\":\"1049\"},\"ticker\":null},\"id\":\"1052\",\"type\":\"Grid\"},{\"attributes\":{\"fill_alpha\":{\"value\":0.1},\"fill_color\":{\"value\":\"#bcbd22\"},\"line_alpha\":{\"value\":0.1},\"line_color\":{\"value\":\"#bcbd22\"},\"line_width\":{\"value\":2},\"top\":{\"field\":\"3/16/20\"},\"width\":{\"value\":0.007874015748031496},\"x\":{\"field\":\"__x__values\",\"transform\":{\"id\":\"1968\"}}},\"id\":\"1971\",\"type\":\"VBar\"},{\"attributes\":{\"label\":{\"value\":\" 3/16/20\"},\"renderers\":[{\"id\":\"1972\"}]},\"id\":\"1981\",\"type\":\"LegendItem\"},{\"attributes\":{\"label\":{\"value\":\" 3/18/20\"},\"renderers\":[{\"id\":\"2004\"}]},\"id\":\"2013\",\"type\":\"LegendItem\"},{\"attributes\":{},\"id\":\"1054\",\"type\":\"BasicTicker\"},{\"attributes\":{\"range\":{\"id\":\"1041\"},\"value\":0.20238095238095233},\"id\":\"1984\",\"type\":\"Dodge\"},{\"attributes\":{\"axis_label\":\"Frequency\",\"formatter\":{\"id\":\"1081\"},\"ticker\":{\"id\":\"1054\"}},\"id\":\"1053\",\"type\":\"LinearAxis\"},{\"attributes\":{\"range\":{\"id\":\"1041\"},\"value\":-0.25},\"id\":\"1073\",\"type\":\"Dodge\"},{\"attributes\":{\"fill_color\":{\"value\":\"#dbdb8d\"},\"line_color\":{\"value\":\"#dbdb8d\"},\"line_width\":{\"value\":2},\"top\":{\"field\":\"3/17/20\"},\"width\":{\"value\":0.007874015748031496},\"x\":{\"field\":\"__x__values\",\"transform\":{\"id\":\"1984\"}}},\"id\":\"1986\",\"type\":\"VBar\"},{\"attributes\":{},\"id\":\"1062\",\"type\":\"HelpTool\"},{\"attributes\":{\"callback\":null,\"mode\":\"vline\",\"renderers\":[{\"id\":\"1988\"}],\"tooltips\":[[\"Provinces / States\",\"@__x__values_original\"],[\"3/17/20\",\"@{3/17/20}\"]]},\"id\":\"1998\",\"type\":\"HoverTool\"},{\"attributes\":{\"range\":{\"id\":\"1041\"},\"value\":0.2103174603174603},\"id\":\"2000\",\"type\":\"Dodge\"},{\"attributes\":{\"source\":{\"id\":\"1037\"}},\"id\":\"1989\",\"type\":\"CDSView\"},{\"attributes\":{\"fill_color\":{\"value\":\"#1f77b4\"},\"line_color\":{\"value\":\"#1f77b4\"},\"line_width\":{\"value\":2},\"top\":{\"field\":\"Lat\"},\"width\":{\"value\":0.007874015748031496},\"x\":{\"field\":\"__x__values\",\"transform\":{\"id\":\"1073\"}}},\"id\":\"1075\",\"type\":\"VBar\"},{\"attributes\":{\"data_source\":{\"id\":\"1037\"},\"glyph\":{\"id\":\"1986\"},\"hover_glyph\":null,\"muted_glyph\":null,\"nonselection_glyph\":{\"id\":\"1987\"},\"selection_glyph\":null,\"view\":{\"id\":\"1989\"}},\"id\":\"1988\",\"type\":\"GlyphRenderer\"},{\"attributes\":{\"fill_alpha\":{\"value\":0.1},\"fill_color\":{\"value\":\"#dbdb8d\"},\"line_alpha\":{\"value\":0.1},\"line_color\":{\"value\":\"#dbdb8d\"},\"line_width\":{\"value\":2},\"top\":{\"field\":\"3/17/20\"},\"width\":{\"value\":0.007874015748031496},\"x\":{\"field\":\"__x__values\",\"transform\":{\"id\":\"1984\"}}},\"id\":\"1987\",\"type\":\"VBar\"},{\"attributes\":{\"active_drag\":\"auto\",\"active_inspect\":\"auto\",\"active_multi\":null,\"active_scroll\":{\"id\":\"1058\"},\"active_tap\":\"auto\",\"tools\":[{\"id\":\"1057\"},{\"id\":\"1058\"},{\"id\":\"1059\"},{\"id\":\"1060\"},{\"id\":\"1061\"},{\"id\":\"1062\"},{\"id\":\"1086\"},{\"id\":\"1102\"},{\"id\":\"1118\"},{\"id\":\"1134\"},{\"id\":\"1150\"},{\"id\":\"1166\"},{\"id\":\"1182\"},{\"id\":\"1198\"},{\"id\":\"1214\"},{\"id\":\"1230\"},{\"id\":\"1246\"},{\"id\":\"1262\"},{\"id\":\"1278\"},{\"id\":\"1294\"},{\"id\":\"1310\"},{\"id\":\"1326\"},{\"id\":\"1342\"},{\"id\":\"1358\"},{\"id\":\"1374\"},{\"id\":\"1390\"},{\"id\":\"1406\"},{\"id\":\"1422\"},{\"id\":\"1438\"},{\"id\":\"1454\"},{\"id\":\"1470\"},{\"id\":\"1486\"},{\"id\":\"1502\"},{\"id\":\"1518\"},{\"id\":\"1534\"},{\"id\":\"1550\"},{\"id\":\"1566\"},{\"id\":\"1582\"},{\"id\":\"1598\"},{\"id\":\"1614\"},{\"id\":\"1630\"},{\"id\":\"1646\"},{\"id\":\"1662\"},{\"id\":\"1678\"},{\"id\":\"1694\"},{\"id\":\"1710\"},{\"id\":\"1726\"},{\"id\":\"1742\"},{\"id\":\"1758\"},{\"id\":\"1774\"},{\"id\":\"1790\"},{\"id\":\"1806\"},{\"id\":\"1822\"},{\"id\":\"1838\"},{\"id\":\"1854\"},{\"id\":\"1870\"},{\"id\":\"1886\"},{\"id\":\"1902\"},{\"id\":\"1918\"},{\"id\":\"1934\"},{\"id\":\"1950\"},{\"id\":\"1966\"},{\"id\":\"1982\"},{\"id\":\"1998\"},{\"id\":\"2014\"},{\"id\":\"2030\"},{\"id\":\"2046\"},{\"id\":\"2062\"},{\"id\":\"2078\"},{\"id\":\"2094\"}]},\"id\":\"1064\",\"type\":\"Toolbar\"},{\"attributes\":{\"label\":{\"value\":\" 3/17/20\"},\"renderers\":[{\"id\":\"1988\"}]},\"id\":\"1997\",\"type\":\"LegendItem\"},{\"attributes\":{\"data_source\":{\"id\":\"1037\"},\"glyph\":{\"id\":\"1154\"},\"hover_glyph\":null,\"muted_glyph\":null,\"nonselection_glyph\":{\"id\":\"1155\"},\"selection_glyph\":null,\"view\":{\"id\":\"1157\"}},\"id\":\"1156\",\"type\":\"GlyphRenderer\"},{\"attributes\":{\"callback\":null,\"mode\":\"vline\",\"renderers\":[{\"id\":\"2020\"}],\"tooltips\":[[\"Provinces / States\",\"@__x__values_original\"],[\"3/19/20\",\"@{3/19/20}\"]]},\"id\":\"2030\",\"type\":\"HoverTool\"},{\"attributes\":{\"source\":{\"id\":\"1037\"}},\"id\":\"1173\",\"type\":\"CDSView\"},{\"attributes\":{\"fill_alpha\":{\"value\":0.1},\"fill_color\":{\"value\":\"#98df8a\"},\"line_alpha\":{\"value\":0.1},\"line_color\":{\"value\":\"#98df8a\"},\"line_width\":{\"value\":2},\"top\":{\"field\":\"1/25/20\"},\"width\":{\"value\":0.007874015748031496},\"x\":{\"field\":\"__x__values\",\"transform\":{\"id\":\"1152\"}}},\"id\":\"1155\",\"type\":\"VBar\"},{\"attributes\":{\"data_source\":{\"id\":\"1037\"},\"glyph\":{\"id\":\"1698\"},\"hover_glyph\":null,\"muted_glyph\":null,\"nonselection_glyph\":{\"id\":\"1699\"},\"selection_glyph\":null,\"view\":{\"id\":\"1701\"}},\"id\":\"1700\",\"type\":\"GlyphRenderer\"},{\"attributes\":{\"fill_color\":{\"value\":\"#17becf\"},\"line_color\":{\"value\":\"#17becf\"},\"line_width\":{\"value\":2},\"top\":{\"field\":\"3/18/20\"},\"width\":{\"value\":0.007874015748031496},\"x\":{\"field\":\"__x__values\",\"transform\":{\"id\":\"2000\"}}},\"id\":\"2002\",\"type\":\"VBar\"},{\"attributes\":{\"source\":{\"id\":\"1037\"}},\"id\":\"1685\",\"type\":\"CDSView\"},{\"attributes\":{\"data_source\":{\"id\":\"1037\"},\"glyph\":{\"id\":\"1682\"},\"hover_glyph\":null,\"muted_glyph\":null,\"nonselection_glyph\":{\"id\":\"1683\"},\"selection_glyph\":null,\"view\":{\"id\":\"1685\"}},\"id\":\"1684\",\"type\":\"GlyphRenderer\"},{\"attributes\":{\"callback\":null,\"mode\":\"vline\",\"renderers\":[{\"id\":\"1684\"}],\"tooltips\":[[\"Provinces / States\",\"@__x__values_original\"],[\"2/27/20\",\"@{2/27/20}\"]]},\"id\":\"1694\",\"type\":\"HoverTool\"},{\"attributes\":{\"label\":{\"value\":\" 1/25/20\"},\"renderers\":[{\"id\":\"1156\"}]},\"id\":\"1165\",\"type\":\"LegendItem\"},{\"attributes\":{\"fill_alpha\":{\"value\":0.1},\"fill_color\":{\"value\":\"#17becf\"},\"line_alpha\":{\"value\":0.1},\"line_color\":{\"value\":\"#17becf\"},\"line_width\":{\"value\":2},\"top\":{\"field\":\"2/27/20\"},\"width\":{\"value\":0.007874015748031496},\"x\":{\"field\":\"__x__values\",\"transform\":{\"id\":\"1680\"}}},\"id\":\"1683\",\"type\":\"VBar\"},{\"attributes\":{\"fill_color\":{\"value\":\"#9edae5\"},\"line_color\":{\"value\":\"#9edae5\"},\"line_width\":{\"value\":2},\"top\":{\"field\":\"3/19/20\"},\"width\":{\"value\":0.007874015748031496},\"x\":{\"field\":\"__x__values\",\"transform\":{\"id\":\"2016\"}}},\"id\":\"2018\",\"type\":\"VBar\"},{\"attributes\":{\"label\":{\"value\":\" 2/27/20\"},\"renderers\":[{\"id\":\"1684\"}]},\"id\":\"1693\",\"type\":\"LegendItem\"},{\"attributes\":{\"source\":{\"id\":\"1037\"}},\"id\":\"1701\",\"type\":\"CDSView\"},{\"attributes\":{\"source\":{\"id\":\"1037\"}},\"id\":\"2005\",\"type\":\"CDSView\"},{\"attributes\":{\"data_source\":{\"id\":\"1037\"},\"glyph\":{\"id\":\"2002\"},\"hover_glyph\":null,\"muted_glyph\":null,\"nonselection_glyph\":{\"id\":\"2003\"},\"selection_glyph\":null,\"view\":{\"id\":\"2005\"}},\"id\":\"2004\",\"type\":\"GlyphRenderer\"},{\"attributes\":{\"callback\":null,\"mode\":\"vline\",\"renderers\":[{\"id\":\"1204\"}],\"tooltips\":[[\"Provinces / States\",\"@__x__values_original\"],[\"1/28/20\",\"@{1/28/20}\"]]},\"id\":\"1214\",\"type\":\"HoverTool\"},{\"attributes\":{\"callback\":null,\"mode\":\"vline\",\"renderers\":[{\"id\":\"1700\"}],\"tooltips\":[[\"Provinces / States\",\"@__x__values_original\"],[\"2/28/20\",\"@{2/28/20}\"]]},\"id\":\"1710\",\"type\":\"HoverTool\"},{\"attributes\":{\"fill_alpha\":{\"value\":0.1},\"fill_color\":{\"value\":\"#9edae5\"},\"line_alpha\":{\"value\":0.1},\"line_color\":{\"value\":\"#9edae5\"},\"line_width\":{\"value\":2},\"top\":{\"field\":\"2/28/20\"},\"width\":{\"value\":0.007874015748031496},\"x\":{\"field\":\"__x__values\",\"transform\":{\"id\":\"1696\"}}},\"id\":\"1699\",\"type\":\"VBar\"},{\"attributes\":{\"fill_alpha\":{\"value\":0.1},\"fill_color\":{\"value\":\"#17becf\"},\"line_alpha\":{\"value\":0.1},\"line_color\":{\"value\":\"#17becf\"},\"line_width\":{\"value\":2},\"top\":{\"field\":\"3/18/20\"},\"width\":{\"value\":0.007874015748031496},\"x\":{\"field\":\"__x__values\",\"transform\":{\"id\":\"2000\"}}},\"id\":\"2003\",\"type\":\"VBar\"},{\"attributes\":{\"fill_alpha\":{\"value\":0.1},\"fill_color\":{\"value\":\"#2ca02c\"},\"line_alpha\":{\"value\":0.1},\"line_color\":{\"value\":\"#2ca02c\"},\"line_width\":{\"value\":2},\"top\":{\"field\":\"1/24/20\"},\"width\":{\"value\":0.007874015748031496},\"x\":{\"field\":\"__x__values\",\"transform\":{\"id\":\"1136\"}}},\"id\":\"1139\",\"type\":\"VBar\"},{\"attributes\":{\"source\":{\"id\":\"1037\"}},\"id\":\"1141\",\"type\":\"CDSView\"},{\"attributes\":{\"label\":{\"value\":\" 2/28/20\"},\"renderers\":[{\"id\":\"1700\"}]},\"id\":\"1709\",\"type\":\"LegendItem\"},{\"attributes\":{\"source\":{\"id\":\"1037\"}},\"id\":\"2021\",\"type\":\"CDSView\"},{\"attributes\":{\"data_source\":{\"id\":\"1037\"},\"glyph\":{\"id\":\"2018\"},\"hover_glyph\":null,\"muted_glyph\":null,\"nonselection_glyph\":{\"id\":\"2019\"},\"selection_glyph\":null,\"view\":{\"id\":\"2021\"}},\"id\":\"2020\",\"type\":\"GlyphRenderer\"},{\"attributes\":{\"data_source\":{\"id\":\"1037\"},\"glyph\":{\"id\":\"1138\"},\"hover_glyph\":null,\"muted_glyph\":null,\"nonselection_glyph\":{\"id\":\"1139\"},\"selection_glyph\":null,\"view\":{\"id\":\"1141\"}},\"id\":\"1140\",\"type\":\"GlyphRenderer\"},{\"attributes\":{\"fill_alpha\":{\"value\":0.1},\"fill_color\":{\"value\":\"#9edae5\"},\"line_alpha\":{\"value\":0.1},\"line_color\":{\"value\":\"#9edae5\"},\"line_width\":{\"value\":2},\"top\":{\"field\":\"3/19/20\"},\"width\":{\"value\":0.007874015748031496},\"x\":{\"field\":\"__x__values\",\"transform\":{\"id\":\"2016\"}}},\"id\":\"2019\",\"type\":\"VBar\"},{\"attributes\":{\"range\":{\"id\":\"1041\"},\"value\":0.06746031746031744},\"id\":\"1712\",\"type\":\"Dodge\"},{\"attributes\":{\"label\":{\"value\":\" 1/27/20\"},\"renderers\":[{\"id\":\"1188\"}]},\"id\":\"1197\",\"type\":\"LegendItem\"},{\"attributes\":{\"label\":{\"value\":\" 3/19/20\"},\"renderers\":[{\"id\":\"2020\"}]},\"id\":\"2029\",\"type\":\"LegendItem\"},{\"attributes\":{\"ticks\":[0,1,2,3,4,5,6,7,8]},\"id\":\"2096\",\"type\":\"FixedTicker\"},{\"attributes\":{\"fill_color\":{\"value\":\"#1f77b4\"},\"line_color\":{\"value\":\"#1f77b4\"},\"line_width\":{\"value\":2},\"top\":{\"field\":\"2/29/20\"},\"width\":{\"value\":0.007874015748031496},\"x\":{\"field\":\"__x__values\",\"transform\":{\"id\":\"1712\"}}},\"id\":\"1714\",\"type\":\"VBar\"},{\"attributes\":{\"label\":{\"value\":\" 1/24/20\"},\"renderers\":[{\"id\":\"1140\"}]},\"id\":\"1149\",\"type\":\"LegendItem\"},{\"attributes\":{\"callback\":null,\"mode\":\"vline\",\"renderers\":[{\"id\":\"2084\"}],\"tooltips\":[[\"Provinces / States\",\"@__x__values_original\"],[\"3/23/20\",\"@{3/23/20}\"]]},\"id\":\"2094\",\"type\":\"HoverTool\"},{\"attributes\":{\"range\":{\"id\":\"1041\"},\"value\":-0.20238095238095238},\"id\":\"1168\",\"type\":\"Dodge\"},{\"attributes\":{\"callback\":null,\"mode\":\"vline\",\"renderers\":[{\"id\":\"1140\"}],\"tooltips\":[[\"Provinces / States\",\"@__x__values_original\"],[\"1/24/20\",\"@{1/24/20}\"]]},\"id\":\"1150\",\"type\":\"HoverTool\"},{\"attributes\":{\"range\":{\"id\":\"1041\"},\"value\":0.22619047619047616},\"id\":\"2032\",\"type\":\"Dodge\"},{\"attributes\":{\"fill_color\":{\"value\":\"#1f77b4\"},\"line_color\":{\"value\":\"#1f77b4\"},\"line_width\":{\"value\":2},\"top\":{\"field\":\"3/20/20\"},\"width\":{\"value\":0.007874015748031496},\"x\":{\"field\":\"__x__values\",\"transform\":{\"id\":\"2032\"}}},\"id\":\"2034\",\"type\":\"VBar\"},{\"attributes\":{\"data_source\":{\"id\":\"1037\"},\"glyph\":{\"id\":\"1186\"},\"hover_glyph\":null,\"muted_glyph\":null,\"nonselection_glyph\":{\"id\":\"1187\"},\"selection_glyph\":null,\"view\":{\"id\":\"1189\"}},\"id\":\"1188\",\"type\":\"GlyphRenderer\"},{\"attributes\":{\"callback\":null,\"mode\":\"vline\",\"renderers\":[{\"id\":\"1716\"}],\"tooltips\":[[\"Provinces / States\",\"@__x__values_original\"],[\"2/29/20\",\"@{2/29/20}\"]]},\"id\":\"1726\",\"type\":\"HoverTool\"},{\"attributes\":{\"source\":{\"id\":\"1037\"}},\"id\":\"1717\",\"type\":\"CDSView\"},{\"attributes\":{\"source\":{\"id\":\"1037\"}},\"id\":\"1189\",\"type\":\"CDSView\"},{\"attributes\":{\"data_source\":{\"id\":\"1037\"},\"glyph\":{\"id\":\"1714\"},\"hover_glyph\":null,\"muted_glyph\":null,\"nonselection_glyph\":{\"id\":\"1715\"},\"selection_glyph\":null,\"view\":{\"id\":\"1717\"}},\"id\":\"1716\",\"type\":\"GlyphRenderer\"},{\"attributes\":{\"fill_alpha\":{\"value\":0.1},\"fill_color\":{\"value\":\"#1f77b4\"},\"line_alpha\":{\"value\":0.1},\"line_color\":{\"value\":\"#1f77b4\"},\"line_width\":{\"value\":2},\"top\":{\"field\":\"2/29/20\"},\"width\":{\"value\":0.007874015748031496},\"x\":{\"field\":\"__x__values\",\"transform\":{\"id\":\"1712\"}}},\"id\":\"1715\",\"type\":\"VBar\"},{\"attributes\":{\"fill_color\":{\"value\":\"#d62728\"},\"line_color\":{\"value\":\"#d62728\"},\"line_width\":{\"value\":2},\"top\":{\"field\":\"1/26/20\"},\"width\":{\"value\":0.007874015748031496},\"x\":{\"field\":\"__x__values\",\"transform\":{\"id\":\"1168\"}}},\"id\":\"1170\",\"type\":\"VBar\"},{\"attributes\":{\"fill_alpha\":{\"value\":0.1},\"fill_color\":{\"value\":\"#dbdb8d\"},\"line_alpha\":{\"value\":0.1},\"line_color\":{\"value\":\"#dbdb8d\"},\"line_width\":{\"value\":2},\"top\":{\"field\":\"2/26/20\"},\"width\":{\"value\":0.007874015748031496},\"x\":{\"field\":\"__x__values\",\"transform\":{\"id\":\"1664\"}}},\"id\":\"1667\",\"type\":\"VBar\"},{\"attributes\":{\"callback\":null,\"mode\":\"vline\",\"renderers\":[{\"id\":\"2036\"}],\"tooltips\":[[\"Provinces / States\",\"@__x__values_original\"],[\"3/20/20\",\"@{3/20/20}\"]]},\"id\":\"2046\",\"type\":\"HoverTool\"},{\"attributes\":{\"label\":{\"value\":\" 2/29/20\"},\"renderers\":[{\"id\":\"1716\"}]},\"id\":\"1725\",\"type\":\"LegendItem\"},{\"attributes\":{\"source\":{\"id\":\"1037\"}},\"id\":\"2037\",\"type\":\"CDSView\"},{\"attributes\":{\"range\":{\"id\":\"1041\"},\"value\":-0.21031746031746032},\"id\":\"1152\",\"type\":\"Dodge\"},{\"attributes\":{\"data_source\":{\"id\":\"1037\"},\"glyph\":{\"id\":\"2034\"},\"hover_glyph\":null,\"muted_glyph\":null,\"nonselection_glyph\":{\"id\":\"2035\"},\"selection_glyph\":null,\"view\":{\"id\":\"2037\"}},\"id\":\"2036\",\"type\":\"GlyphRenderer\"},{\"attributes\":{\"range\":{\"id\":\"1041\"},\"value\":0.09920634920634919},\"id\":\"1776\",\"type\":\"Dodge\"},{\"attributes\":{\"fill_alpha\":{\"value\":0.1},\"fill_color\":{\"value\":\"#1f77b4\"},\"line_alpha\":{\"value\":0.1},\"line_color\":{\"value\":\"#1f77b4\"},\"line_width\":{\"value\":2},\"top\":{\"field\":\"3/20/20\"},\"width\":{\"value\":0.007874015748031496},\"x\":{\"field\":\"__x__values\",\"transform\":{\"id\":\"2032\"}}},\"id\":\"2035\",\"type\":\"VBar\"},{\"attributes\":{\"range\":{\"id\":\"1041\"},\"value\":0.07539682539682535},\"id\":\"1728\",\"type\":\"Dodge\"},{\"attributes\":{\"label\":{\"value\":\" 3/20/20\"},\"renderers\":[{\"id\":\"2036\"}]},\"id\":\"2045\",\"type\":\"LegendItem\"},{\"attributes\":{\"label\":{\"value\":\" 3/23/20\"},\"renderers\":[{\"id\":\"2084\"}]},\"id\":\"2093\",\"type\":\"LegendItem\"},{\"attributes\":{\"fill_color\":{\"value\":\"#98df8a\"},\"line_color\":{\"value\":\"#98df8a\"},\"line_width\":{\"value\":2},\"top\":{\"field\":\"1/25/20\"},\"width\":{\"value\":0.007874015748031496},\"x\":{\"field\":\"__x__values\",\"transform\":{\"id\":\"1152\"}}},\"id\":\"1154\",\"type\":\"VBar\"},{\"attributes\":{\"fill_color\":{\"value\":\"#aec7e8\"},\"line_color\":{\"value\":\"#aec7e8\"},\"line_width\":{\"value\":2},\"top\":{\"field\":\"3/1/20\"},\"width\":{\"value\":0.007874015748031496},\"x\":{\"field\":\"__x__values\",\"transform\":{\"id\":\"1728\"}}},\"id\":\"1730\",\"type\":\"VBar\"},{\"attributes\":{\"range\":{\"id\":\"1041\"},\"value\":0.23412698412698407},\"id\":\"2048\",\"type\":\"Dodge\"},{\"attributes\":{\"label\":{\"value\":\" 1/26/20\"},\"renderers\":[{\"id\":\"1172\"}]},\"id\":\"1181\",\"type\":\"LegendItem\"},{\"attributes\":{\"fill_color\":{\"value\":\"#aec7e8\"},\"line_color\":{\"value\":\"#aec7e8\"},\"line_width\":{\"value\":2},\"top\":{\"field\":\"3/21/20\"},\"width\":{\"value\":0.007874015748031496},\"x\":{\"field\":\"__x__values\",\"transform\":{\"id\":\"2048\"}}},\"id\":\"2050\",\"type\":\"VBar\"},{\"attributes\":{\"callback\":null,\"mode\":\"vline\",\"renderers\":[{\"id\":\"1732\"}],\"tooltips\":[[\"Provinces / States\",\"@__x__values_original\"],[\"3/1/20\",\"@{3/1/20}\"]]},\"id\":\"1742\",\"type\":\"HoverTool\"},{\"attributes\":{\"range\":{\"id\":\"1041\"},\"value\":0.24206349206349204},\"id\":\"2064\",\"type\":\"Dodge\"},{\"attributes\":{\"source\":{\"id\":\"1037\"}},\"id\":\"1733\",\"type\":\"CDSView\"},{\"attributes\":{\"data_source\":{\"id\":\"1037\"},\"glyph\":{\"id\":\"1730\"},\"hover_glyph\":null,\"muted_glyph\":null,\"nonselection_glyph\":{\"id\":\"1731\"},\"selection_glyph\":null,\"view\":{\"id\":\"1733\"}},\"id\":\"1732\",\"type\":\"GlyphRenderer\"},{\"attributes\":{\"fill_alpha\":{\"value\":0.1},\"fill_color\":{\"value\":\"#aec7e8\"},\"line_alpha\":{\"value\":0.1},\"line_color\":{\"value\":\"#aec7e8\"},\"line_width\":{\"value\":2},\"top\":{\"field\":\"3/1/20\"},\"width\":{\"value\":0.007874015748031496},\"x\":{\"field\":\"__x__values\",\"transform\":{\"id\":\"1728\"}}},\"id\":\"1731\",\"type\":\"VBar\"},{\"attributes\":{\"fill_alpha\":{\"value\":0.1},\"fill_color\":{\"value\":\"#d62728\"},\"line_alpha\":{\"value\":0.1},\"line_color\":{\"value\":\"#d62728\"},\"line_width\":{\"value\":2},\"top\":{\"field\":\"1/26/20\"},\"width\":{\"value\":0.007874015748031496},\"x\":{\"field\":\"__x__values\",\"transform\":{\"id\":\"1168\"}}},\"id\":\"1171\",\"type\":\"VBar\"},{\"attributes\":{\"label\":{\"value\":\" 3/1/20\"},\"renderers\":[{\"id\":\"1732\"}]},\"id\":\"1741\",\"type\":\"LegendItem\"},{\"attributes\":{\"fill_color\":{\"value\":\"#ff7f0e\"},\"line_color\":{\"value\":\"#ff7f0e\"},\"line_width\":{\"value\":2},\"top\":{\"field\":\"3/2/20\"},\"width\":{\"value\":0.007874015748031496},\"x\":{\"field\":\"__x__values\",\"transform\":{\"id\":\"1744\"}}},\"id\":\"1746\",\"type\":\"VBar\"},{\"attributes\":{\"source\":{\"id\":\"1037\"}},\"id\":\"2053\",\"type\":\"CDSView\"},{\"attributes\":{\"callback\":null,\"mode\":\"vline\",\"renderers\":[{\"id\":\"1156\"}],\"tooltips\":[[\"Provinces / States\",\"@__x__values_original\"],[\"1/25/20\",\"@{1/25/20}\"]]},\"id\":\"1166\",\"type\":\"HoverTool\"},{\"attributes\":{\"callback\":null,\"mode\":\"vline\",\"renderers\":[{\"id\":\"1172\"}],\"tooltips\":[[\"Provinces / States\",\"@__x__values_original\"],[\"1/26/20\",\"@{1/26/20}\"]]},\"id\":\"1182\",\"type\":\"HoverTool\"},{\"attributes\":{\"data_source\":{\"id\":\"1037\"},\"glyph\":{\"id\":\"2050\"},\"hover_glyph\":null,\"muted_glyph\":null,\"nonselection_glyph\":{\"id\":\"2051\"},\"selection_glyph\":null,\"view\":{\"id\":\"2053\"}},\"id\":\"2052\",\"type\":\"GlyphRenderer\"},{\"attributes\":{\"source\":{\"id\":\"1037\"}},\"id\":\"1157\",\"type\":\"CDSView\"},{\"attributes\":{\"fill_alpha\":{\"value\":0.1},\"fill_color\":{\"value\":\"#aec7e8\"},\"line_alpha\":{\"value\":0.1},\"line_color\":{\"value\":\"#aec7e8\"},\"line_width\":{\"value\":2},\"top\":{\"field\":\"3/21/20\"},\"width\":{\"value\":0.007874015748031496},\"x\":{\"field\":\"__x__values\",\"transform\":{\"id\":\"2048\"}}},\"id\":\"2051\",\"type\":\"VBar\"},{\"attributes\":{\"range\":{\"id\":\"1041\"},\"value\":0.08333333333333331},\"id\":\"1744\",\"type\":\"Dodge\"},{\"attributes\":{\"label\":{\"value\":\" 3/21/20\"},\"renderers\":[{\"id\":\"2052\"}]},\"id\":\"2061\",\"type\":\"LegendItem\"},{\"attributes\":{\"callback\":null,\"mode\":\"vline\",\"renderers\":[{\"id\":\"2052\"}],\"tooltips\":[[\"Provinces / States\",\"@__x__values_original\"],[\"3/21/20\",\"@{3/21/20}\"]]},\"id\":\"2062\",\"type\":\"HoverTool\"},{\"attributes\":{\"label\":{\"value\":\" 3/3/20\"},\"renderers\":[{\"id\":\"1764\"}]},\"id\":\"1773\",\"type\":\"LegendItem\"},{\"attributes\":{\"range\":{\"id\":\"1041\"},\"value\":-0.19444444444444445},\"id\":\"1184\",\"type\":\"Dodge\"},{\"attributes\":{\"data_source\":{\"id\":\"1037\"},\"glyph\":{\"id\":\"1170\"},\"hover_glyph\":null,\"muted_glyph\":null,\"nonselection_glyph\":{\"id\":\"1171\"},\"selection_glyph\":null,\"view\":{\"id\":\"1173\"}},\"id\":\"1172\",\"type\":\"GlyphRenderer\"},{\"attributes\":{\"data_source\":{\"id\":\"1037\"},\"glyph\":{\"id\":\"1362\"},\"hover_glyph\":null,\"muted_glyph\":null,\"nonselection_glyph\":{\"id\":\"1363\"},\"selection_glyph\":null,\"view\":{\"id\":\"1365\"}},\"id\":\"1364\",\"type\":\"GlyphRenderer\"},{\"attributes\":{\"source\":{\"id\":\"1037\"}},\"id\":\"1429\",\"type\":\"CDSView\"},{\"attributes\":{\"source\":{\"id\":\"1037\"}},\"id\":\"1365\",\"type\":\"CDSView\"},{\"attributes\":{\"fill_color\":{\"value\":\"#ff7f0e\"},\"line_color\":{\"value\":\"#ff7f0e\"},\"line_width\":{\"value\":2},\"top\":{\"field\":\"3/22/20\"},\"width\":{\"value\":0.007874015748031496},\"x\":{\"field\":\"__x__values\",\"transform\":{\"id\":\"2064\"}}},\"id\":\"2066\",\"type\":\"VBar\"},{\"attributes\":{\"source\":{\"id\":\"1037\"}},\"id\":\"1381\",\"type\":\"CDSView\"},{\"attributes\":{\"callback\":null,\"mode\":\"vline\",\"renderers\":[{\"id\":\"1428\"}],\"tooltips\":[[\"Provinces / States\",\"@__x__values_original\"],[\"2/11/20\",\"@{2/11/20}\"]]},\"id\":\"1438\",\"type\":\"HoverTool\"},{\"attributes\":{\"fill_alpha\":{\"value\":0.1},\"fill_color\":{\"value\":\"#17becf\"},\"line_alpha\":{\"value\":0.1},\"line_color\":{\"value\":\"#17becf\"},\"line_width\":{\"value\":2},\"top\":{\"field\":\"2/7/20\"},\"width\":{\"value\":0.007874015748031496},\"x\":{\"field\":\"__x__values\",\"transform\":{\"id\":\"1360\"}}},\"id\":\"1363\",\"type\":\"VBar\"},{\"attributes\":{\"label\":{\"value\":\" 2/11/20\"},\"renderers\":[{\"id\":\"1428\"}]},\"id\":\"1437\",\"type\":\"LegendItem\"},{\"attributes\":{\"source\":{\"id\":\"1037\"}},\"id\":\"1078\",\"type\":\"CDSView\"},{\"attributes\":{\"data_source\":{\"id\":\"1037\"},\"glyph\":{\"id\":\"1378\"},\"hover_glyph\":null,\"muted_glyph\":null,\"nonselection_glyph\":{\"id\":\"1379\"},\"selection_glyph\":null,\"view\":{\"id\":\"1381\"}},\"id\":\"1380\",\"type\":\"GlyphRenderer\"},{\"attributes\":{\"callback\":null,\"mode\":\"vline\",\"renderers\":[{\"id\":\"2068\"}],\"tooltips\":[[\"Provinces / States\",\"@__x__values_original\"],[\"3/22/20\",\"@{3/22/20}\"]]},\"id\":\"2078\",\"type\":\"HoverTool\"},{\"attributes\":{\"source\":{\"id\":\"1037\"}},\"id\":\"2069\",\"type\":\"CDSView\"},{\"attributes\":{\"callback\":null,\"mode\":\"vline\",\"renderers\":[{\"id\":\"1380\"}],\"tooltips\":[[\"Provinces / States\",\"@__x__values_original\"],[\"2/8/20\",\"@{2/8/20}\"]]},\"id\":\"1390\",\"type\":\"HoverTool\"},{\"attributes\":{\"range\":{\"id\":\"1041\"},\"value\":-0.06746031746031747},\"id\":\"1440\",\"type\":\"Dodge\"},{\"attributes\":{\"fill_alpha\":{\"value\":0.1},\"fill_color\":{\"value\":\"#9edae5\"},\"line_alpha\":{\"value\":0.1},\"line_color\":{\"value\":\"#9edae5\"},\"line_width\":{\"value\":2},\"top\":{\"field\":\"2/8/20\"},\"width\":{\"value\":0.007874015748031496},\"x\":{\"field\":\"__x__values\",\"transform\":{\"id\":\"1376\"}}},\"id\":\"1379\",\"type\":\"VBar\"},{\"attributes\":{\"data_source\":{\"id\":\"1037\"},\"glyph\":{\"id\":\"2066\"},\"hover_glyph\":null,\"muted_glyph\":null,\"nonselection_glyph\":{\"id\":\"2067\"},\"selection_glyph\":null,\"view\":{\"id\":\"2069\"}},\"id\":\"2068\",\"type\":\"GlyphRenderer\"},{\"attributes\":{\"fill_color\":{\"value\":\"#ffbb78\"},\"line_color\":{\"value\":\"#ffbb78\"},\"line_width\":{\"value\":2},\"top\":{\"field\":\"2/12/20\"},\"width\":{\"value\":0.007874015748031496},\"x\":{\"field\":\"__x__values\",\"transform\":{\"id\":\"1440\"}}},\"id\":\"1442\",\"type\":\"VBar\"},{\"attributes\":{\"fill_alpha\":{\"value\":0.1},\"fill_color\":{\"value\":\"#ff7f0e\"},\"line_alpha\":{\"value\":0.1},\"line_color\":{\"value\":\"#ff7f0e\"},\"line_width\":{\"value\":2},\"top\":{\"field\":\"3/22/20\"},\"width\":{\"value\":0.007874015748031496},\"x\":{\"field\":\"__x__values\",\"transform\":{\"id\":\"2064\"}}},\"id\":\"2067\",\"type\":\"VBar\"},{\"attributes\":{\"label\":{\"value\":\" 3/22/20\"},\"renderers\":[{\"id\":\"2068\"}]},\"id\":\"2077\",\"type\":\"LegendItem\"},{\"attributes\":{\"label\":{\"value\":\" 2/8/20\"},\"renderers\":[{\"id\":\"1380\"}]},\"id\":\"1389\",\"type\":\"LegendItem\"},{\"attributes\":{\"range\":{\"id\":\"1041\"},\"value\":0.25},\"id\":\"2080\",\"type\":\"Dodge\"},{\"attributes\":{\"fill_color\":{\"value\":\"#2ca02c\"},\"line_color\":{\"value\":\"#2ca02c\"},\"line_width\":{\"value\":2},\"top\":{\"field\":\"2/13/20\"},\"width\":{\"value\":0.007874015748031496},\"x\":{\"field\":\"__x__values\",\"transform\":{\"id\":\"1456\"}}},\"id\":\"1458\",\"type\":\"VBar\"},{\"attributes\":{\"range\":{\"id\":\"1041\"},\"value\":-0.09126984126984128},\"id\":\"1392\",\"type\":\"Dodge\"},{\"attributes\":{\"source\":{\"id\":\"1037\"}},\"id\":\"1445\",\"type\":\"CDSView\"},{\"attributes\":{\"fill_color\":{\"value\":\"#ffbb78\"},\"line_color\":{\"value\":\"#ffbb78\"},\"line_width\":{\"value\":2},\"top\":{\"field\":\"3/23/20\"},\"width\":{\"value\":0.007874015748031496},\"x\":{\"field\":\"__x__values\",\"transform\":{\"id\":\"2080\"}}},\"id\":\"2082\",\"type\":\"VBar\"},{\"attributes\":{\"data_source\":{\"id\":\"1037\"},\"glyph\":{\"id\":\"1442\"},\"hover_glyph\":null,\"muted_glyph\":null,\"nonselection_glyph\":{\"id\":\"1443\"},\"selection_glyph\":null,\"view\":{\"id\":\"1445\"}},\"id\":\"1444\",\"type\":\"GlyphRenderer\"},{\"attributes\":{\"fill_color\":{\"value\":\"#1f77b4\"},\"line_color\":{\"value\":\"#1f77b4\"},\"line_width\":{\"value\":2},\"top\":{\"field\":\"2/9/20\"},\"width\":{\"value\":0.007874015748031496},\"x\":{\"field\":\"__x__values\",\"transform\":{\"id\":\"1392\"}}},\"id\":\"1394\",\"type\":\"VBar\"},{\"attributes\":{\"fill_alpha\":{\"value\":0.1},\"fill_color\":{\"value\":\"#ffbb78\"},\"line_alpha\":{\"value\":0.1},\"line_color\":{\"value\":\"#ffbb78\"},\"line_width\":{\"value\":2},\"top\":{\"field\":\"2/12/20\"},\"width\":{\"value\":0.007874015748031496},\"x\":{\"field\":\"__x__values\",\"transform\":{\"id\":\"1440\"}}},\"id\":\"1443\",\"type\":\"VBar\"},{\"attributes\":{\"callback\":null,\"mode\":\"vline\",\"renderers\":[{\"id\":\"1460\"}],\"tooltips\":[[\"Provinces / States\",\"@__x__values_original\"],[\"2/13/20\",\"@{2/13/20}\"]]},\"id\":\"1470\",\"type\":\"HoverTool\"},{\"attributes\":{\"source\":{\"id\":\"1037\"}},\"id\":\"1461\",\"type\":\"CDSView\"},{\"attributes\":{\"source\":{\"id\":\"1037\"}},\"id\":\"2085\",\"type\":\"CDSView\"},{\"attributes\":{\"callback\":null,\"mode\":\"vline\",\"renderers\":[{\"id\":\"1396\"}],\"tooltips\":[[\"Provinces / States\",\"@__x__values_original\"],[\"2/9/20\",\"@{2/9/20}\"]]},\"id\":\"1406\",\"type\":\"HoverTool\"},{\"attributes\":{\"source\":{\"id\":\"1037\"}},\"id\":\"1397\",\"type\":\"CDSView\"},{\"attributes\":{\"data_source\":{\"id\":\"1037\"},\"glyph\":{\"id\":\"1458\"},\"hover_glyph\":null,\"muted_glyph\":null,\"nonselection_glyph\":{\"id\":\"1459\"},\"selection_glyph\":null,\"view\":{\"id\":\"1461\"}},\"id\":\"1460\",\"type\":\"GlyphRenderer\"},{\"attributes\":{\"data_source\":{\"id\":\"1037\"},\"glyph\":{\"id\":\"2082\"},\"hover_glyph\":null,\"muted_glyph\":null,\"nonselection_glyph\":{\"id\":\"2083\"},\"selection_glyph\":null,\"view\":{\"id\":\"2085\"}},\"id\":\"2084\",\"type\":\"GlyphRenderer\"},{\"attributes\":{\"data_source\":{\"id\":\"1037\"},\"glyph\":{\"id\":\"1394\"},\"hover_glyph\":null,\"muted_glyph\":null,\"nonselection_glyph\":{\"id\":\"1395\"},\"selection_glyph\":null,\"view\":{\"id\":\"1397\"}},\"id\":\"1396\",\"type\":\"GlyphRenderer\"},{\"attributes\":{\"fill_alpha\":{\"value\":0.1},\"fill_color\":{\"value\":\"#2ca02c\"},\"line_alpha\":{\"value\":0.1},\"line_color\":{\"value\":\"#2ca02c\"},\"line_width\":{\"value\":2},\"top\":{\"field\":\"2/13/20\"},\"width\":{\"value\":0.007874015748031496},\"x\":{\"field\":\"__x__values\",\"transform\":{\"id\":\"1456\"}}},\"id\":\"1459\",\"type\":\"VBar\"},{\"attributes\":{\"fill_alpha\":{\"value\":0.1},\"fill_color\":{\"value\":\"#ffbb78\"},\"line_alpha\":{\"value\":0.1},\"line_color\":{\"value\":\"#ffbb78\"},\"line_width\":{\"value\":2},\"top\":{\"field\":\"3/23/20\"},\"width\":{\"value\":0.007874015748031496},\"x\":{\"field\":\"__x__values\",\"transform\":{\"id\":\"2080\"}}},\"id\":\"2083\",\"type\":\"VBar\"},{\"attributes\":{\"fill_alpha\":{\"value\":0.1},\"fill_color\":{\"value\":\"#1f77b4\"},\"line_alpha\":{\"value\":0.1},\"line_color\":{\"value\":\"#1f77b4\"},\"line_width\":{\"value\":2},\"top\":{\"field\":\"2/9/20\"},\"width\":{\"value\":0.007874015748031496},\"x\":{\"field\":\"__x__values\",\"transform\":{\"id\":\"1392\"}}},\"id\":\"1395\",\"type\":\"VBar\"},{\"attributes\":{\"label\":{\"value\":\" 2/13/20\"},\"renderers\":[{\"id\":\"1460\"}]},\"id\":\"1469\",\"type\":\"LegendItem\"},{\"attributes\":{\"label\":{\"value\":\" 2/9/20\"},\"renderers\":[{\"id\":\"1396\"}]},\"id\":\"1405\",\"type\":\"LegendItem\"},{\"attributes\":{\"range\":{\"id\":\"1041\"},\"value\":-0.019841269841269854},\"id\":\"1536\",\"type\":\"Dodge\"},{\"attributes\":{\"callback\":null,\"mode\":\"vline\",\"renderers\":[{\"id\":\"1524\"}],\"tooltips\":[[\"Provinces / States\",\"@__x__values_original\"],[\"2/17/20\",\"@{2/17/20}\"]]},\"id\":\"1534\",\"type\":\"HoverTool\"},{\"attributes\":{\"range\":{\"id\":\"1041\"},\"value\":-0.059523809523809534},\"id\":\"1456\",\"type\":\"Dodge\"},{\"attributes\":{\"range\":{\"id\":\"1041\"},\"value\":-0.0515873015873016},\"id\":\"1472\",\"type\":\"Dodge\"},{\"attributes\":{\"range\":{\"id\":\"1041\"},\"value\":-0.08333333333333334},\"id\":\"1408\",\"type\":\"Dodge\"},{\"attributes\":{\"fill_color\":{\"value\":\"#98df8a\"},\"line_color\":{\"value\":\"#98df8a\"},\"line_width\":{\"value\":2},\"top\":{\"field\":\"2/14/20\"},\"width\":{\"value\":0.007874015748031496},\"x\":{\"field\":\"__x__values\",\"transform\":{\"id\":\"1472\"}}},\"id\":\"1474\",\"type\":\"VBar\"},{\"attributes\":{\"fill_color\":{\"value\":\"#aec7e8\"},\"line_color\":{\"value\":\"#aec7e8\"},\"line_width\":{\"value\":2},\"top\":{\"field\":\"2/10/20\"},\"width\":{\"value\":0.007874015748031496},\"x\":{\"field\":\"__x__values\",\"transform\":{\"id\":\"1408\"}}},\"id\":\"1410\",\"type\":\"VBar\"},{\"attributes\":{\"data_source\":{\"id\":\"1037\"},\"glyph\":{\"id\":\"1666\"},\"hover_glyph\":null,\"muted_glyph\":null,\"nonselection_glyph\":{\"id\":\"1667\"},\"selection_glyph\":null,\"view\":{\"id\":\"1669\"}},\"id\":\"1668\",\"type\":\"GlyphRenderer\"},{\"attributes\":{\"range\":{\"id\":\"1041\"},\"value\":0.05158730158730157},\"id\":\"1680\",\"type\":\"Dodge\"},{\"attributes\":{\"callback\":null,\"mode\":\"vline\",\"renderers\":[{\"id\":\"1476\"}],\"tooltips\":[[\"Provinces / States\",\"@__x__values_original\"],[\"2/14/20\",\"@{2/14/20}\"]]},\"id\":\"1486\",\"type\":\"HoverTool\"},{\"attributes\":{\"source\":{\"id\":\"1037\"}},\"id\":\"1477\",\"type\":\"CDSView\"},{\"attributes\":{\"callback\":null,\"mode\":\"vline\",\"renderers\":[{\"id\":\"1412\"}],\"tooltips\":[[\"Provinces / States\",\"@__x__values_original\"],[\"2/10/20\",\"@{2/10/20}\"]]},\"id\":\"1422\",\"type\":\"HoverTool\"},{\"attributes\":{\"source\":{\"id\":\"1037\"}},\"id\":\"1413\",\"type\":\"CDSView\"},{\"attributes\":{\"data_source\":{\"id\":\"1037\"},\"glyph\":{\"id\":\"1474\"},\"hover_glyph\":null,\"muted_glyph\":null,\"nonselection_glyph\":{\"id\":\"1475\"},\"selection_glyph\":null,\"view\":{\"id\":\"1477\"}},\"id\":\"1476\",\"type\":\"GlyphRenderer\"},{\"attributes\":{\"source\":{\"id\":\"1037\"}},\"id\":\"1653\",\"type\":\"CDSView\"},{\"attributes\":{\"data_source\":{\"id\":\"1037\"},\"glyph\":{\"id\":\"1410\"},\"hover_glyph\":null,\"muted_glyph\":null,\"nonselection_glyph\":{\"id\":\"1411\"},\"selection_glyph\":null,\"view\":{\"id\":\"1413\"}},\"id\":\"1412\",\"type\":\"GlyphRenderer\"},{\"attributes\":{\"fill_alpha\":{\"value\":0.1},\"fill_color\":{\"value\":\"#98df8a\"},\"line_alpha\":{\"value\":0.1},\"line_color\":{\"value\":\"#98df8a\"},\"line_width\":{\"value\":2},\"top\":{\"field\":\"2/14/20\"},\"width\":{\"value\":0.007874015748031496},\"x\":{\"field\":\"__x__values\",\"transform\":{\"id\":\"1472\"}}},\"id\":\"1475\",\"type\":\"VBar\"},{\"attributes\":{\"fill_alpha\":{\"value\":0.1},\"fill_color\":{\"value\":\"#aec7e8\"},\"line_alpha\":{\"value\":0.1},\"line_color\":{\"value\":\"#aec7e8\"},\"line_width\":{\"value\":2},\"top\":{\"field\":\"2/10/20\"},\"width\":{\"value\":0.007874015748031496},\"x\":{\"field\":\"__x__values\",\"transform\":{\"id\":\"1408\"}}},\"id\":\"1411\",\"type\":\"VBar\"},{\"attributes\":{\"label\":{\"value\":\" 2/14/20\"},\"renderers\":[{\"id\":\"1476\"}]},\"id\":\"1485\",\"type\":\"LegendItem\"},{\"attributes\":{\"label\":{\"value\":\" 2/10/20\"},\"renderers\":[{\"id\":\"1412\"}]},\"id\":\"1421\",\"type\":\"LegendItem\"},{\"attributes\":{\"label\":{\"value\":\" 2/17/20\"},\"renderers\":[{\"id\":\"1524\"}]},\"id\":\"1533\",\"type\":\"LegendItem\"},{\"attributes\":{\"label\":{\"value\":\" 2/12/20\"},\"renderers\":[{\"id\":\"1444\"}]},\"id\":\"1453\",\"type\":\"LegendItem\"},{\"attributes\":{\"range\":{\"id\":\"1041\"},\"value\":-0.04365079365079366},\"id\":\"1488\",\"type\":\"Dodge\"},{\"attributes\":{\"range\":{\"id\":\"1041\"},\"value\":-0.0753968253968254},\"id\":\"1424\",\"type\":\"Dodge\"},{\"attributes\":{\"fill_alpha\":{\"value\":0.1},\"fill_color\":{\"value\":\"#ff7f0e\"},\"line_alpha\":{\"value\":0.1},\"line_color\":{\"value\":\"#ff7f0e\"},\"line_width\":{\"value\":2},\"top\":{\"field\":\"2/11/20\"},\"width\":{\"value\":0.007874015748031496},\"x\":{\"field\":\"__x__values\",\"transform\":{\"id\":\"1424\"}}},\"id\":\"1427\",\"type\":\"VBar\"},{\"attributes\":{\"fill_color\":{\"value\":\"#d62728\"},\"line_color\":{\"value\":\"#d62728\"},\"line_width\":{\"value\":2},\"top\":{\"field\":\"2/15/20\"},\"width\":{\"value\":0.007874015748031496},\"x\":{\"field\":\"__x__values\",\"transform\":{\"id\":\"1488\"}}},\"id\":\"1490\",\"type\":\"VBar\"},{\"attributes\":{\"fill_alpha\":{\"value\":0.1},\"fill_color\":{\"value\":\"#c7c7c7\"},\"line_alpha\":{\"value\":0.1},\"line_color\":{\"value\":\"#c7c7c7\"},\"line_width\":{\"value\":2},\"top\":{\"field\":\"2/24/20\"},\"width\":{\"value\":0.007874015748031496},\"x\":{\"field\":\"__x__values\",\"transform\":{\"id\":\"1632\"}}},\"id\":\"1635\",\"type\":\"VBar\"},{\"attributes\":{\"fill_color\":{\"value\":\"#ff7f0e\"},\"line_color\":{\"value\":\"#ff7f0e\"},\"line_width\":{\"value\":2},\"top\":{\"field\":\"2/11/20\"},\"width\":{\"value\":0.007874015748031496},\"x\":{\"field\":\"__x__values\",\"transform\":{\"id\":\"1424\"}}},\"id\":\"1426\",\"type\":\"VBar\"},{\"attributes\":{\"data_source\":{\"id\":\"1037\"},\"glyph\":{\"id\":\"1490\"},\"hover_glyph\":null,\"muted_glyph\":null,\"nonselection_glyph\":{\"id\":\"1491\"},\"selection_glyph\":null,\"view\":{\"id\":\"1493\"}},\"id\":\"1492\",\"type\":\"GlyphRenderer\"},{\"attributes\":{\"data_source\":{\"id\":\"1037\"},\"glyph\":{\"id\":\"1426\"},\"hover_glyph\":null,\"muted_glyph\":null,\"nonselection_glyph\":{\"id\":\"1427\"},\"selection_glyph\":null,\"view\":{\"id\":\"1429\"}},\"id\":\"1428\",\"type\":\"GlyphRenderer\"},{\"attributes\":{\"fill_alpha\":{\"value\":0.1},\"fill_color\":{\"value\":\"#d62728\"},\"line_alpha\":{\"value\":0.1},\"line_color\":{\"value\":\"#d62728\"},\"line_width\":{\"value\":2},\"top\":{\"field\":\"2/15/20\"},\"width\":{\"value\":0.007874015748031496},\"x\":{\"field\":\"__x__values\",\"transform\":{\"id\":\"1488\"}}},\"id\":\"1491\",\"type\":\"VBar\"},{\"attributes\":{\"label\":{\"value\":\" 2/25/20\"},\"renderers\":[{\"id\":\"1652\"}]},\"id\":\"1661\",\"type\":\"LegendItem\"},{\"attributes\":{\"callback\":null,\"mode\":\"vline\",\"renderers\":[{\"id\":\"1492\"}],\"tooltips\":[[\"Provinces / States\",\"@__x__values_original\"],[\"2/15/20\",\"@{2/15/20}\"]]},\"id\":\"1502\",\"type\":\"HoverTool\"},{\"attributes\":{\"source\":{\"id\":\"1037\"}},\"id\":\"1493\",\"type\":\"CDSView\"},{\"attributes\":{\"source\":{\"id\":\"1037\"}},\"id\":\"1637\",\"type\":\"CDSView\"},{\"attributes\":{\"callback\":null,\"mode\":\"vline\",\"renderers\":[{\"id\":\"1652\"}],\"tooltips\":[[\"Provinces / States\",\"@__x__values_original\"],[\"2/25/20\",\"@{2/25/20}\"]]},\"id\":\"1662\",\"type\":\"HoverTool\"},{\"attributes\":{\"label\":{\"value\":\" 2/15/20\"},\"renderers\":[{\"id\":\"1492\"}]},\"id\":\"1501\",\"type\":\"LegendItem\"},{\"attributes\":{\"data\":{\"1/22/20\":{\"__ndarray__\":\"AAAAAAAAAAAAAAAAAAAAAAAAAAAAAAAAAAAAAAAAAAAAAAAA\",\"dtype\":\"int32\",\"shape\":[9]},\"1/23/20\":{\"__ndarray__\":\"AAAAAAAAAAAAAAAAAAAAAAAAAAAAAAAAAAAAAAAAAAAAAAAA\",\"dtype\":\"int32\",\"shape\":[9]},\"1/24/20\":{\"__ndarray__\":\"AAAAAAAAAAAAAAAAAAAAAAAAAAAAAAAAAAAAAAAAAAAAAAAA\",\"dtype\":\"int32\",\"shape\":[9]},\"1/25/20\":{\"__ndarray__\":\"AAAAAAAAAAAAAAAAAAAAAAAAAAAAAAAAAAAAAAAAAAAAAAAA\",\"dtype\":\"int32\",\"shape\":[9]},\"1/26/20\":{\"__ndarray__\":\"AwAAAAEAAAAAAAAAAAAAAAAAAAAAAAAAAAAAAAAAAAAAAAAA\",\"dtype\":\"int32\",\"shape\":[9]},\"1/27/20\":{\"__ndarray__\":\"BAAAAAEAAAAAAAAAAAAAAAAAAAAAAAAAAAAAAAAAAAAAAAAA\",\"dtype\":\"int32\",\"shape\":[9]},\"1/28/20\":{\"__ndarray__\":\"BAAAAAEAAAAAAAAAAAAAAAAAAAAAAAAAAAAAAAAAAAAAAAAA\",\"dtype\":\"int32\",\"shape\":[9]},\"1/29/20\":{\"__ndarray__\":\"BAAAAAEAAAABAAAAAAAAAAAAAAAAAAAAAAAAAAAAAAAAAAAA\",\"dtype\":\"int32\",\"shape\":[9]},\"1/30/20\":{\"__ndarray__\":\"BAAAAAIAAAADAAAAAAAAAAAAAAAAAAAAAAAAAAAAAAAAAAAA\",\"dtype\":\"int32\",\"shape\":[9]},\"1/31/20\":{\"__ndarray__\":\"BAAAAAMAAAACAAAAAAAAAAAAAAAAAAAAAAAAAAAAAAAAAAAA\",\"dtype\":\"int32\",\"shape\":[9]},\"2/1/20\":{\"__ndarray__\":\"BAAAAAQAAAADAAAAAQAAAAAAAAAAAAAAAAAAAAAAAAAAAAAA\",\"dtype\":\"int32\",\"shape\":[9]},\"2/10/20\":{\"__ndarray__\":\"BAAAAAQAAAAFAAAAAgAAAAAAAAAAAAAAAAAAAAAAAAAAAAAA\",\"dtype\":\"int32\",\"shape\":[9]},\"2/11/20\":{\"__ndarray__\":\"BAAAAAQAAAAFAAAAAgAAAAAAAAAAAAAAAAAAAAAAAAAAAAAA\",\"dtype\":\"int32\",\"shape\":[9]},\"2/12/20\":{\"__ndarray__\":\"BAAAAAQAAAAFAAAAAgAAAAAAAAAAAAAAAAAAAAAAAAAAAAAA\",\"dtype\":\"int32\",\"shape\":[9]},\"2/13/20\":{\"__ndarray__\":\"BAAAAAQAAAAFAAAAAgAAAAAAAAAAAAAAAAAAAAAAAAAAAAAA\",\"dtype\":\"int32\",\"shape\":[9]},\"2/14/20\":{\"__ndarray__\":\"BAAAAAQAAAAFAAAAAgAAAAAAAAAAAAAAAAAAAAAAAAAAAAAA\",\"dtype\":\"int32\",\"shape\":[9]},\"2/15/20\":{\"__ndarray__\":\"BAAAAAQAAAAFAAAAAgAAAAAAAAAAAAAAAAAAAAAAAAAAAAAA\",\"dtype\":\"int32\",\"shape\":[9]},\"2/16/20\":{\"__ndarray__\":\"BAAAAAQAAAAFAAAAAgAAAAAAAAAAAAAAAAAAAAAAAAAAAAAA\",\"dtype\":\"int32\",\"shape\":[9]},\"2/17/20\":{\"__ndarray__\":\"BAAAAAQAAAAFAAAAAgAAAAAAAAAAAAAAAAAAAAAAAAAAAAAA\",\"dtype\":\"int32\",\"shape\":[9]},\"2/18/20\":{\"__ndarray__\":\"BAAAAAQAAAAFAAAAAgAAAAAAAAAAAAAAAAAAAAAAAAAAAAAA\",\"dtype\":\"int32\",\"shape\":[9]},\"2/19/20\":{\"__ndarray__\":\"BAAAAAQAAAAFAAAAAgAAAAAAAAAAAAAAAAAAAAAAAAAAAAAA\",\"dtype\":\"int32\",\"shape\":[9]},\"2/2/20\":{\"__ndarray__\":\"BAAAAAQAAAACAAAAAgAAAAAAAAAAAAAAAAAAAAAAAAAAAAAA\",\"dtype\":\"int32\",\"shape\":[9]},\"2/20/20\":{\"__ndarray__\":\"BAAAAAQAAAAFAAAAAgAAAAAAAAAAAAAAAAAAAAAAAAAAAAAA\",\"dtype\":\"int32\",\"shape\":[9]},\"2/21/20\":{\"__ndarray__\":\"BAAAAAQAAAAFAAAAAgAAAAQAAAAAAAAAAAAAAAAAAAAAAAAA\",\"dtype\":\"int32\",\"shape\":[9]},\"2/22/20\":{\"__ndarray__\":\"BAAAAAQAAAAFAAAAAgAAAAcAAAAAAAAAAAAAAAAAAAAAAAAA\",\"dtype\":\"int32\",\"shape\":[9]},\"2/23/20\":{\"__ndarray__\":\"BAAAAAQAAAAFAAAAAgAAAAcAAAAAAAAAAAAAAAAAAAAAAAAA\",\"dtype\":\"int32\",\"shape\":[9]},\"2/24/20\":{\"__ndarray__\":\"BAAAAAQAAAAFAAAAAgAAAAcAAAAAAAAAAAAAAAAAAAAAAAAA\",\"dtype\":\"int32\",\"shape\":[9]},\"2/25/20\":{\"__ndarray__\":\"BAAAAAQAAAAFAAAAAgAAAAcAAAAAAAAAAAAAAAAAAAAAAAAA\",\"dtype\":\"int32\",\"shape\":[9]},\"2/26/20\":{\"__ndarray__\":\"BAAAAAQAAAAFAAAAAgAAAAcAAAAAAAAAAAAAAAAAAAAAAAAA\",\"dtype\":\"int32\",\"shape\":[9]},\"2/27/20\":{\"__ndarray__\":\"BAAAAAQAAAAFAAAAAgAAAAgAAAAAAAAAAAAAAAAAAAAAAAAA\",\"dtype\":\"int32\",\"shape\":[9]},\"2/28/20\":{\"__ndarray__\":\"BAAAAAQAAAAFAAAAAgAAAAgAAAAAAAAAAAAAAAAAAAAAAAAA\",\"dtype\":\"int32\",\"shape\":[9]},\"2/29/20\":{\"__ndarray__\":\"BAAAAAcAAAAJAAAAAwAAAAAAAAACAAAAAAAAAAAAAAAAAAAA\",\"dtype\":\"int32\",\"shape\":[9]},\"2/3/20\":{\"__ndarray__\":\"BAAAAAQAAAACAAAAAgAAAAAAAAAAAAAAAAAAAAAAAAAAAAAA\",\"dtype\":\"int32\",\"shape\":[9]},\"2/4/20\":{\"__ndarray__\":\"BAAAAAQAAAADAAAAAgAAAAAAAAAAAAAAAAAAAAAAAAAAAAAA\",\"dtype\":\"int32\",\"shape\":[9]},\"2/5/20\":{\"__ndarray__\":\"BAAAAAQAAAADAAAAAgAAAAAAAAAAAAAAAAAAAAAAAAAAAAAA\",\"dtype\":\"int32\",\"shape\":[9]},\"2/6/20\":{\"__ndarray__\":\"BAAAAAQAAAAEAAAAAgAAAAAAAAAAAAAAAAAAAAAAAAAAAAAA\",\"dtype\":\"int32\",\"shape\":[9]},\"2/7/20\":{\"__ndarray__\":\"BAAAAAQAAAAFAAAAAgAAAAAAAAAAAAAAAAAAAAAAAAAAAAAA\",\"dtype\":\"int32\",\"shape\":[9]},\"2/8/20\":{\"__ndarray__\":\"BAAAAAQAAAAFAAAAAgAAAAAAAAAAAAAAAAAAAAAAAAAAAAAA\",\"dtype\":\"int32\",\"shape\":[9]},\"2/9/20\":{\"__ndarray__\":\"BAAAAAQAAAAFAAAAAgAAAAAAAAAAAAAAAAAAAAAAAAAAAAAA\",\"dtype\":\"int32\",\"shape\":[9]},\"3/1/20\":{\"__ndarray__\":\"BgAAAAcAAAAJAAAAAwAAAAAAAAACAAAAAAAAAAAAAAAAAAAA\",\"dtype\":\"int32\",\"shape\":[9]},\"3/10/20\":{\"__ndarray__\":\"NwAAABIAAAASAAAABwAAAAAAAAAGAAAAAgAAAAEAAAAAAAAA\",\"dtype\":\"int32\",\"shape\":[9]},\"3/11/20\":{\"__ndarray__\":\"QQAAABUAAAAUAAAACQAAAAAAAAAJAAAAAwAAAAEAAAAAAAAA\",\"dtype\":\"int32\",\"shape\":[9]},\"3/12/20\":{\"__ndarray__\":\"QQAAABUAAAAUAAAACQAAAAAAAAAJAAAAAwAAAAEAAAAAAAAA\",\"dtype\":\"int32\",\"shape\":[9]},\"3/13/20\":{\"__ndarray__\":\"XAAAACQAAAAjAAAAEAAAAAAAAAAOAAAABQAAAAEAAAABAAAA\",\"dtype\":\"int32\",\"shape\":[9]},\"3/14/20\":{\"__ndarray__\":\"cAAAADEAAAAuAAAAEwAAAAAAAAARAAAABQAAAAEAAAABAAAA\",\"dtype\":\"int32\",\"shape\":[9]},\"3/15/20\":{\"__ndarray__\":\"hgAAADkAAAA9AAAAFAAAAAAAAAARAAAABgAAAAEAAAABAAAA\",\"dtype\":\"int32\",\"shape\":[9]},\"3/16/20\":{\"__ndarray__\":\"qwAAAEcAAABEAAAAHQAAAAAAAAAcAAAABwAAAAEAAAACAAAA\",\"dtype\":\"int32\",\"shape\":[9]},\"3/17/20\":{\"__ndarray__\":\"0gAAAF4AAABOAAAAHQAAAAAAAAAfAAAABwAAAAEAAAACAAAA\",\"dtype\":\"int32\",\"shape\":[9]},\"3/18/20\":{\"__ndarray__\":\"CwEAAHkAAABeAAAAJQAAAAAAAAAjAAAACgAAAAEAAAADAAAA\",\"dtype\":\"int32\",\"shape\":[9]},\"3/19/20\":{\"__ndarray__\":\"MwEAAHkAAACQAAAAKgAAAAAAAAA0AAAACgAAAAEAAAAEAAAA\",\"dtype\":\"int32\",\"shape\":[9]},\"3/2/20\":{\"__ndarray__\":\"BgAAAAkAAAAJAAAAAwAAAAAAAAACAAAAAQAAAAAAAAAAAAAA\",\"dtype\":\"int32\",\"shape\":[9]},\"3/20/20\":{\"__ndarray__\":\"YQEAAHkAAAC4AAAAMgAAAAAAAABAAAAACgAAAAMAAAAGAAAA\",\"dtype\":\"int32\",\"shape\":[9]},\"3/21/20\":{\"__ndarray__\":\"tAEAAOUAAADdAAAAQwAAAAAAAABaAAAAEAAAAAMAAAAJAAAA\",\"dtype\":\"int32\",\"shape\":[9]},\"3/22/20\":{\"__ndarray__\":\"FQIAACgBAADdAAAAZAAAAAAAAAB4AAAAFgAAAAMAAAATAAAA\",\"dtype\":\"int32\",\"shape\":[9]},\"3/23/20\":{\"__ndarray__\":\"FQIAACgBAADdAAAAZAAAAAAAAAB4AAAAFgAAAAMAAAATAAAA\",\"dtype\":\"int32\",\"shape\":[9]},\"3/3/20\":{\"__ndarray__\":\"DQAAAAkAAAALAAAAAwAAAAAAAAACAAAAAQAAAAAAAAAAAAAA\",\"dtype\":\"int32\",\"shape\":[9]},\"3/4/20\":{\"__ndarray__\":\"FgAAAAoAAAALAAAABQAAAAAAAAACAAAAAQAAAAEAAAAAAAAA\",\"dtype\":\"int32\",\"shape\":[9]},\"3/5/20\":{\"__ndarray__\":\"FgAAAAoAAAANAAAABQAAAAAAAAADAAAAAQAAAAEAAAAAAAAA\",\"dtype\":\"int32\",\"shape\":[9]},\"3/6/20\":{\"__ndarray__\":\"GgAAAAoAAAANAAAABwAAAAAAAAADAAAAAQAAAAAAAAAAAAAA\",\"dtype\":\"int32\",\"shape\":[9]},\"3/7/20\":{\"__ndarray__\":\"HAAAAAsAAAANAAAABwAAAAAAAAADAAAAAQAAAAAAAAAAAAAA\",\"dtype\":\"int32\",\"shape\":[9]},\"3/8/20\":{\"__ndarray__\":\"JgAAAAsAAAAPAAAABwAAAAAAAAADAAAAAgAAAAAAAAAAAAAA\",\"dtype\":\"int32\",\"shape\":[9]},\"3/9/20\":{\"__ndarray__\":\"MAAAAA8AAAAPAAAABwAAAAAAAAAEAAAAAgAAAAAAAAAAAAAA\",\"dtype\":\"int32\",\"shape\":[9]},\"Lat\":{\"__ndarray__\":\"5WGh1jTvQMBHA3gLJOhCwNzXgXNGBDzAAiuHFtl2QcAbnl4py7hBQBfZzvdT8z/AGQRWDi26RMDM7snDQu0owPhT46WbvEHA\",\"dtype\":\"float64\",\"shape\":[9]},\"Long\":{\"__ndarray__\":\"seHplbLmYkDiWBe30R5iQM3MzMzMLGNAodY07zhTYUAj2/l+anRhQFCNl24S91xARUdy+Q8/YkDsL7snD1tgQA5Pr5RloGJA\",\"dtype\":\"float64\",\"shape\":[9]},\"__x__values\":[0,1,2,3,4,5,6,7,8],\"__x__values_original\":[\"New South Wales\",\"Victoria\",\"Queensland\",\"South Australia\",\"From Diamond Princess\",\"Western Australia\",\"Tasmania\",\"Northern Territory\",\"Australian Capital Territory\"]},\"selected\":{\"id\":\"1099\"},\"selection_policy\":{\"id\":\"1098\"}},\"id\":\"1037\",\"type\":\"ColumnDataSource\"},{\"attributes\":{\"range\":{\"id\":\"1041\"},\"value\":-0.035714285714285726},\"id\":\"1504\",\"type\":\"Dodge\"},{\"attributes\":{\"fill_color\":{\"value\":\"#ff9896\"},\"line_color\":{\"value\":\"#ff9896\"},\"line_width\":{\"value\":2},\"top\":{\"field\":\"2/16/20\"},\"width\":{\"value\":0.007874015748031496},\"x\":{\"field\":\"__x__values\",\"transform\":{\"id\":\"1504\"}}},\"id\":\"1506\",\"type\":\"VBar\"},{\"attributes\":{\"label\":{\"value\":\" 2/24/20\"},\"renderers\":[{\"id\":\"1636\"}]},\"id\":\"1645\",\"type\":\"LegendItem\"},{\"attributes\":{\"callback\":null,\"mode\":\"vline\",\"renderers\":[{\"id\":\"1508\"}],\"tooltips\":[[\"Provinces / States\",\"@__x__values_original\"],[\"2/16/20\",\"@{2/16/20}\"]]},\"id\":\"1518\",\"type\":\"HoverTool\"},{\"attributes\":{\"source\":{\"id\":\"1037\"}},\"id\":\"1509\",\"type\":\"CDSView\"},{\"attributes\":{\"data_source\":{\"id\":\"1037\"},\"glyph\":{\"id\":\"1506\"},\"hover_glyph\":null,\"muted_glyph\":null,\"nonselection_glyph\":{\"id\":\"1507\"},\"selection_glyph\":null,\"view\":{\"id\":\"1509\"}},\"id\":\"1508\",\"type\":\"GlyphRenderer\"},{\"attributes\":{\"range\":{\"id\":\"1041\"},\"value\":0.0357142857142857},\"id\":\"1648\",\"type\":\"Dodge\"},{\"attributes\":{\"fill_alpha\":{\"value\":0.1},\"fill_color\":{\"value\":\"#ff9896\"},\"line_alpha\":{\"value\":0.1},\"line_color\":{\"value\":\"#ff9896\"},\"line_width\":{\"value\":2},\"top\":{\"field\":\"2/16/20\"},\"width\":{\"value\":0.007874015748031496},\"x\":{\"field\":\"__x__values\",\"transform\":{\"id\":\"1504\"}}},\"id\":\"1507\",\"type\":\"VBar\"},{\"attributes\":{\"label\":{\"value\":\" 2/16/20\"},\"renderers\":[{\"id\":\"1508\"}]},\"id\":\"1517\",\"type\":\"LegendItem\"},{\"attributes\":{\"range\":{\"id\":\"1041\"},\"value\":0.04365079365079361},\"id\":\"1664\",\"type\":\"Dodge\"},{\"attributes\":{\"fill_color\":{\"value\":\"#c5b0d5\"},\"line_color\":{\"value\":\"#c5b0d5\"},\"line_width\":{\"value\":2},\"top\":{\"field\":\"2/18/20\"},\"width\":{\"value\":0.007874015748031496},\"x\":{\"field\":\"__x__values\",\"transform\":{\"id\":\"1536\"}}},\"id\":\"1538\",\"type\":\"VBar\"},{\"attributes\":{\"range\":{\"id\":\"1041\"},\"value\":-0.02777777777777779},\"id\":\"1520\",\"type\":\"Dodge\"},{\"attributes\":{\"fill_color\":{\"value\":\"#9467bd\"},\"line_color\":{\"value\":\"#9467bd\"},\"line_width\":{\"value\":2},\"top\":{\"field\":\"2/17/20\"},\"width\":{\"value\":0.007874015748031496},\"x\":{\"field\":\"__x__values\",\"transform\":{\"id\":\"1520\"}}},\"id\":\"1522\",\"type\":\"VBar\"},{\"attributes\":{\"callback\":null,\"mode\":\"vline\",\"renderers\":[{\"id\":\"1636\"}],\"tooltips\":[[\"Provinces / States\",\"@__x__values_original\"],[\"2/24/20\",\"@{2/24/20}\"]]},\"id\":\"1646\",\"type\":\"HoverTool\"},{\"attributes\":{\"data_source\":{\"id\":\"1037\"},\"glyph\":{\"id\":\"1634\"},\"hover_glyph\":null,\"muted_glyph\":null,\"nonselection_glyph\":{\"id\":\"1635\"},\"selection_glyph\":null,\"view\":{\"id\":\"1637\"}},\"id\":\"1636\",\"type\":\"GlyphRenderer\"},{\"attributes\":{\"fill_color\":{\"value\":\"#dbdb8d\"},\"line_color\":{\"value\":\"#dbdb8d\"},\"line_width\":{\"value\":2},\"top\":{\"field\":\"2/26/20\"},\"width\":{\"value\":0.007874015748031496},\"x\":{\"field\":\"__x__values\",\"transform\":{\"id\":\"1664\"}}},\"id\":\"1666\",\"type\":\"VBar\"},{\"attributes\":{\"source\":{\"id\":\"1037\"}},\"id\":\"1525\",\"type\":\"CDSView\"},{\"attributes\":{\"label\":{\"value\":\" 2/7/20\"},\"renderers\":[{\"id\":\"1364\"}]},\"id\":\"1373\",\"type\":\"LegendItem\"},{\"attributes\":{\"data_source\":{\"id\":\"1037\"},\"glyph\":{\"id\":\"1522\"},\"hover_glyph\":null,\"muted_glyph\":null,\"nonselection_glyph\":{\"id\":\"1523\"},\"selection_glyph\":null,\"view\":{\"id\":\"1525\"}},\"id\":\"1524\",\"type\":\"GlyphRenderer\"},{\"attributes\":{\"fill_alpha\":{\"value\":0.1},\"fill_color\":{\"value\":\"#9467bd\"},\"line_alpha\":{\"value\":0.1},\"line_color\":{\"value\":\"#9467bd\"},\"line_width\":{\"value\":2},\"top\":{\"field\":\"2/17/20\"},\"width\":{\"value\":0.007874015748031496},\"x\":{\"field\":\"__x__values\",\"transform\":{\"id\":\"1520\"}}},\"id\":\"1523\",\"type\":\"VBar\"},{\"attributes\":{\"callback\":null,\"mode\":\"vline\",\"renderers\":[{\"id\":\"1540\"}],\"tooltips\":[[\"Provinces / States\",\"@__x__values_original\"],[\"2/18/20\",\"@{2/18/20}\"]]},\"id\":\"1550\",\"type\":\"HoverTool\"},{\"attributes\":{\"source\":{\"id\":\"1037\"}},\"id\":\"1541\",\"type\":\"CDSView\"},{\"attributes\":{\"data_source\":{\"id\":\"1037\"},\"glyph\":{\"id\":\"1538\"},\"hover_glyph\":null,\"muted_glyph\":null,\"nonselection_glyph\":{\"id\":\"1539\"},\"selection_glyph\":null,\"view\":{\"id\":\"1541\"}},\"id\":\"1540\",\"type\":\"GlyphRenderer\"},{\"attributes\":{\"fill_alpha\":{\"value\":0.1},\"fill_color\":{\"value\":\"#c5b0d5\"},\"line_alpha\":{\"value\":0.1},\"line_color\":{\"value\":\"#c5b0d5\"},\"line_width\":{\"value\":2},\"top\":{\"field\":\"2/18/20\"},\"width\":{\"value\":0.007874015748031496},\"x\":{\"field\":\"__x__values\",\"transform\":{\"id\":\"1536\"}}},\"id\":\"1539\",\"type\":\"VBar\"},{\"attributes\":{\"label\":{\"value\":\" 2/18/20\"},\"renderers\":[{\"id\":\"1540\"}]},\"id\":\"1549\",\"type\":\"LegendItem\"},{\"attributes\":{\"label\":{\"value\":\" 2/22/20\"},\"renderers\":[{\"id\":\"1604\"}]},\"id\":\"1613\",\"type\":\"LegendItem\"},{\"attributes\":{\"range\":{\"id\":\"1041\"},\"value\":-0.011904761904761918},\"id\":\"1552\",\"type\":\"Dodge\"},{\"attributes\":{\"source\":{\"id\":\"1037\"}},\"id\":\"1557\",\"type\":\"CDSView\"},{\"attributes\":{\"fill_color\":{\"value\":\"#8c564b\"},\"line_color\":{\"value\":\"#8c564b\"},\"line_width\":{\"value\":2},\"top\":{\"field\":\"2/19/20\"},\"width\":{\"value\":0.007874015748031496},\"x\":{\"field\":\"__x__values\",\"transform\":{\"id\":\"1552\"}}},\"id\":\"1554\",\"type\":\"VBar\"},{\"attributes\":{\"fill_alpha\":{\"value\":0.1},\"fill_color\":{\"value\":\"#8c564b\"},\"line_alpha\":{\"value\":0.1},\"line_color\":{\"value\":\"#8c564b\"},\"line_width\":{\"value\":2},\"top\":{\"field\":\"2/19/20\"},\"width\":{\"value\":0.007874015748031496},\"x\":{\"field\":\"__x__values\",\"transform\":{\"id\":\"1552\"}}},\"id\":\"1555\",\"type\":\"VBar\"},{\"attributes\":{\"data_source\":{\"id\":\"1037\"},\"glyph\":{\"id\":\"1554\"},\"hover_glyph\":null,\"muted_glyph\":null,\"nonselection_glyph\":{\"id\":\"1555\"},\"selection_glyph\":null,\"view\":{\"id\":\"1557\"}},\"id\":\"1556\",\"type\":\"GlyphRenderer\"},{\"attributes\":{\"data_source\":{\"id\":\"1037\"},\"glyph\":{\"id\":\"1746\"},\"hover_glyph\":null,\"muted_glyph\":null,\"nonselection_glyph\":{\"id\":\"1747\"},\"selection_glyph\":null,\"view\":{\"id\":\"1749\"}},\"id\":\"1748\",\"type\":\"GlyphRenderer\"},{\"attributes\":{\"data_source\":{\"id\":\"1037\"},\"glyph\":{\"id\":\"1122\"},\"hover_glyph\":null,\"muted_glyph\":null,\"nonselection_glyph\":{\"id\":\"1123\"},\"selection_glyph\":null,\"view\":{\"id\":\"1125\"}},\"id\":\"1124\",\"type\":\"GlyphRenderer\"},{\"attributes\":{\"fill_color\":{\"value\":\"#ff9896\"},\"line_color\":{\"value\":\"#ff9896\"},\"line_width\":{\"value\":2},\"top\":{\"field\":\"1/27/20\"},\"width\":{\"value\":0.007874015748031496},\"x\":{\"field\":\"__x__values\",\"transform\":{\"id\":\"1184\"}}},\"id\":\"1186\",\"type\":\"VBar\"},{\"attributes\":{\"source\":{\"id\":\"1037\"}},\"id\":\"1749\",\"type\":\"CDSView\"},{\"attributes\":{\"fill_alpha\":{\"value\":0.1},\"fill_color\":{\"value\":\"#ffbb78\"},\"line_alpha\":{\"value\":0.1},\"line_color\":{\"value\":\"#ffbb78\"},\"line_width\":{\"value\":2},\"top\":{\"field\":\"1/23/20\"},\"width\":{\"value\":0.007874015748031496},\"x\":{\"field\":\"__x__values\",\"transform\":{\"id\":\"1120\"}}},\"id\":\"1123\",\"type\":\"VBar\"},{\"attributes\":{\"callback\":null,\"mode\":\"vline\",\"renderers\":[{\"id\":\"1748\"}],\"tooltips\":[[\"Provinces / States\",\"@__x__values_original\"],[\"3/2/20\",\"@{3/2/20}\"]]},\"id\":\"1758\",\"type\":\"HoverTool\"},{\"attributes\":{\"fill_alpha\":{\"value\":0.1},\"fill_color\":{\"value\":\"#ff7f0e\"},\"line_alpha\":{\"value\":0.1},\"line_color\":{\"value\":\"#ff7f0e\"},\"line_width\":{\"value\":2},\"top\":{\"field\":\"3/2/20\"},\"width\":{\"value\":0.007874015748031496},\"x\":{\"field\":\"__x__values\",\"transform\":{\"id\":\"1744\"}}},\"id\":\"1747\",\"type\":\"VBar\"},{\"attributes\":{\"label\":{\"value\":\" 1/23/20\"},\"renderers\":[{\"id\":\"1124\"}]},\"id\":\"1133\",\"type\":\"LegendItem\"},{\"attributes\":{\"fill_color\":{\"value\":\"#ff7f0e\"},\"line_color\":{\"value\":\"#ff7f0e\"},\"line_width\":{\"value\":2},\"top\":{\"field\":\"1/22/20\"},\"width\":{\"value\":0.007874015748031496},\"x\":{\"field\":\"__x__values\",\"transform\":{\"id\":\"1104\"}}},\"id\":\"1106\",\"type\":\"VBar\"},{\"attributes\":{\"label\":{\"value\":\" 3/2/20\"},\"renderers\":[{\"id\":\"1748\"}]},\"id\":\"1757\",\"type\":\"LegendItem\"},{\"attributes\":{\"fill_color\":{\"value\":\"#ffbb78\"},\"line_color\":{\"value\":\"#ffbb78\"},\"line_width\":{\"value\":2},\"top\":{\"field\":\"1/23/20\"},\"width\":{\"value\":0.007874015748031496},\"x\":{\"field\":\"__x__values\",\"transform\":{\"id\":\"1120\"}}},\"id\":\"1122\",\"type\":\"VBar\"},{\"attributes\":{\"fill_color\":{\"value\":\"#2ca02c\"},\"line_color\":{\"value\":\"#2ca02c\"},\"line_width\":{\"value\":2},\"top\":{\"field\":\"1/24/20\"},\"width\":{\"value\":0.007874015748031496},\"x\":{\"field\":\"__x__values\",\"transform\":{\"id\":\"1136\"}}},\"id\":\"1138\",\"type\":\"VBar\"},{\"attributes\":{\"range\":{\"id\":\"1041\"},\"value\":0.09126984126984128},\"id\":\"1760\",\"type\":\"Dodge\"},{\"attributes\":{\"fill_color\":{\"value\":\"#ffbb78\"},\"line_color\":{\"value\":\"#ffbb78\"},\"line_width\":{\"value\":2},\"top\":{\"field\":\"3/3/20\"},\"width\":{\"value\":0.007874015748031496},\"x\":{\"field\":\"__x__values\",\"transform\":{\"id\":\"1760\"}}},\"id\":\"1762\",\"type\":\"VBar\"},{\"attributes\":{\"callback\":null,\"mode\":\"vline\",\"renderers\":[{\"id\":\"1108\"}],\"tooltips\":[[\"Provinces / States\",\"@__x__values_original\"],[\"1/22/20\",\"@{1/22/20}\"]]},\"id\":\"1118\",\"type\":\"HoverTool\"},{\"attributes\":{\"fill_color\":{\"value\":\"#2ca02c\"},\"line_color\":{\"value\":\"#2ca02c\"},\"line_width\":{\"value\":2},\"top\":{\"field\":\"3/4/20\"},\"width\":{\"value\":0.007874015748031496},\"x\":{\"field\":\"__x__values\",\"transform\":{\"id\":\"1776\"}}},\"id\":\"1778\",\"type\":\"VBar\"},{\"attributes\":{\"source\":{\"id\":\"1037\"}},\"id\":\"1109\",\"type\":\"CDSView\"},{\"attributes\":{\"source\":{\"id\":\"1037\"}},\"id\":\"1765\",\"type\":\"CDSView\"},{\"attributes\":{\"data_source\":{\"id\":\"1037\"},\"glyph\":{\"id\":\"1762\"},\"hover_glyph\":null,\"muted_glyph\":null,\"nonselection_glyph\":{\"id\":\"1763\"},\"selection_glyph\":null,\"view\":{\"id\":\"1765\"}},\"id\":\"1764\",\"type\":\"GlyphRenderer\"},{\"attributes\":{\"fill_alpha\":{\"value\":0.1},\"fill_color\":{\"value\":\"#ffbb78\"},\"line_alpha\":{\"value\":0.1},\"line_color\":{\"value\":\"#ffbb78\"},\"line_width\":{\"value\":2},\"top\":{\"field\":\"3/3/20\"},\"width\":{\"value\":0.007874015748031496},\"x\":{\"field\":\"__x__values\",\"transform\":{\"id\":\"1760\"}}},\"id\":\"1763\",\"type\":\"VBar\"},{\"attributes\":{\"data_source\":{\"id\":\"1037\"},\"glyph\":{\"id\":\"1106\"},\"hover_glyph\":null,\"muted_glyph\":null,\"nonselection_glyph\":{\"id\":\"1107\"},\"selection_glyph\":null,\"view\":{\"id\":\"1109\"}},\"id\":\"1108\",\"type\":\"GlyphRenderer\"},{\"attributes\":{\"callback\":null,\"mode\":\"vline\",\"renderers\":[{\"id\":\"1780\"}],\"tooltips\":[[\"Provinces / States\",\"@__x__values_original\"],[\"3/4/20\",\"@{3/4/20}\"]]},\"id\":\"1790\",\"type\":\"HoverTool\"},{\"attributes\":{\"data_source\":{\"id\":\"1037\"},\"glyph\":{\"id\":\"1650\"},\"hover_glyph\":null,\"muted_glyph\":null,\"nonselection_glyph\":{\"id\":\"1651\"},\"selection_glyph\":null,\"view\":{\"id\":\"1653\"}},\"id\":\"1652\",\"type\":\"GlyphRenderer\"},{\"attributes\":{\"fill_alpha\":{\"value\":0.1},\"fill_color\":{\"value\":\"#ff7f0e\"},\"line_alpha\":{\"value\":0.1},\"line_color\":{\"value\":\"#ff7f0e\"},\"line_width\":{\"value\":2},\"top\":{\"field\":\"1/22/20\"},\"width\":{\"value\":0.007874015748031496},\"x\":{\"field\":\"__x__values\",\"transform\":{\"id\":\"1104\"}}},\"id\":\"1107\",\"type\":\"VBar\"},{\"attributes\":{\"source\":{\"id\":\"1037\"}},\"id\":\"1781\",\"type\":\"CDSView\"},{\"attributes\":{\"data_source\":{\"id\":\"1037\"},\"glyph\":{\"id\":\"1778\"},\"hover_glyph\":null,\"muted_glyph\":null,\"nonselection_glyph\":{\"id\":\"1779\"},\"selection_glyph\":null,\"view\":{\"id\":\"1781\"}},\"id\":\"1780\",\"type\":\"GlyphRenderer\"},{\"attributes\":{\"label\":{\"value\":\" 1/22/20\"},\"renderers\":[{\"id\":\"1108\"}]},\"id\":\"1117\",\"type\":\"LegendItem\"},{\"attributes\":{\"fill_alpha\":{\"value\":0.1},\"fill_color\":{\"value\":\"#2ca02c\"},\"line_alpha\":{\"value\":0.1},\"line_color\":{\"value\":\"#2ca02c\"},\"line_width\":{\"value\":2},\"top\":{\"field\":\"3/4/20\"},\"width\":{\"value\":0.007874015748031496},\"x\":{\"field\":\"__x__values\",\"transform\":{\"id\":\"1776\"}}},\"id\":\"1779\",\"type\":\"VBar\"},{\"attributes\":{\"label\":{\"value\":\" 3/4/20\"},\"renderers\":[{\"id\":\"1780\"}]},\"id\":\"1789\",\"type\":\"LegendItem\"},{\"attributes\":{\"range\":{\"id\":\"1041\"},\"value\":0.13888888888888884},\"id\":\"1856\",\"type\":\"Dodge\"},{\"attributes\":{\"callback\":null,\"mode\":\"vline\",\"renderers\":[{\"id\":\"1844\"}],\"tooltips\":[[\"Provinces / States\",\"@__x__values_original\"],[\"3/8/20\",\"@{3/8/20}\"]]},\"id\":\"1854\",\"type\":\"HoverTool\"},{\"attributes\":{\"range\":{\"id\":\"1041\"},\"value\":0.1071428571428571},\"id\":\"1792\",\"type\":\"Dodge\"},{\"attributes\":{\"fill_color\":{\"value\":\"#98df8a\"},\"line_color\":{\"value\":\"#98df8a\"},\"line_width\":{\"value\":2},\"top\":{\"field\":\"3/5/20\"},\"width\":{\"value\":0.007874015748031496},\"x\":{\"field\":\"__x__values\",\"transform\":{\"id\":\"1792\"}}},\"id\":\"1794\",\"type\":\"VBar\"},{\"attributes\":{\"fill_alpha\":{\"value\":0.1},\"fill_color\":{\"value\":\"#ff9896\"},\"line_alpha\":{\"value\":0.1},\"line_color\":{\"value\":\"#ff9896\"},\"line_width\":{\"value\":2},\"top\":{\"field\":\"1/27/20\"},\"width\":{\"value\":0.007874015748031496},\"x\":{\"field\":\"__x__values\",\"transform\":{\"id\":\"1184\"}}},\"id\":\"1187\",\"type\":\"VBar\"},{\"attributes\":{\"range\":{\"id\":\"1041\"},\"value\":-0.21825396825396826},\"id\":\"1136\",\"type\":\"Dodge\"},{\"attributes\":{\"callback\":null,\"mode\":\"vline\",\"renderers\":[{\"id\":\"1796\"}],\"tooltips\":[[\"Provinces / States\",\"@__x__values_original\"],[\"3/5/20\",\"@{3/5/20}\"]]},\"id\":\"1806\",\"type\":\"HoverTool\"},{\"attributes\":{\"source\":{\"id\":\"1037\"}},\"id\":\"1797\",\"type\":\"CDSView\"},{\"attributes\":{\"data_source\":{\"id\":\"1037\"},\"glyph\":{\"id\":\"1794\"},\"hover_glyph\":null,\"muted_glyph\":null,\"nonselection_glyph\":{\"id\":\"1795\"},\"selection_glyph\":null,\"view\":{\"id\":\"1797\"}},\"id\":\"1796\",\"type\":\"GlyphRenderer\"},{\"attributes\":{\"fill_alpha\":{\"value\":0.1},\"fill_color\":{\"value\":\"#98df8a\"},\"line_alpha\":{\"value\":0.1},\"line_color\":{\"value\":\"#98df8a\"},\"line_width\":{\"value\":2},\"top\":{\"field\":\"3/5/20\"},\"width\":{\"value\":0.007874015748031496},\"x\":{\"field\":\"__x__values\",\"transform\":{\"id\":\"1792\"}}},\"id\":\"1795\",\"type\":\"VBar\"},{\"attributes\":{\"label\":{\"value\":\" 3/5/20\"},\"renderers\":[{\"id\":\"1796\"}]},\"id\":\"1805\",\"type\":\"LegendItem\"},{\"attributes\":{\"label\":{\"value\":\" 3/8/20\"},\"renderers\":[{\"id\":\"1844\"}]},\"id\":\"1853\",\"type\":\"LegendItem\"},{\"attributes\":{\"callback\":null,\"mode\":\"vline\",\"renderers\":[{\"id\":\"1124\"}],\"tooltips\":[[\"Provinces / States\",\"@__x__values_original\"],[\"1/23/20\",\"@{1/23/20}\"]]},\"id\":\"1134\",\"type\":\"HoverTool\"},{\"attributes\":{\"range\":{\"id\":\"1041\"},\"value\":0.11507936507936506},\"id\":\"1808\",\"type\":\"Dodge\"},{\"attributes\":{\"source\":{\"id\":\"1037\"}},\"id\":\"1125\",\"type\":\"CDSView\"},{\"attributes\":{\"fill_color\":{\"value\":\"#d62728\"},\"line_color\":{\"value\":\"#d62728\"},\"line_width\":{\"value\":2},\"top\":{\"field\":\"3/6/20\"},\"width\":{\"value\":0.007874015748031496},\"x\":{\"field\":\"__x__values\",\"transform\":{\"id\":\"1808\"}}},\"id\":\"1810\",\"type\":\"VBar\"},{\"attributes\":{\"fill_alpha\":{\"value\":0.1},\"fill_color\":{\"value\":\"#d62728\"},\"line_alpha\":{\"value\":0.1},\"line_color\":{\"value\":\"#d62728\"},\"line_width\":{\"value\":2},\"top\":{\"field\":\"3/6/20\"},\"width\":{\"value\":0.007874015748031496},\"x\":{\"field\":\"__x__values\",\"transform\":{\"id\":\"1808\"}}},\"id\":\"1811\",\"type\":\"VBar\"},{\"attributes\":{\"data_source\":{\"id\":\"1037\"},\"glyph\":{\"id\":\"1618\"},\"hover_glyph\":null,\"muted_glyph\":null,\"nonselection_glyph\":{\"id\":\"1619\"},\"selection_glyph\":null,\"view\":{\"id\":\"1621\"}},\"id\":\"1620\",\"type\":\"GlyphRenderer\"},{\"attributes\":{\"data_source\":{\"id\":\"1037\"},\"glyph\":{\"id\":\"1874\"},\"hover_glyph\":null,\"muted_glyph\":null,\"nonselection_glyph\":{\"id\":\"1875\"},\"selection_glyph\":null,\"view\":{\"id\":\"1877\"}},\"id\":\"1876\",\"type\":\"GlyphRenderer\"},{\"attributes\":{\"fill_alpha\":{\"value\":0.1},\"fill_color\":{\"value\":\"#aec7e8\"},\"line_alpha\":{\"value\":0.1},\"line_color\":{\"value\":\"#aec7e8\"},\"line_width\":{\"value\":2},\"top\":{\"field\":\"Long\"},\"width\":{\"value\":0.007874015748031496},\"x\":{\"field\":\"__x__values\",\"transform\":{\"id\":\"1088\"}}},\"id\":\"1091\",\"type\":\"VBar\"},{\"attributes\":{\"callback\":null,\"mode\":\"vline\",\"renderers\":[{\"id\":\"1236\"}],\"tooltips\":[[\"Provinces / States\",\"@__x__values_original\"],[\"1/30/20\",\"@{1/30/20}\"]]},\"id\":\"1246\",\"type\":\"HoverTool\"},{\"attributes\":{\"source\":{\"id\":\"1037\"}},\"id\":\"1877\",\"type\":\"CDSView\"},{\"attributes\":{\"callback\":null,\"mode\":\"vline\",\"renderers\":[{\"id\":\"1556\"}],\"tooltips\":[[\"Provinces / States\",\"@__x__values_original\"],[\"2/19/20\",\"@{2/19/20}\"]]},\"id\":\"1566\",\"type\":\"HoverTool\"},{\"attributes\":{\"fill_alpha\":{\"value\":0.1},\"fill_color\":{\"value\":\"#7f7f7f\"},\"line_alpha\":{\"value\":0.1},\"line_color\":{\"value\":\"#7f7f7f\"},\"line_width\":{\"value\":2},\"top\":{\"field\":\"2/23/20\"},\"width\":{\"value\":0.007874015748031496},\"x\":{\"field\":\"__x__values\",\"transform\":{\"id\":\"1616\"}}},\"id\":\"1619\",\"type\":\"VBar\"},{\"attributes\":{\"label\":{\"value\":\" 2/19/20\"},\"renderers\":[{\"id\":\"1556\"}]},\"id\":\"1565\",\"type\":\"LegendItem\"},{\"attributes\":{\"range\":{\"id\":\"1041\"},\"value\":-0.13095238095238096},\"id\":\"1312\",\"type\":\"Dodge\"},{\"attributes\":{\"fill_color\":{\"value\":\"#17becf\"},\"line_color\":{\"value\":\"#17becf\"},\"line_width\":{\"value\":2},\"top\":{\"field\":\"2/27/20\"},\"width\":{\"value\":0.007874015748031496},\"x\":{\"field\":\"__x__values\",\"transform\":{\"id\":\"1680\"}}},\"id\":\"1682\",\"type\":\"VBar\"},{\"attributes\":{\"callback\":null,\"mode\":\"vline\",\"renderers\":[{\"id\":\"1876\"}],\"tooltips\":[[\"Provinces / States\",\"@__x__values_original\"],[\"3/10/20\",\"@{3/10/20}\"]]},\"id\":\"1886\",\"type\":\"HoverTool\"},{\"attributes\":{\"range\":{\"id\":\"1041\"},\"value\":-0.1626984126984127},\"id\":\"1248\",\"type\":\"Dodge\"},{\"attributes\":{\"click_policy\":\"hide\",\"items\":[{\"id\":\"1085\"},{\"id\":\"1101\"},{\"id\":\"1117\"},{\"id\":\"1133\"},{\"id\":\"1149\"},{\"id\":\"1165\"},{\"id\":\"1181\"},{\"id\":\"1197\"},{\"id\":\"1213\"},{\"id\":\"1229\"},{\"id\":\"1245\"},{\"id\":\"1261\"},{\"id\":\"1277\"},{\"id\":\"1293\"},{\"id\":\"1309\"},{\"id\":\"1325\"},{\"id\":\"1341\"},{\"id\":\"1357\"},{\"id\":\"1373\"},{\"id\":\"1389\"},{\"id\":\"1405\"},{\"id\":\"1421\"},{\"id\":\"1437\"},{\"id\":\"1453\"},{\"id\":\"1469\"},{\"id\":\"1485\"},{\"id\":\"1501\"},{\"id\":\"1517\"},{\"id\":\"1533\"},{\"id\":\"1549\"},{\"id\":\"1565\"},{\"id\":\"1581\"},{\"id\":\"1597\"},{\"id\":\"1613\"},{\"id\":\"1629\"},{\"id\":\"1645\"},{\"id\":\"1661\"},{\"id\":\"1677\"},{\"id\":\"1693\"},{\"id\":\"1709\"},{\"id\":\"1725\"},{\"id\":\"1741\"},{\"id\":\"1757\"},{\"id\":\"1773\"},{\"id\":\"1789\"},{\"id\":\"1805\"},{\"id\":\"1821\"},{\"id\":\"1837\"},{\"id\":\"1853\"},{\"id\":\"1869\"},{\"id\":\"1885\"},{\"id\":\"1901\"},{\"id\":\"1917\"},{\"id\":\"1933\"},{\"id\":\"1949\"},{\"id\":\"1965\"},{\"id\":\"1981\"},{\"id\":\"1997\"},{\"id\":\"2013\"},{\"id\":\"2029\"},{\"id\":\"2045\"},{\"id\":\"2061\"},{\"id\":\"2077\"},{\"id\":\"2093\"}],\"visible\":false},\"id\":\"1084\",\"type\":\"Legend\"},{\"attributes\":{\"fill_color\":{\"value\":\"#c7c7c7\"},\"line_color\":{\"value\":\"#c7c7c7\"},\"line_width\":{\"value\":2},\"top\":{\"field\":\"2/4/20\"},\"width\":{\"value\":0.007874015748031496},\"x\":{\"field\":\"__x__values\",\"transform\":{\"id\":\"1312\"}}},\"id\":\"1314\",\"type\":\"VBar\"},{\"attributes\":{\"callback\":null,\"mode\":\"vline\",\"renderers\":[{\"id\":\"1620\"}],\"tooltips\":[[\"Provinces / States\",\"@__x__values_original\"],[\"2/23/20\",\"@{2/23/20}\"]]},\"id\":\"1630\",\"type\":\"HoverTool\"},{\"attributes\":{\"label\":{\"value\":\" 3/10/20\"},\"renderers\":[{\"id\":\"1876\"}]},\"id\":\"1885\",\"type\":\"LegendItem\"},{\"attributes\":{\"fill_color\":{\"value\":\"#c49c94\"},\"line_color\":{\"value\":\"#c49c94\"},\"line_width\":{\"value\":2},\"top\":{\"field\":\"1/31/20\"},\"width\":{\"value\":0.007874015748031496},\"x\":{\"field\":\"__x__values\",\"transform\":{\"id\":\"1248\"}}},\"id\":\"1250\",\"type\":\"VBar\"},{\"attributes\":{\"range\":{\"id\":\"1041\"},\"value\":-0.003968253968253982},\"id\":\"1568\",\"type\":\"Dodge\"},{\"attributes\":{\"fill_color\":{\"value\":\"#c49c94\"},\"line_color\":{\"value\":\"#c49c94\"},\"line_width\":{\"value\":2},\"top\":{\"field\":\"2/20/20\"},\"width\":{\"value\":0.007874015748031496},\"x\":{\"field\":\"__x__values\",\"transform\":{\"id\":\"1568\"}}},\"id\":\"1570\",\"type\":\"VBar\"},{\"attributes\":{\"source\":{\"id\":\"1037\"}},\"id\":\"1621\",\"type\":\"CDSView\"},{\"attributes\":{\"range\":{\"id\":\"1041\"},\"value\":0.15476190476190477},\"id\":\"1888\",\"type\":\"Dodge\"},{\"attributes\":{\"callback\":null,\"mode\":\"vline\",\"renderers\":[{\"id\":\"1316\"}],\"tooltips\":[[\"Provinces / States\",\"@__x__values_original\"],[\"2/4/20\",\"@{2/4/20}\"]]},\"id\":\"1326\",\"type\":\"HoverTool\"},{\"attributes\":{\"source\":{\"id\":\"1037\"}},\"id\":\"1317\",\"type\":\"CDSView\"},{\"attributes\":{\"fill_color\":{\"value\":\"#c49c94\"},\"line_color\":{\"value\":\"#c49c94\"},\"line_width\":{\"value\":2},\"top\":{\"field\":\"3/11/20\"},\"width\":{\"value\":0.007874015748031496},\"x\":{\"field\":\"__x__values\",\"transform\":{\"id\":\"1888\"}}},\"id\":\"1890\",\"type\":\"VBar\"},{\"attributes\":{\"callback\":null,\"mode\":\"vline\",\"renderers\":[{\"id\":\"1252\"}],\"tooltips\":[[\"Provinces / States\",\"@__x__values_original\"],[\"1/31/20\",\"@{1/31/20}\"]]},\"id\":\"1262\",\"type\":\"HoverTool\"},{\"attributes\":{\"label\":{\"value\":\" Lat\"},\"renderers\":[{\"id\":\"1077\"}]},\"id\":\"1085\",\"type\":\"LegendItem\"},{\"attributes\":{\"source\":{\"id\":\"1037\"}},\"id\":\"1253\",\"type\":\"CDSView\"},{\"attributes\":{\"data_source\":{\"id\":\"1037\"},\"glyph\":{\"id\":\"1314\"},\"hover_glyph\":null,\"muted_glyph\":null,\"nonselection_glyph\":{\"id\":\"1315\"},\"selection_glyph\":null,\"view\":{\"id\":\"1317\"}},\"id\":\"1316\",\"type\":\"GlyphRenderer\"},{\"attributes\":{\"data_source\":{\"id\":\"1037\"},\"glyph\":{\"id\":\"1250\"},\"hover_glyph\":null,\"muted_glyph\":null,\"nonselection_glyph\":{\"id\":\"1251\"},\"selection_glyph\":null,\"view\":{\"id\":\"1253\"}},\"id\":\"1252\",\"type\":\"GlyphRenderer\"},{\"attributes\":{\"fill_alpha\":{\"value\":0.1},\"fill_color\":{\"value\":\"#c7c7c7\"},\"line_alpha\":{\"value\":0.1},\"line_color\":{\"value\":\"#c7c7c7\"},\"line_width\":{\"value\":2},\"top\":{\"field\":\"2/4/20\"},\"width\":{\"value\":0.007874015748031496},\"x\":{\"field\":\"__x__values\",\"transform\":{\"id\":\"1312\"}}},\"id\":\"1315\",\"type\":\"VBar\"},{\"attributes\":{\"callback\":null,\"mode\":\"vline\",\"renderers\":[{\"id\":\"1572\"}],\"tooltips\":[[\"Provinces / States\",\"@__x__values_original\"],[\"2/20/20\",\"@{2/20/20}\"]]},\"id\":\"1582\",\"type\":\"HoverTool\"},{\"attributes\":{\"label\":{\"value\":\" 2/23/20\"},\"renderers\":[{\"id\":\"1620\"}]},\"id\":\"1629\",\"type\":\"LegendItem\"},{\"attributes\":{\"fill_alpha\":{\"value\":0.1},\"fill_color\":{\"value\":\"#c49c94\"},\"line_alpha\":{\"value\":0.1},\"line_color\":{\"value\":\"#c49c94\"},\"line_width\":{\"value\":2},\"top\":{\"field\":\"1/31/20\"},\"width\":{\"value\":0.007874015748031496},\"x\":{\"field\":\"__x__values\",\"transform\":{\"id\":\"1248\"}}},\"id\":\"1251\",\"type\":\"VBar\"},{\"attributes\":{\"source\":{\"id\":\"1037\"}},\"id\":\"1573\",\"type\":\"CDSView\"},{\"attributes\":{\"label\":{\"value\":\" 2/4/20\"},\"renderers\":[{\"id\":\"1316\"}]},\"id\":\"1325\",\"type\":\"LegendItem\"},{\"attributes\":{\"label\":{\"value\":\" 1/31/20\"},\"renderers\":[{\"id\":\"1252\"}]},\"id\":\"1261\",\"type\":\"LegendItem\"},{\"attributes\":{\"range\":{\"id\":\"1041\"},\"value\":-0.09920634920634921},\"id\":\"1376\",\"type\":\"Dodge\"},{\"attributes\":{\"data_source\":{\"id\":\"1037\"},\"glyph\":{\"id\":\"1570\"},\"hover_glyph\":null,\"muted_glyph\":null,\"nonselection_glyph\":{\"id\":\"1571\"},\"selection_glyph\":null,\"view\":{\"id\":\"1573\"}},\"id\":\"1572\",\"type\":\"GlyphRenderer\"},{\"attributes\":{\"callback\":null,\"mode\":\"vline\",\"renderers\":[{\"id\":\"1892\"}],\"tooltips\":[[\"Provinces / States\",\"@__x__values_original\"],[\"3/11/20\",\"@{3/11/20}\"]]},\"id\":\"1902\",\"type\":\"HoverTool\"},{\"attributes\":{\"label\":{\"value\":\" Long\"},\"renderers\":[{\"id\":\"1092\"}]},\"id\":\"1101\",\"type\":\"LegendItem\"},{\"attributes\":{\"fill_alpha\":{\"value\":0.1},\"fill_color\":{\"value\":\"#c49c94\"},\"line_alpha\":{\"value\":0.1},\"line_color\":{\"value\":\"#c49c94\"},\"line_width\":{\"value\":2},\"top\":{\"field\":\"2/20/20\"},\"width\":{\"value\":0.007874015748031496},\"x\":{\"field\":\"__x__values\",\"transform\":{\"id\":\"1568\"}}},\"id\":\"1571\",\"type\":\"VBar\"},{\"attributes\":{\"source\":{\"id\":\"1037\"}},\"id\":\"1893\",\"type\":\"CDSView\"},{\"attributes\":{\"fill_color\":{\"value\":\"#f7b6d2\"},\"line_color\":{\"value\":\"#f7b6d2\"},\"line_width\":{\"value\":2},\"top\":{\"field\":\"2/2/20\"},\"width\":{\"value\":0.007874015748031496},\"x\":{\"field\":\"__x__values\",\"transform\":{\"id\":\"1280\"}}},\"id\":\"1282\",\"type\":\"VBar\"},{\"attributes\":{\"label\":{\"value\":\" 2/20/20\"},\"renderers\":[{\"id\":\"1572\"}]},\"id\":\"1581\",\"type\":\"LegendItem\"},{\"attributes\":{\"range\":{\"id\":\"1041\"},\"value\":-0.12301587301587302},\"id\":\"1328\",\"type\":\"Dodge\"},{\"attributes\":{\"data_source\":{\"id\":\"1037\"},\"glyph\":{\"id\":\"1890\"},\"hover_glyph\":null,\"muted_glyph\":null,\"nonselection_glyph\":{\"id\":\"1891\"},\"selection_glyph\":null,\"view\":{\"id\":\"1893\"}},\"id\":\"1892\",\"type\":\"GlyphRenderer\"},{\"attributes\":{\"range\":{\"id\":\"1041\"},\"value\":-0.15476190476190477},\"id\":\"1264\",\"type\":\"Dodge\"},{\"attributes\":{\"fill_alpha\":{\"value\":0.1},\"fill_color\":{\"value\":\"#c49c94\"},\"line_alpha\":{\"value\":0.1},\"line_color\":{\"value\":\"#c49c94\"},\"line_width\":{\"value\":2},\"top\":{\"field\":\"3/11/20\"},\"width\":{\"value\":0.007874015748031496},\"x\":{\"field\":\"__x__values\",\"transform\":{\"id\":\"1888\"}}},\"id\":\"1891\",\"type\":\"VBar\"},{\"attributes\":{},\"id\":\"1099\",\"type\":\"Selection\"},{\"attributes\":{\"fill_color\":{\"value\":\"#bcbd22\"},\"line_color\":{\"value\":\"#bcbd22\"},\"line_width\":{\"value\":2},\"top\":{\"field\":\"2/5/20\"},\"width\":{\"value\":0.007874015748031496},\"x\":{\"field\":\"__x__values\",\"transform\":{\"id\":\"1328\"}}},\"id\":\"1330\",\"type\":\"VBar\"},{\"attributes\":{\"callback\":null,\"mode\":\"vline\",\"renderers\":[{\"id\":\"1764\"}],\"tooltips\":[[\"Provinces / States\",\"@__x__values_original\"],[\"3/3/20\",\"@{3/3/20}\"]]},\"id\":\"1774\",\"type\":\"HoverTool\"},{\"attributes\":{\"label\":{\"value\":\" 2/26/20\"},\"renderers\":[{\"id\":\"1668\"}]},\"id\":\"1677\",\"type\":\"LegendItem\"},{\"attributes\":{\"label\":{\"value\":\" 3/11/20\"},\"renderers\":[{\"id\":\"1892\"}]},\"id\":\"1901\",\"type\":\"LegendItem\"},{\"attributes\":{\"fill_color\":{\"value\":\"#e377c2\"},\"line_color\":{\"value\":\"#e377c2\"},\"line_width\":{\"value\":2},\"top\":{\"field\":\"2/1/20\"},\"width\":{\"value\":0.007874015748031496},\"x\":{\"field\":\"__x__values\",\"transform\":{\"id\":\"1264\"}}},\"id\":\"1266\",\"type\":\"VBar\"},{\"attributes\":{\"range\":{\"id\":\"1041\"},\"value\":-0.23412698412698413},\"id\":\"1104\",\"type\":\"Dodge\"},{\"attributes\":{\"range\":{\"id\":\"1041\"},\"value\":0.003968253968253954},\"id\":\"1584\",\"type\":\"Dodge\"},{\"attributes\":{\"range\":{\"id\":\"1041\"},\"value\":0.17857142857142855},\"id\":\"1936\",\"type\":\"Dodge\"},{\"attributes\":{\"bottom_units\":\"screen\",\"fill_alpha\":0.5,\"fill_color\":\"lightgrey\",\"left_units\":\"screen\",\"level\":\"overlay\",\"line_alpha\":1.0,\"line_color\":\"black\",\"line_dash\":[4,4],\"line_width\":2,\"render_mode\":\"css\",\"right_units\":\"screen\",\"top_units\":\"screen\"},\"id\":\"1063\",\"type\":\"BoxAnnotation\"},{\"attributes\":{\"data_source\":{\"id\":\"1037\"},\"glyph\":{\"id\":\"1090\"},\"hover_glyph\":null,\"muted_glyph\":null,\"nonselection_glyph\":{\"id\":\"1091\"},\"selection_glyph\":null,\"view\":{\"id\":\"1093\"}},\"id\":\"1092\",\"type\":\"GlyphRenderer\"},{\"attributes\":{\"fill_color\":{\"value\":\"#7f7f7f\"},\"line_color\":{\"value\":\"#7f7f7f\"},\"line_width\":{\"value\":2},\"top\":{\"field\":\"3/14/20\"},\"width\":{\"value\":0.007874015748031496},\"x\":{\"field\":\"__x__values\",\"transform\":{\"id\":\"1936\"}}},\"id\":\"1938\",\"type\":\"VBar\"},{\"attributes\":{\"fill_color\":{\"value\":\"#e377c2\"},\"line_color\":{\"value\":\"#e377c2\"},\"line_width\":{\"value\":2},\"top\":{\"field\":\"2/21/20\"},\"width\":{\"value\":0.007874015748031496},\"x\":{\"field\":\"__x__values\",\"transform\":{\"id\":\"1584\"}}},\"id\":\"1586\",\"type\":\"VBar\"},{\"attributes\":{\"fill_color\":{\"value\":\"#7f7f7f\"},\"line_color\":{\"value\":\"#7f7f7f\"},\"line_width\":{\"value\":2},\"top\":{\"field\":\"2/23/20\"},\"width\":{\"value\":0.007874015748031496},\"x\":{\"field\":\"__x__values\",\"transform\":{\"id\":\"1616\"}}},\"id\":\"1618\",\"type\":\"VBar\"},{\"attributes\":{\"range\":{\"id\":\"1041\"},\"value\":0.16269841269841268},\"id\":\"1904\",\"type\":\"Dodge\"},{\"attributes\":{\"callback\":null,\"mode\":\"vline\",\"renderers\":[{\"id\":\"1332\"}],\"tooltips\":[[\"Provinces / States\",\"@__x__values_original\"],[\"2/5/20\",\"@{2/5/20}\"]]},\"id\":\"1342\",\"type\":\"HoverTool\"},{\"attributes\":{\"source\":{\"id\":\"1037\"}},\"id\":\"1333\",\"type\":\"CDSView\"},{\"attributes\":{\"fill_color\":{\"value\":\"#e377c2\"},\"line_color\":{\"value\":\"#e377c2\"},\"line_width\":{\"value\":2},\"top\":{\"field\":\"3/12/20\"},\"width\":{\"value\":0.007874015748031496},\"x\":{\"field\":\"__x__values\",\"transform\":{\"id\":\"1904\"}}},\"id\":\"1906\",\"type\":\"VBar\"},{\"attributes\":{\"callback\":null,\"mode\":\"vline\",\"renderers\":[{\"id\":\"1444\"}],\"tooltips\":[[\"Provinces / States\",\"@__x__values_original\"],[\"2/12/20\",\"@{2/12/20}\"]]},\"id\":\"1454\",\"type\":\"HoverTool\"},{\"attributes\":{\"source\":{\"id\":\"1037\"}},\"id\":\"1269\",\"type\":\"CDSView\"},{\"attributes\":{\"data_source\":{\"id\":\"1037\"},\"glyph\":{\"id\":\"1330\"},\"hover_glyph\":null,\"muted_glyph\":null,\"nonselection_glyph\":{\"id\":\"1331\"},\"selection_glyph\":null,\"view\":{\"id\":\"1333\"}},\"id\":\"1332\",\"type\":\"GlyphRenderer\"},{\"attributes\":{\"data_source\":{\"id\":\"1037\"},\"glyph\":{\"id\":\"1266\"},\"hover_glyph\":null,\"muted_glyph\":null,\"nonselection_glyph\":{\"id\":\"1267\"},\"selection_glyph\":null,\"view\":{\"id\":\"1269\"}},\"id\":\"1268\",\"type\":\"GlyphRenderer\"},{\"attributes\":{\"fill_alpha\":{\"value\":0.1},\"fill_color\":{\"value\":\"#bcbd22\"},\"line_alpha\":{\"value\":0.1},\"line_color\":{\"value\":\"#bcbd22\"},\"line_width\":{\"value\":2},\"top\":{\"field\":\"2/5/20\"},\"width\":{\"value\":0.007874015748031496},\"x\":{\"field\":\"__x__values\",\"transform\":{\"id\":\"1328\"}}},\"id\":\"1331\",\"type\":\"VBar\"},{\"attributes\":{\"callback\":null,\"mode\":\"vline\",\"renderers\":[{\"id\":\"1588\"}],\"tooltips\":[[\"Provinces / States\",\"@__x__values_original\"],[\"2/21/20\",\"@{2/21/20}\"]]},\"id\":\"1598\",\"type\":\"HoverTool\"},{\"attributes\":{\"fill_alpha\":{\"value\":0.1},\"fill_color\":{\"value\":\"#e377c2\"},\"line_alpha\":{\"value\":0.1},\"line_color\":{\"value\":\"#e377c2\"},\"line_width\":{\"value\":2},\"top\":{\"field\":\"2/1/20\"},\"width\":{\"value\":0.007874015748031496},\"x\":{\"field\":\"__x__values\",\"transform\":{\"id\":\"1264\"}}},\"id\":\"1267\",\"type\":\"VBar\"},{\"attributes\":{\"source\":{\"id\":\"1037\"}},\"id\":\"1589\",\"type\":\"CDSView\"},{\"attributes\":{\"label\":{\"value\":\" 2/5/20\"},\"renderers\":[{\"id\":\"1332\"}]},\"id\":\"1341\",\"type\":\"LegendItem\"},{\"attributes\":{\"callback\":null,\"mode\":\"vline\",\"renderers\":[{\"id\":\"1077\"}],\"tooltips\":[[\"Provinces / States\",\"@__x__values_original\"],[\"Lat\",\"@{Lat}\"]]},\"id\":\"1086\",\"type\":\"HoverTool\"},{\"attributes\":{\"callback\":null,\"mode\":\"vline\",\"renderers\":[{\"id\":\"1364\"}],\"tooltips\":[[\"Provinces / States\",\"@__x__values_original\"],[\"2/7/20\",\"@{2/7/20}\"]]},\"id\":\"1374\",\"type\":\"HoverTool\"},{\"attributes\":{\"data_source\":{\"id\":\"1037\"},\"glyph\":{\"id\":\"1586\"},\"hover_glyph\":null,\"muted_glyph\":null,\"nonselection_glyph\":{\"id\":\"1587\"},\"selection_glyph\":null,\"view\":{\"id\":\"1589\"}},\"id\":\"1588\",\"type\":\"GlyphRenderer\"},{\"attributes\":{\"callback\":null,\"mode\":\"vline\",\"renderers\":[{\"id\":\"1908\"}],\"tooltips\":[[\"Provinces / States\",\"@__x__values_original\"],[\"3/12/20\",\"@{3/12/20}\"]]},\"id\":\"1918\",\"type\":\"HoverTool\"},{\"attributes\":{\"range\":{\"id\":\"1041\"},\"value\":-0.24206349206349206},\"id\":\"1088\",\"type\":\"Dodge\"},{\"attributes\":{\"fill_alpha\":{\"value\":0.1},\"fill_color\":{\"value\":\"#e377c2\"},\"line_alpha\":{\"value\":0.1},\"line_color\":{\"value\":\"#e377c2\"},\"line_width\":{\"value\":2},\"top\":{\"field\":\"2/21/20\"},\"width\":{\"value\":0.007874015748031496},\"x\":{\"field\":\"__x__values\",\"transform\":{\"id\":\"1584\"}}},\"id\":\"1587\",\"type\":\"VBar\"},{\"attributes\":{\"source\":{\"id\":\"1037\"}},\"id\":\"1909\",\"type\":\"CDSView\"},{\"attributes\":{\"range\":{\"id\":\"1041\"},\"value\":-0.2261904761904762},\"id\":\"1120\",\"type\":\"Dodge\"},{\"attributes\":{\"source\":{\"id\":\"1037\"}},\"id\":\"1093\",\"type\":\"CDSView\"},{\"attributes\":{\"callback\":null,\"mode\":\"vline\",\"renderers\":[{\"id\":\"1284\"}],\"tooltips\":[[\"Provinces / States\",\"@__x__values_original\"],[\"2/2/20\",\"@{2/2/20}\"]]},\"id\":\"1294\",\"type\":\"HoverTool\"},{\"attributes\":{\"label\":{\"value\":\" 2/21/20\"},\"renderers\":[{\"id\":\"1588\"}]},\"id\":\"1597\",\"type\":\"LegendItem\"},{\"attributes\":{\"range\":{\"id\":\"1041\"},\"value\":-0.11507936507936509},\"id\":\"1344\",\"type\":\"Dodge\"},{\"attributes\":{\"data_source\":{\"id\":\"1037\"},\"glyph\":{\"id\":\"1906\"},\"hover_glyph\":null,\"muted_glyph\":null,\"nonselection_glyph\":{\"id\":\"1907\"},\"selection_glyph\":null,\"view\":{\"id\":\"1909\"}},\"id\":\"1908\",\"type\":\"GlyphRenderer\"},{\"attributes\":{\"source\":{\"id\":\"1037\"}},\"id\":\"1285\",\"type\":\"CDSView\"},{\"attributes\":{\"fill_alpha\":{\"value\":0.1},\"fill_color\":{\"value\":\"#e377c2\"},\"line_alpha\":{\"value\":0.1},\"line_color\":{\"value\":\"#e377c2\"},\"line_width\":{\"value\":2},\"top\":{\"field\":\"3/12/20\"},\"width\":{\"value\":0.007874015748031496},\"x\":{\"field\":\"__x__values\",\"transform\":{\"id\":\"1904\"}}},\"id\":\"1907\",\"type\":\"VBar\"},{\"attributes\":{\"data_source\":{\"id\":\"1037\"},\"glyph\":{\"id\":\"1282\"},\"hover_glyph\":null,\"muted_glyph\":null,\"nonselection_glyph\":{\"id\":\"1283\"},\"selection_glyph\":null,\"view\":{\"id\":\"1285\"}},\"id\":\"1284\",\"type\":\"GlyphRenderer\"},{\"attributes\":{\"fill_color\":{\"value\":\"#dbdb8d\"},\"line_color\":{\"value\":\"#dbdb8d\"},\"line_width\":{\"value\":2},\"top\":{\"field\":\"2/6/20\"},\"width\":{\"value\":0.007874015748031496},\"x\":{\"field\":\"__x__values\",\"transform\":{\"id\":\"1344\"}}},\"id\":\"1346\",\"type\":\"VBar\"},{\"attributes\":{\"callback\":null,\"mode\":\"vline\",\"renderers\":[{\"id\":\"1668\"}],\"tooltips\":[[\"Provinces / States\",\"@__x__values_original\"],[\"2/26/20\",\"@{2/26/20}\"]]},\"id\":\"1678\",\"type\":\"HoverTool\"},{\"attributes\":{\"label\":{\"value\":\" 3/12/20\"},\"renderers\":[{\"id\":\"1908\"}]},\"id\":\"1917\",\"type\":\"LegendItem\"},{\"attributes\":{\"fill_alpha\":{\"value\":0.1},\"fill_color\":{\"value\":\"#f7b6d2\"},\"line_alpha\":{\"value\":0.1},\"line_color\":{\"value\":\"#f7b6d2\"},\"line_width\":{\"value\":2},\"top\":{\"field\":\"2/2/20\"},\"width\":{\"value\":0.007874015748031496},\"x\":{\"field\":\"__x__values\",\"transform\":{\"id\":\"1280\"}}},\"id\":\"1283\",\"type\":\"VBar\"},{\"attributes\":{\"range\":{\"id\":\"1041\"},\"value\":0.011904761904761862},\"id\":\"1600\",\"type\":\"Dodge\"},{\"attributes\":{\"label\":{\"value\":\" 2/2/20\"},\"renderers\":[{\"id\":\"1284\"}]},\"id\":\"1293\",\"type\":\"LegendItem\"},{\"attributes\":{\"callback\":null,\"mode\":\"vline\",\"renderers\":[{\"id\":\"2004\"}],\"tooltips\":[[\"Provinces / States\",\"@__x__values_original\"],[\"3/18/20\",\"@{3/18/20}\"]]},\"id\":\"2014\",\"type\":\"HoverTool\"},{\"attributes\":{\"fill_color\":{\"value\":\"#f7b6d2\"},\"line_color\":{\"value\":\"#f7b6d2\"},\"line_width\":{\"value\":2},\"top\":{\"field\":\"2/22/20\"},\"width\":{\"value\":0.007874015748031496},\"x\":{\"field\":\"__x__values\",\"transform\":{\"id\":\"1600\"}}},\"id\":\"1602\",\"type\":\"VBar\"},{\"attributes\":{\"range\":{\"id\":\"1041\"},\"value\":0.17063492063492058},\"id\":\"1920\",\"type\":\"Dodge\"},{\"attributes\":{\"fill_color\":{\"value\":\"#9edae5\"},\"line_color\":{\"value\":\"#9edae5\"},\"line_width\":{\"value\":2},\"top\":{\"field\":\"2/8/20\"},\"width\":{\"value\":0.007874015748031496},\"x\":{\"field\":\"__x__values\",\"transform\":{\"id\":\"1376\"}}},\"id\":\"1378\",\"type\":\"VBar\"},{\"attributes\":{},\"id\":\"1098\",\"type\":\"UnionRenderers\"},{\"attributes\":{\"callback\":null,\"mode\":\"vline\",\"renderers\":[{\"id\":\"1348\"}],\"tooltips\":[[\"Provinces / States\",\"@__x__values_original\"],[\"2/6/20\",\"@{2/6/20}\"]]},\"id\":\"1358\",\"type\":\"HoverTool\"},{\"attributes\":{\"range\":{\"id\":\"1041\"},\"value\":-0.1388888888888889},\"id\":\"1296\",\"type\":\"Dodge\"},{\"attributes\":{\"fill_color\":{\"value\":\"#aec7e8\"},\"line_color\":{\"value\":\"#aec7e8\"},\"line_width\":{\"value\":2},\"top\":{\"field\":\"Long\"},\"width\":{\"value\":0.007874015748031496},\"x\":{\"field\":\"__x__values\",\"transform\":{\"id\":\"1088\"}}},\"id\":\"1090\",\"type\":\"VBar\"},{\"attributes\":{\"source\":{\"id\":\"1037\"}},\"id\":\"1349\",\"type\":\"CDSView\"},{\"attributes\":{\"fill_color\":{\"value\":\"#bcbd22\"},\"line_color\":{\"value\":\"#bcbd22\"},\"line_width\":{\"value\":2},\"top\":{\"field\":\"2/25/20\"},\"width\":{\"value\":0.007874015748031496},\"x\":{\"field\":\"__x__values\",\"transform\":{\"id\":\"1648\"}}},\"id\":\"1650\",\"type\":\"VBar\"},{\"attributes\":{\"fill_color\":{\"value\":\"#f7b6d2\"},\"line_color\":{\"value\":\"#f7b6d2\"},\"line_width\":{\"value\":2},\"top\":{\"field\":\"3/13/20\"},\"width\":{\"value\":0.007874015748031496},\"x\":{\"field\":\"__x__values\",\"transform\":{\"id\":\"1920\"}}},\"id\":\"1922\",\"type\":\"VBar\"},{\"attributes\":{\"callback\":null,\"mode\":\"vline\",\"renderers\":[{\"id\":\"1924\"}],\"tooltips\":[[\"Provinces / States\",\"@__x__values_original\"],[\"3/13/20\",\"@{3/13/20}\"]]},\"id\":\"1934\",\"type\":\"HoverTool\"},{\"attributes\":{\"data_source\":{\"id\":\"1037\"},\"glyph\":{\"id\":\"1346\"},\"hover_glyph\":null,\"muted_glyph\":null,\"nonselection_glyph\":{\"id\":\"1347\"},\"selection_glyph\":null,\"view\":{\"id\":\"1349\"}},\"id\":\"1348\",\"type\":\"GlyphRenderer\"},{\"attributes\":{\"fill_color\":{\"value\":\"#7f7f7f\"},\"line_color\":{\"value\":\"#7f7f7f\"},\"line_width\":{\"value\":2},\"top\":{\"field\":\"2/3/20\"},\"width\":{\"value\":0.007874015748031496},\"x\":{\"field\":\"__x__values\",\"transform\":{\"id\":\"1296\"}}},\"id\":\"1298\",\"type\":\"VBar\"},{\"attributes\":{\"source\":{\"id\":\"1037\"}},\"id\":\"1669\",\"type\":\"CDSView\"},{\"attributes\":{\"fill_alpha\":{\"value\":0.1},\"fill_color\":{\"value\":\"#1f77b4\"},\"line_alpha\":{\"value\":0.1},\"line_color\":{\"value\":\"#1f77b4\"},\"line_width\":{\"value\":2},\"top\":{\"field\":\"Lat\"},\"width\":{\"value\":0.007874015748031496},\"x\":{\"field\":\"__x__values\",\"transform\":{\"id\":\"1073\"}}},\"id\":\"1076\",\"type\":\"VBar\"},{\"attributes\":{\"fill_alpha\":{\"value\":0.1},\"fill_color\":{\"value\":\"#dbdb8d\"},\"line_alpha\":{\"value\":0.1},\"line_color\":{\"value\":\"#dbdb8d\"},\"line_width\":{\"value\":2},\"top\":{\"field\":\"2/6/20\"},\"width\":{\"value\":0.007874015748031496},\"x\":{\"field\":\"__x__values\",\"transform\":{\"id\":\"1344\"}}},\"id\":\"1347\",\"type\":\"VBar\"},{\"attributes\":{\"source\":{\"id\":\"1037\"}},\"id\":\"1605\",\"type\":\"CDSView\"},{\"attributes\":{\"label\":{\"value\":\" 2/6/20\"},\"renderers\":[{\"id\":\"1348\"}]},\"id\":\"1357\",\"type\":\"LegendItem\"},{\"attributes\":{\"data_source\":{\"id\":\"1037\"},\"glyph\":{\"id\":\"1075\"},\"hover_glyph\":null,\"muted_glyph\":null,\"nonselection_glyph\":{\"id\":\"1076\"},\"selection_glyph\":null,\"view\":{\"id\":\"1078\"}},\"id\":\"1077\",\"type\":\"GlyphRenderer\"},{\"attributes\":{\"fill_color\":{\"value\":\"#17becf\"},\"line_color\":{\"value\":\"#17becf\"},\"line_width\":{\"value\":2},\"top\":{\"field\":\"2/7/20\"},\"width\":{\"value\":0.007874015748031496},\"x\":{\"field\":\"__x__values\",\"transform\":{\"id\":\"1360\"}}},\"id\":\"1362\",\"type\":\"VBar\"},{\"attributes\":{\"data_source\":{\"id\":\"1037\"},\"glyph\":{\"id\":\"1602\"},\"hover_glyph\":null,\"muted_glyph\":null,\"nonselection_glyph\":{\"id\":\"1603\"},\"selection_glyph\":null,\"view\":{\"id\":\"1605\"}},\"id\":\"1604\",\"type\":\"GlyphRenderer\"},{\"attributes\":{\"label\":{\"value\":\" 2/3/20\"},\"renderers\":[{\"id\":\"1300\"}]},\"id\":\"1309\",\"type\":\"LegendItem\"},{\"attributes\":{\"label\":{\"value\":\" 3/13/20\"},\"renderers\":[{\"id\":\"1924\"}]},\"id\":\"1933\",\"type\":\"LegendItem\"},{\"attributes\":{\"callback\":null,\"mode\":\"vline\",\"renderers\":[{\"id\":\"1300\"}],\"tooltips\":[[\"Provinces / States\",\"@__x__values_original\"],[\"2/3/20\",\"@{2/3/20}\"]]},\"id\":\"1310\",\"type\":\"HoverTool\"},{\"attributes\":{},\"id\":\"1081\",\"type\":\"BasicTickFormatter\"},{\"attributes\":{\"fill_alpha\":{\"value\":0.1},\"fill_color\":{\"value\":\"#f7b6d2\"},\"line_alpha\":{\"value\":0.1},\"line_color\":{\"value\":\"#f7b6d2\"},\"line_width\":{\"value\":2},\"top\":{\"field\":\"2/22/20\"},\"width\":{\"value\":0.007874015748031496},\"x\":{\"field\":\"__x__values\",\"transform\":{\"id\":\"1600\"}}},\"id\":\"1603\",\"type\":\"VBar\"},{\"attributes\":{\"source\":{\"id\":\"1037\"}},\"id\":\"1925\",\"type\":\"CDSView\"},{\"attributes\":{\"fill_alpha\":{\"value\":0.1},\"fill_color\":{\"value\":\"#7f7f7f\"},\"line_alpha\":{\"value\":0.1},\"line_color\":{\"value\":\"#7f7f7f\"},\"line_width\":{\"value\":2},\"top\":{\"field\":\"2/3/20\"},\"width\":{\"value\":0.007874015748031496},\"x\":{\"field\":\"__x__values\",\"transform\":{\"id\":\"1296\"}}},\"id\":\"1299\",\"type\":\"VBar\"},{\"attributes\":{\"range\":{\"id\":\"1041\"},\"value\":-0.10714285714285715},\"id\":\"1360\",\"type\":\"Dodge\"},{\"attributes\":{\"data_source\":{\"id\":\"1037\"},\"glyph\":{\"id\":\"1922\"},\"hover_glyph\":null,\"muted_glyph\":null,\"nonselection_glyph\":{\"id\":\"1923\"},\"selection_glyph\":null,\"view\":{\"id\":\"1925\"}},\"id\":\"1924\",\"type\":\"GlyphRenderer\"},{\"attributes\":{\"source\":{\"id\":\"1037\"}},\"id\":\"1301\",\"type\":\"CDSView\"},{\"attributes\":{\"fill_color\":{\"value\":\"#9edae5\"},\"line_color\":{\"value\":\"#9edae5\"},\"line_width\":{\"value\":2},\"top\":{\"field\":\"2/28/20\"},\"width\":{\"value\":0.007874015748031496},\"x\":{\"field\":\"__x__values\",\"transform\":{\"id\":\"1696\"}}},\"id\":\"1698\",\"type\":\"VBar\"},{\"attributes\":{\"callback\":null,\"mode\":\"vline\",\"renderers\":[{\"id\":\"1092\"}],\"tooltips\":[[\"Provinces / States\",\"@__x__values_original\"],[\"Long\",\"@{Long}\"]]},\"id\":\"1102\",\"type\":\"HoverTool\"},{\"attributes\":{\"data_source\":{\"id\":\"1037\"},\"glyph\":{\"id\":\"1298\"},\"hover_glyph\":null,\"muted_glyph\":null,\"nonselection_glyph\":{\"id\":\"1299\"},\"selection_glyph\":null,\"view\":{\"id\":\"1301\"}},\"id\":\"1300\",\"type\":\"GlyphRenderer\"}],\"root_ids\":[\"1038\"]},\"title\":\"Bokeh Application\",\"version\":\"2.0.1\"}};\n",
       "  var render_items = [{\"docid\":\"04b72727-c805-434b-a121-84e669999320\",\"root_ids\":[\"1038\"],\"roots\":{\"1038\":\"ac028a5a-f347-4050-a243-9d2f39dba5ca\"}}];\n",
       "  root.Bokeh.embed.embed_items_notebook(docs_json, render_items);\n",
       "\n",
       "  }\n",
       "  if (root.Bokeh !== undefined) {\n",
       "    embed_document(root);\n",
       "  } else {\n",
       "    var attempts = 0;\n",
       "    var timer = setInterval(function(root) {\n",
       "      if (root.Bokeh !== undefined) {\n",
       "        clearInterval(timer);\n",
       "        embed_document(root);\n",
       "      } else {\n",
       "        attempts++;\n",
       "        if (attempts > 100) {\n",
       "          clearInterval(timer);\n",
       "          console.log(\"Bokeh: ERROR: Unable to run BokehJS code because BokehJS library is missing\");\n",
       "        }\n",
       "      }\n",
       "    }, 10, root)\n",
       "  }\n",
       "})(window);"
      ],
      "application/vnd.bokehjs_exec.v0+json": ""
     },
     "metadata": {
      "application/vnd.bokehjs_exec.v0+json": {
       "id": "1038"
      }
     },
     "output_type": "display_data"
    },
    {
     "data": {
      "text/html": [
       "<div style=\"display: table;\"><div style=\"display: table-row;\"><div style=\"display: table-cell;\"><b title=\"bokeh.plotting.figure.Figure\">Figure</b>(</div><div style=\"display: table-cell;\">id&nbsp;=&nbsp;'1038', <span id=\"2141\" style=\"cursor: pointer;\">&hellip;)</span></div></div><div class=\"2140\" style=\"display: none;\"><div style=\"display: table-cell;\"></div><div style=\"display: table-cell;\">above&nbsp;=&nbsp;[],</div></div><div class=\"2140\" style=\"display: none;\"><div style=\"display: table-cell;\"></div><div style=\"display: table-cell;\">align&nbsp;=&nbsp;'start',</div></div><div class=\"2140\" style=\"display: none;\"><div style=\"display: table-cell;\"></div><div style=\"display: table-cell;\">aspect_ratio&nbsp;=&nbsp;None,</div></div><div class=\"2140\" style=\"display: none;\"><div style=\"display: table-cell;\"></div><div style=\"display: table-cell;\">aspect_scale&nbsp;=&nbsp;1,</div></div><div class=\"2140\" style=\"display: none;\"><div style=\"display: table-cell;\"></div><div style=\"display: table-cell;\">background&nbsp;=&nbsp;None,</div></div><div class=\"2140\" style=\"display: none;\"><div style=\"display: table-cell;\"></div><div style=\"display: table-cell;\">background_fill_alpha&nbsp;=&nbsp;1.0,</div></div><div class=\"2140\" style=\"display: none;\"><div style=\"display: table-cell;\"></div><div style=\"display: table-cell;\">background_fill_color&nbsp;=&nbsp;'#ffffff',</div></div><div class=\"2140\" style=\"display: none;\"><div style=\"display: table-cell;\"></div><div style=\"display: table-cell;\">below&nbsp;=&nbsp;[LinearAxis(id='1049', ...)],</div></div><div class=\"2140\" style=\"display: none;\"><div style=\"display: table-cell;\"></div><div style=\"display: table-cell;\">border_fill_alpha&nbsp;=&nbsp;1.0,</div></div><div class=\"2140\" style=\"display: none;\"><div style=\"display: table-cell;\"></div><div style=\"display: table-cell;\">border_fill_color&nbsp;=&nbsp;'#ffffff',</div></div><div class=\"2140\" style=\"display: none;\"><div style=\"display: table-cell;\"></div><div style=\"display: table-cell;\">center&nbsp;=&nbsp;[Grid(id='1052', ...), Grid(id='1056', ...), Legend(id='1084', ...)],</div></div><div class=\"2140\" style=\"display: none;\"><div style=\"display: table-cell;\"></div><div style=\"display: table-cell;\">css_classes&nbsp;=&nbsp;[],</div></div><div class=\"2140\" style=\"display: none;\"><div style=\"display: table-cell;\"></div><div style=\"display: table-cell;\">disabled&nbsp;=&nbsp;False,</div></div><div class=\"2140\" style=\"display: none;\"><div style=\"display: table-cell;\"></div><div style=\"display: table-cell;\">extra_x_ranges&nbsp;=&nbsp;{},</div></div><div class=\"2140\" style=\"display: none;\"><div style=\"display: table-cell;\"></div><div style=\"display: table-cell;\">extra_y_ranges&nbsp;=&nbsp;{},</div></div><div class=\"2140\" style=\"display: none;\"><div style=\"display: table-cell;\"></div><div style=\"display: table-cell;\">frame_height&nbsp;=&nbsp;None,</div></div><div class=\"2140\" style=\"display: none;\"><div style=\"display: table-cell;\"></div><div style=\"display: table-cell;\">frame_width&nbsp;=&nbsp;None,</div></div><div class=\"2140\" style=\"display: none;\"><div style=\"display: table-cell;\"></div><div style=\"display: table-cell;\">height&nbsp;=&nbsp;None,</div></div><div class=\"2140\" style=\"display: none;\"><div style=\"display: table-cell;\"></div><div style=\"display: table-cell;\">height_policy&nbsp;=&nbsp;'auto',</div></div><div class=\"2140\" style=\"display: none;\"><div style=\"display: table-cell;\"></div><div style=\"display: table-cell;\">hidpi&nbsp;=&nbsp;True,</div></div><div class=\"2140\" style=\"display: none;\"><div style=\"display: table-cell;\"></div><div style=\"display: table-cell;\">js_event_callbacks&nbsp;=&nbsp;{},</div></div><div class=\"2140\" style=\"display: none;\"><div style=\"display: table-cell;\"></div><div style=\"display: table-cell;\">js_property_callbacks&nbsp;=&nbsp;{},</div></div><div class=\"2140\" style=\"display: none;\"><div style=\"display: table-cell;\"></div><div style=\"display: table-cell;\">left&nbsp;=&nbsp;[LinearAxis(id='1053', ...)],</div></div><div class=\"2140\" style=\"display: none;\"><div style=\"display: table-cell;\"></div><div style=\"display: table-cell;\">lod_factor&nbsp;=&nbsp;10,</div></div><div class=\"2140\" style=\"display: none;\"><div style=\"display: table-cell;\"></div><div style=\"display: table-cell;\">lod_interval&nbsp;=&nbsp;300,</div></div><div class=\"2140\" style=\"display: none;\"><div style=\"display: table-cell;\"></div><div style=\"display: table-cell;\">lod_threshold&nbsp;=&nbsp;2000,</div></div><div class=\"2140\" style=\"display: none;\"><div style=\"display: table-cell;\"></div><div style=\"display: table-cell;\">lod_timeout&nbsp;=&nbsp;500,</div></div><div class=\"2140\" style=\"display: none;\"><div style=\"display: table-cell;\"></div><div style=\"display: table-cell;\">margin&nbsp;=&nbsp;(0, 0, 0, 0),</div></div><div class=\"2140\" style=\"display: none;\"><div style=\"display: table-cell;\"></div><div style=\"display: table-cell;\">match_aspect&nbsp;=&nbsp;False,</div></div><div class=\"2140\" style=\"display: none;\"><div style=\"display: table-cell;\"></div><div style=\"display: table-cell;\">max_height&nbsp;=&nbsp;None,</div></div><div class=\"2140\" style=\"display: none;\"><div style=\"display: table-cell;\"></div><div style=\"display: table-cell;\">max_width&nbsp;=&nbsp;None,</div></div><div class=\"2140\" style=\"display: none;\"><div style=\"display: table-cell;\"></div><div style=\"display: table-cell;\">min_border&nbsp;=&nbsp;5,</div></div><div class=\"2140\" style=\"display: none;\"><div style=\"display: table-cell;\"></div><div style=\"display: table-cell;\">min_border_bottom&nbsp;=&nbsp;None,</div></div><div class=\"2140\" style=\"display: none;\"><div style=\"display: table-cell;\"></div><div style=\"display: table-cell;\">min_border_left&nbsp;=&nbsp;None,</div></div><div class=\"2140\" style=\"display: none;\"><div style=\"display: table-cell;\"></div><div style=\"display: table-cell;\">min_border_right&nbsp;=&nbsp;None,</div></div><div class=\"2140\" style=\"display: none;\"><div style=\"display: table-cell;\"></div><div style=\"display: table-cell;\">min_border_top&nbsp;=&nbsp;None,</div></div><div class=\"2140\" style=\"display: none;\"><div style=\"display: table-cell;\"></div><div style=\"display: table-cell;\">min_height&nbsp;=&nbsp;None,</div></div><div class=\"2140\" style=\"display: none;\"><div style=\"display: table-cell;\"></div><div style=\"display: table-cell;\">min_width&nbsp;=&nbsp;None,</div></div><div class=\"2140\" style=\"display: none;\"><div style=\"display: table-cell;\"></div><div style=\"display: table-cell;\">name&nbsp;=&nbsp;None,</div></div><div class=\"2140\" style=\"display: none;\"><div style=\"display: table-cell;\"></div><div style=\"display: table-cell;\">outline_line_alpha&nbsp;=&nbsp;1.0,</div></div><div class=\"2140\" style=\"display: none;\"><div style=\"display: table-cell;\"></div><div style=\"display: table-cell;\">outline_line_cap&nbsp;=&nbsp;'butt',</div></div><div class=\"2140\" style=\"display: none;\"><div style=\"display: table-cell;\"></div><div style=\"display: table-cell;\">outline_line_color&nbsp;=&nbsp;'#e5e5e5',</div></div><div class=\"2140\" style=\"display: none;\"><div style=\"display: table-cell;\"></div><div style=\"display: table-cell;\">outline_line_dash&nbsp;=&nbsp;[],</div></div><div class=\"2140\" style=\"display: none;\"><div style=\"display: table-cell;\"></div><div style=\"display: table-cell;\">outline_line_dash_offset&nbsp;=&nbsp;0,</div></div><div class=\"2140\" style=\"display: none;\"><div style=\"display: table-cell;\"></div><div style=\"display: table-cell;\">outline_line_join&nbsp;=&nbsp;'bevel',</div></div><div class=\"2140\" style=\"display: none;\"><div style=\"display: table-cell;\"></div><div style=\"display: table-cell;\">outline_line_width&nbsp;=&nbsp;1,</div></div><div class=\"2140\" style=\"display: none;\"><div style=\"display: table-cell;\"></div><div style=\"display: table-cell;\">output_backend&nbsp;=&nbsp;'webgl',</div></div><div class=\"2140\" style=\"display: none;\"><div style=\"display: table-cell;\"></div><div style=\"display: table-cell;\">plot_height&nbsp;=&nbsp;500,</div></div><div class=\"2140\" style=\"display: none;\"><div style=\"display: table-cell;\"></div><div style=\"display: table-cell;\">plot_width&nbsp;=&nbsp;1000,</div></div><div class=\"2140\" style=\"display: none;\"><div style=\"display: table-cell;\"></div><div style=\"display: table-cell;\">renderers&nbsp;=&nbsp;[GlyphRenderer(id='1077', ...), GlyphRenderer(id='1092', ...), GlyphRenderer(id='1108', ...), GlyphRenderer(id='1124', ...), GlyphRenderer(id='1140', ...), GlyphRenderer(id='1156', ...), GlyphRenderer(id='1172', ...), GlyphRenderer(id='1188', ...), GlyphRenderer(id='1204', ...), GlyphRenderer(id='1220', ...), GlyphRenderer(id='1236', ...), GlyphRenderer(id='1252', ...), GlyphRenderer(id='1268', ...), GlyphRenderer(id='1284', ...), GlyphRenderer(id='1300', ...), GlyphRenderer(id='1316', ...), GlyphRenderer(id='1332', ...), GlyphRenderer(id='1348', ...), GlyphRenderer(id='1364', ...), GlyphRenderer(id='1380', ...), GlyphRenderer(id='1396', ...), GlyphRenderer(id='1412', ...), GlyphRenderer(id='1428', ...), GlyphRenderer(id='1444', ...), GlyphRenderer(id='1460', ...), GlyphRenderer(id='1476', ...), GlyphRenderer(id='1492', ...), GlyphRenderer(id='1508', ...), GlyphRenderer(id='1524', ...), GlyphRenderer(id='1540', ...), GlyphRenderer(id='1556', ...), GlyphRenderer(id='1572', ...), GlyphRenderer(id='1588', ...), GlyphRenderer(id='1604', ...), GlyphRenderer(id='1620', ...), GlyphRenderer(id='1636', ...), GlyphRenderer(id='1652', ...), GlyphRenderer(id='1668', ...), GlyphRenderer(id='1684', ...), GlyphRenderer(id='1700', ...), GlyphRenderer(id='1716', ...), GlyphRenderer(id='1732', ...), GlyphRenderer(id='1748', ...), GlyphRenderer(id='1764', ...), GlyphRenderer(id='1780', ...), GlyphRenderer(id='1796', ...), GlyphRenderer(id='1812', ...), GlyphRenderer(id='1828', ...), GlyphRenderer(id='1844', ...), GlyphRenderer(id='1860', ...), GlyphRenderer(id='1876', ...), GlyphRenderer(id='1892', ...), GlyphRenderer(id='1908', ...), GlyphRenderer(id='1924', ...), GlyphRenderer(id='1940', ...), GlyphRenderer(id='1956', ...), GlyphRenderer(id='1972', ...), GlyphRenderer(id='1988', ...), GlyphRenderer(id='2004', ...), GlyphRenderer(id='2020', ...), GlyphRenderer(id='2036', ...), GlyphRenderer(id='2052', ...), GlyphRenderer(id='2068', ...), GlyphRenderer(id='2084', ...)],</div></div><div class=\"2140\" style=\"display: none;\"><div style=\"display: table-cell;\"></div><div style=\"display: table-cell;\">reset_policy&nbsp;=&nbsp;'standard',</div></div><div class=\"2140\" style=\"display: none;\"><div style=\"display: table-cell;\"></div><div style=\"display: table-cell;\">right&nbsp;=&nbsp;[],</div></div><div class=\"2140\" style=\"display: none;\"><div style=\"display: table-cell;\"></div><div style=\"display: table-cell;\">sizing_mode&nbsp;=&nbsp;'fixed',</div></div><div class=\"2140\" style=\"display: none;\"><div style=\"display: table-cell;\"></div><div style=\"display: table-cell;\">subscribed_events&nbsp;=&nbsp;[],</div></div><div class=\"2140\" style=\"display: none;\"><div style=\"display: table-cell;\"></div><div style=\"display: table-cell;\">tags&nbsp;=&nbsp;[],</div></div><div class=\"2140\" style=\"display: none;\"><div style=\"display: table-cell;\"></div><div style=\"display: table-cell;\">title&nbsp;=&nbsp;Title(id='1039', ...),</div></div><div class=\"2140\" style=\"display: none;\"><div style=\"display: table-cell;\"></div><div style=\"display: table-cell;\">title_location&nbsp;=&nbsp;'above',</div></div><div class=\"2140\" style=\"display: none;\"><div style=\"display: table-cell;\"></div><div style=\"display: table-cell;\">toolbar&nbsp;=&nbsp;Toolbar(id='1064', ...),</div></div><div class=\"2140\" style=\"display: none;\"><div style=\"display: table-cell;\"></div><div style=\"display: table-cell;\">toolbar_location&nbsp;=&nbsp;'right',</div></div><div class=\"2140\" style=\"display: none;\"><div style=\"display: table-cell;\"></div><div style=\"display: table-cell;\">toolbar_sticky&nbsp;=&nbsp;True,</div></div><div class=\"2140\" style=\"display: none;\"><div style=\"display: table-cell;\"></div><div style=\"display: table-cell;\">visible&nbsp;=&nbsp;True,</div></div><div class=\"2140\" style=\"display: none;\"><div style=\"display: table-cell;\"></div><div style=\"display: table-cell;\">width&nbsp;=&nbsp;None,</div></div><div class=\"2140\" style=\"display: none;\"><div style=\"display: table-cell;\"></div><div style=\"display: table-cell;\">width_policy&nbsp;=&nbsp;'auto',</div></div><div class=\"2140\" style=\"display: none;\"><div style=\"display: table-cell;\"></div><div style=\"display: table-cell;\">x_range&nbsp;=&nbsp;DataRange1d(id='1041', ...),</div></div><div class=\"2140\" style=\"display: none;\"><div style=\"display: table-cell;\"></div><div style=\"display: table-cell;\">x_scale&nbsp;=&nbsp;LinearScale(id='1045', ...),</div></div><div class=\"2140\" style=\"display: none;\"><div style=\"display: table-cell;\"></div><div style=\"display: table-cell;\">y_range&nbsp;=&nbsp;DataRange1d(id='1043', ...),</div></div><div class=\"2140\" style=\"display: none;\"><div style=\"display: table-cell;\"></div><div style=\"display: table-cell;\">y_scale&nbsp;=&nbsp;LinearScale(id='1047', ...))</div></div></div>\n",
       "<script>\n",
       "(function() {\n",
       "  var expanded = false;\n",
       "  var ellipsis = document.getElementById(\"2141\");\n",
       "  ellipsis.addEventListener(\"click\", function() {\n",
       "    var rows = document.getElementsByClassName(\"2140\");\n",
       "    for (var i = 0; i < rows.length; i++) {\n",
       "      var el = rows[i];\n",
       "      el.style.display = expanded ? \"none\" : \"table-row\";\n",
       "    }\n",
       "    ellipsis.innerHTML = expanded ? \"&hellip;)\" : \"&lsaquo;&lsaquo;&lsaquo;\";\n",
       "    expanded = !expanded;\n",
       "  });\n",
       "})();\n",
       "</script>\n"
      ],
      "text/plain": [
       "Figure(id='1038', ...)"
      ]
     },
     "execution_count": 4,
     "metadata": {},
     "output_type": "execute_result"
    }
   ],
   "source": [
    "# show data in visualisation\n",
    "confirmed2=confirmed.toPandas()\n",
    "confirmed2.plot_bokeh(kind='bar', x='Province/State', y = list(confirmed2.columns.values),\n",
    "              xlabel='Provinces / States', ylabel='Frequency', \n",
    "              legend=False, title='Frequency by Days', figsize=(1000, 500))"
   ]
  },
  {
   "cell_type": "code",
   "execution_count": 5,
   "metadata": {},
   "outputs": [
    {
     "data": {
      "text/html": [
       "\n",
       "\n",
       "\n",
       "\n",
       "\n",
       "\n",
       "  <div class=\"bk-root\" id=\"33d57af8-2080-4b0e-9ebe-ab4c7d1bcf33\" data-root-id=\"2143\"></div>\n"
      ]
     },
     "metadata": {},
     "output_type": "display_data"
    },
    {
     "data": {
      "application/javascript": [
       "(function(root) {\n",
       "  function embed_document(root) {\n",
       "    \n",
       "  var docs_json = {\"2c026abd-f186-4242-b9e6-87a43ad3c716\":{\"roots\":{\"references\":[{\"attributes\":{\"below\":[{\"id\":\"2154\"}],\"center\":[{\"id\":\"2161\"},{\"id\":\"2169\"},{\"id\":\"2201\"}],\"left\":[{\"id\":\"2162\"}],\"output_backend\":\"webgl\",\"plot_height\":400,\"renderers\":[{\"id\":\"2186\"},{\"id\":\"2193\"}],\"title\":{\"id\":\"2144\"},\"toolbar\":{\"id\":\"2177\"},\"x_range\":{\"id\":\"2146\"},\"x_scale\":{\"id\":\"2150\"},\"y_range\":{\"id\":\"2148\"},\"y_scale\":{\"id\":\"2152\"}},\"id\":\"2143\",\"subtype\":\"Figure\",\"type\":\"Plot\"},{\"attributes\":{},\"id\":\"2152\",\"type\":\"LinearScale\"},{\"attributes\":{\"axis_label\":\"Longitude\",\"formatter\":{\"id\":\"2157\"},\"ticker\":{\"id\":\"2155\"}},\"id\":\"2154\",\"type\":\"MercatorAxis\"},{\"attributes\":{},\"id\":\"2173\",\"type\":\"SaveTool\"},{\"attributes\":{\"overlay\":{\"id\":\"2176\"}},\"id\":\"2172\",\"type\":\"BoxZoomTool\"},{\"attributes\":{\"data_source\":{\"id\":\"2189\"},\"glyph\":{\"id\":\"2191\"},\"hover_glyph\":null,\"muted_glyph\":null,\"nonselection_glyph\":{\"id\":\"2192\"},\"selection_glyph\":null,\"view\":{\"id\":\"2194\"}},\"id\":\"2193\",\"type\":\"GlyphRenderer\"},{\"attributes\":{\"zoom_on_axis\":false},\"id\":\"2171\",\"type\":\"WheelZoomTool\"},{\"attributes\":{\"dimension\":\"lon\"},\"id\":\"2155\",\"type\":\"MercatorTicker\"},{\"attributes\":{\"source\":{\"id\":\"2189\"}},\"id\":\"2194\",\"type\":\"CDSView\"},{\"attributes\":{},\"id\":\"2170\",\"type\":\"PanTool\"},{\"attributes\":{},\"id\":\"2148\",\"type\":\"DataRange1d\"},{\"attributes\":{\"fill_color\":{\"value\":\"blue\"},\"line_color\":{\"value\":\"blue\"},\"x\":{\"field\":\"x\"},\"y\":{\"field\":\"y\"}},\"id\":\"2191\",\"type\":\"Scatter\"},{\"attributes\":{\"dimension\":\"lon\"},\"id\":\"2157\",\"type\":\"MercatorTickFormatter\"},{\"attributes\":{\"attribution\":\"&copy; <a href=\\\"https://www.openstreetmap.org/copyright\\\">OpenStreetMap</a> contributors,&copy; <a href=\\\"https://cartodb.com/attributions\\\">CartoDB</a>\",\"url\":\"https://tiles.basemaps.cartocdn.com/light_all/{z}/{x}/{y}@2x.png\"},\"id\":\"2185\",\"type\":\"WMTSTileSource\"},{\"attributes\":{},\"id\":\"2174\",\"type\":\"ResetTool\"},{\"attributes\":{\"axis\":{\"id\":\"2154\"},\"ticker\":null},\"id\":\"2161\",\"type\":\"Grid\"},{\"attributes\":{\"dimension\":\"lat\"},\"id\":\"2165\",\"type\":\"MercatorTickFormatter\"},{\"attributes\":{\"click_policy\":\"hide\",\"items\":[{\"id\":\"2202\"}],\"visible\":false},\"id\":\"2201\",\"type\":\"Legend\"},{\"attributes\":{\"fill_alpha\":{\"value\":0.1},\"fill_color\":{\"value\":\"blue\"},\"line_alpha\":{\"value\":0.1},\"line_color\":{\"value\":\"blue\"},\"x\":{\"field\":\"x\"},\"y\":{\"field\":\"y\"}},\"id\":\"2192\",\"type\":\"Scatter\"},{\"attributes\":{\"axis_label\":\"Latitude\",\"formatter\":{\"id\":\"2165\"},\"ticker\":{\"id\":\"2163\"}},\"id\":\"2162\",\"type\":\"MercatorAxis\"},{\"attributes\":{},\"id\":\"2214\",\"type\":\"UnionRenderers\"},{\"attributes\":{},\"id\":\"2215\",\"type\":\"Selection\"},{\"attributes\":{\"active_drag\":\"auto\",\"active_inspect\":\"auto\",\"active_multi\":null,\"active_scroll\":{\"id\":\"2171\"},\"active_tap\":\"auto\",\"tools\":[{\"id\":\"2170\"},{\"id\":\"2171\"},{\"id\":\"2172\"},{\"id\":\"2173\"},{\"id\":\"2174\"},{\"id\":\"2175\"}]},\"id\":\"2177\",\"type\":\"Toolbar\"},{\"attributes\":{\"axis\":{\"id\":\"2162\"},\"dimension\":1,\"ticker\":null},\"id\":\"2169\",\"type\":\"Grid\"},{\"attributes\":{\"geojson\":\"{\\\"type\\\": \\\"FeatureCollection\\\", \\\"features\\\": [{\\\"id\\\": \\\"0\\\", \\\"type\\\": \\\"Feature\\\", \\\"properties\\\": {}, \\\"geometry\\\": {\\\"type\\\": \\\"Point\\\", \\\"coordinates\\\": [16832542.27920734, -4011198.6473075734]}}, {\\\"id\\\": \\\"1\\\", \\\"type\\\": \\\"Feature\\\", \\\"properties\\\": {}, \\\"geometry\\\": {\\\"type\\\": \\\"Point\\\", \\\"coordinates\\\": [16137218.475814397, -4553127.106333028]}}, {\\\"id\\\": \\\"2\\\", \\\"type\\\": \\\"Feature\\\", \\\"properties\\\": {}, \\\"geometry\\\": {\\\"type\\\": \\\"Point\\\", \\\"coordinates\\\": [17076409.887688164, -3251079.4407753292]}}, {\\\"id\\\": \\\"3\\\", \\\"type\\\": \\\"Feature\\\", \\\"properties\\\": {}, \\\"geometry\\\": {\\\"type\\\": \\\"Point\\\", \\\"coordinates\\\": [15428959.347591272, -4154168.819822751]}}, {\\\"id\\\": \\\"4\\\", \\\"type\\\": \\\"Feature\\\", \\\"properties\\\": {}, \\\"geometry\\\": {\\\"type\\\": \\\"Point\\\", \\\"coordinates\\\": [15544431.055391135, 4224342.880058811]}}, {\\\"id\\\": \\\"5\\\", \\\"type\\\": \\\"Feature\\\", \\\"properties\\\": {}, \\\"geometry\\\": {\\\"type\\\": \\\"Point\\\", \\\"coordinates\\\": [12897531.863054074, -3756814.7353761178]}}, {\\\"id\\\": \\\"6\\\", \\\"type\\\": \\\"Feature\\\", \\\"properties\\\": {}, \\\"geometry\\\": {\\\"type\\\": \\\"Point\\\", \\\"coordinates\\\": [16249383.994737698, -5079613.224401289]}}, {\\\"id\\\": \\\"7\\\", \\\"type\\\": \\\"Feature\\\", \\\"properties\\\": {}, \\\"geometry\\\": {\\\"type\\\": \\\"Point\\\", \\\"coordinates\\\": [14565665.564540355, -1398492.2699271576]}}, {\\\"id\\\": \\\"8\\\", \\\"type\\\": \\\"Feature\\\", \\\"properties\\\": {}, \\\"geometry\\\": {\\\"type\\\": \\\"Point\\\", \\\"coordinates\\\": [16587984.4898836, -4228415.536604354]}}]}\",\"selected\":{\"id\":\"2215\"},\"selection_policy\":{\"id\":\"2214\"}},\"id\":\"2189\",\"type\":\"GeoJSONDataSource\"},{\"attributes\":{},\"id\":\"2175\",\"type\":\"HelpTool\"},{\"attributes\":{},\"id\":\"2150\",\"type\":\"LinearScale\"},{\"attributes\":{},\"id\":\"2146\",\"type\":\"DataRange1d\"},{\"attributes\":{\"bottom_units\":\"screen\",\"fill_alpha\":0.5,\"fill_color\":\"lightgrey\",\"left_units\":\"screen\",\"level\":\"overlay\",\"line_alpha\":1.0,\"line_color\":\"black\",\"line_dash\":[4,4],\"line_width\":2,\"render_mode\":\"css\",\"right_units\":\"screen\",\"top_units\":\"screen\"},\"id\":\"2176\",\"type\":\"BoxAnnotation\"},{\"attributes\":{\"dimension\":\"lat\"},\"id\":\"2163\",\"type\":\"MercatorTicker\"},{\"attributes\":{\"tile_source\":{\"id\":\"2185\"}},\"id\":\"2186\",\"type\":\"TileRenderer\"},{\"attributes\":{\"text\":\"\"},\"id\":\"2144\",\"type\":\"Title\"},{\"attributes\":{\"label\":{\"value\":\"GeoLayer\"},\"renderers\":[{\"id\":\"2193\"}]},\"id\":\"2202\",\"type\":\"LegendItem\"}],\"root_ids\":[\"2143\"]},\"title\":\"Bokeh Application\",\"version\":\"2.0.1\"}};\n",
       "  var render_items = [{\"docid\":\"2c026abd-f186-4242-b9e6-87a43ad3c716\",\"root_ids\":[\"2143\"],\"roots\":{\"2143\":\"33d57af8-2080-4b0e-9ebe-ab4c7d1bcf33\"}}];\n",
       "  root.Bokeh.embed.embed_items_notebook(docs_json, render_items);\n",
       "\n",
       "  }\n",
       "  if (root.Bokeh !== undefined) {\n",
       "    embed_document(root);\n",
       "  } else {\n",
       "    var attempts = 0;\n",
       "    var timer = setInterval(function(root) {\n",
       "      if (root.Bokeh !== undefined) {\n",
       "        clearInterval(timer);\n",
       "        embed_document(root);\n",
       "      } else {\n",
       "        attempts++;\n",
       "        if (attempts > 100) {\n",
       "          clearInterval(timer);\n",
       "          console.log(\"Bokeh: ERROR: Unable to run BokehJS code because BokehJS library is missing\");\n",
       "        }\n",
       "      }\n",
       "    }, 10, root)\n",
       "  }\n",
       "})(window);"
      ],
      "application/vnd.bokehjs_exec.v0+json": ""
     },
     "metadata": {
      "application/vnd.bokehjs_exec.v0+json": {
       "id": "2143"
      }
     },
     "output_type": "display_data"
    },
    {
     "data": {
      "text/html": [
       "<div style=\"display: table;\"><div style=\"display: table-row;\"><div style=\"display: table-cell;\"><b title=\"bokeh.plotting.figure.Figure\">Figure</b>(</div><div style=\"display: table-cell;\">id&nbsp;=&nbsp;'2143', <span id=\"2266\" style=\"cursor: pointer;\">&hellip;)</span></div></div><div class=\"2265\" style=\"display: none;\"><div style=\"display: table-cell;\"></div><div style=\"display: table-cell;\">above&nbsp;=&nbsp;[],</div></div><div class=\"2265\" style=\"display: none;\"><div style=\"display: table-cell;\"></div><div style=\"display: table-cell;\">align&nbsp;=&nbsp;'start',</div></div><div class=\"2265\" style=\"display: none;\"><div style=\"display: table-cell;\"></div><div style=\"display: table-cell;\">aspect_ratio&nbsp;=&nbsp;None,</div></div><div class=\"2265\" style=\"display: none;\"><div style=\"display: table-cell;\"></div><div style=\"display: table-cell;\">aspect_scale&nbsp;=&nbsp;1,</div></div><div class=\"2265\" style=\"display: none;\"><div style=\"display: table-cell;\"></div><div style=\"display: table-cell;\">background&nbsp;=&nbsp;None,</div></div><div class=\"2265\" style=\"display: none;\"><div style=\"display: table-cell;\"></div><div style=\"display: table-cell;\">background_fill_alpha&nbsp;=&nbsp;1.0,</div></div><div class=\"2265\" style=\"display: none;\"><div style=\"display: table-cell;\"></div><div style=\"display: table-cell;\">background_fill_color&nbsp;=&nbsp;'#ffffff',</div></div><div class=\"2265\" style=\"display: none;\"><div style=\"display: table-cell;\"></div><div style=\"display: table-cell;\">below&nbsp;=&nbsp;[MercatorAxis(id='2154', ...)],</div></div><div class=\"2265\" style=\"display: none;\"><div style=\"display: table-cell;\"></div><div style=\"display: table-cell;\">border_fill_alpha&nbsp;=&nbsp;1.0,</div></div><div class=\"2265\" style=\"display: none;\"><div style=\"display: table-cell;\"></div><div style=\"display: table-cell;\">border_fill_color&nbsp;=&nbsp;'#ffffff',</div></div><div class=\"2265\" style=\"display: none;\"><div style=\"display: table-cell;\"></div><div style=\"display: table-cell;\">center&nbsp;=&nbsp;[Grid(id='2161', ...), Grid(id='2169', ...), Legend(id='2201', ...)],</div></div><div class=\"2265\" style=\"display: none;\"><div style=\"display: table-cell;\"></div><div style=\"display: table-cell;\">css_classes&nbsp;=&nbsp;[],</div></div><div class=\"2265\" style=\"display: none;\"><div style=\"display: table-cell;\"></div><div style=\"display: table-cell;\">disabled&nbsp;=&nbsp;False,</div></div><div class=\"2265\" style=\"display: none;\"><div style=\"display: table-cell;\"></div><div style=\"display: table-cell;\">extra_x_ranges&nbsp;=&nbsp;{},</div></div><div class=\"2265\" style=\"display: none;\"><div style=\"display: table-cell;\"></div><div style=\"display: table-cell;\">extra_y_ranges&nbsp;=&nbsp;{},</div></div><div class=\"2265\" style=\"display: none;\"><div style=\"display: table-cell;\"></div><div style=\"display: table-cell;\">frame_height&nbsp;=&nbsp;None,</div></div><div class=\"2265\" style=\"display: none;\"><div style=\"display: table-cell;\"></div><div style=\"display: table-cell;\">frame_width&nbsp;=&nbsp;None,</div></div><div class=\"2265\" style=\"display: none;\"><div style=\"display: table-cell;\"></div><div style=\"display: table-cell;\">height&nbsp;=&nbsp;None,</div></div><div class=\"2265\" style=\"display: none;\"><div style=\"display: table-cell;\"></div><div style=\"display: table-cell;\">height_policy&nbsp;=&nbsp;'auto',</div></div><div class=\"2265\" style=\"display: none;\"><div style=\"display: table-cell;\"></div><div style=\"display: table-cell;\">hidpi&nbsp;=&nbsp;True,</div></div><div class=\"2265\" style=\"display: none;\"><div style=\"display: table-cell;\"></div><div style=\"display: table-cell;\">js_event_callbacks&nbsp;=&nbsp;{},</div></div><div class=\"2265\" style=\"display: none;\"><div style=\"display: table-cell;\"></div><div style=\"display: table-cell;\">js_property_callbacks&nbsp;=&nbsp;{},</div></div><div class=\"2265\" style=\"display: none;\"><div style=\"display: table-cell;\"></div><div style=\"display: table-cell;\">left&nbsp;=&nbsp;[MercatorAxis(id='2162', ...)],</div></div><div class=\"2265\" style=\"display: none;\"><div style=\"display: table-cell;\"></div><div style=\"display: table-cell;\">lod_factor&nbsp;=&nbsp;10,</div></div><div class=\"2265\" style=\"display: none;\"><div style=\"display: table-cell;\"></div><div style=\"display: table-cell;\">lod_interval&nbsp;=&nbsp;300,</div></div><div class=\"2265\" style=\"display: none;\"><div style=\"display: table-cell;\"></div><div style=\"display: table-cell;\">lod_threshold&nbsp;=&nbsp;2000,</div></div><div class=\"2265\" style=\"display: none;\"><div style=\"display: table-cell;\"></div><div style=\"display: table-cell;\">lod_timeout&nbsp;=&nbsp;500,</div></div><div class=\"2265\" style=\"display: none;\"><div style=\"display: table-cell;\"></div><div style=\"display: table-cell;\">margin&nbsp;=&nbsp;(0, 0, 0, 0),</div></div><div class=\"2265\" style=\"display: none;\"><div style=\"display: table-cell;\"></div><div style=\"display: table-cell;\">match_aspect&nbsp;=&nbsp;False,</div></div><div class=\"2265\" style=\"display: none;\"><div style=\"display: table-cell;\"></div><div style=\"display: table-cell;\">max_height&nbsp;=&nbsp;None,</div></div><div class=\"2265\" style=\"display: none;\"><div style=\"display: table-cell;\"></div><div style=\"display: table-cell;\">max_width&nbsp;=&nbsp;None,</div></div><div class=\"2265\" style=\"display: none;\"><div style=\"display: table-cell;\"></div><div style=\"display: table-cell;\">min_border&nbsp;=&nbsp;5,</div></div><div class=\"2265\" style=\"display: none;\"><div style=\"display: table-cell;\"></div><div style=\"display: table-cell;\">min_border_bottom&nbsp;=&nbsp;None,</div></div><div class=\"2265\" style=\"display: none;\"><div style=\"display: table-cell;\"></div><div style=\"display: table-cell;\">min_border_left&nbsp;=&nbsp;None,</div></div><div class=\"2265\" style=\"display: none;\"><div style=\"display: table-cell;\"></div><div style=\"display: table-cell;\">min_border_right&nbsp;=&nbsp;None,</div></div><div class=\"2265\" style=\"display: none;\"><div style=\"display: table-cell;\"></div><div style=\"display: table-cell;\">min_border_top&nbsp;=&nbsp;None,</div></div><div class=\"2265\" style=\"display: none;\"><div style=\"display: table-cell;\"></div><div style=\"display: table-cell;\">min_height&nbsp;=&nbsp;None,</div></div><div class=\"2265\" style=\"display: none;\"><div style=\"display: table-cell;\"></div><div style=\"display: table-cell;\">min_width&nbsp;=&nbsp;None,</div></div><div class=\"2265\" style=\"display: none;\"><div style=\"display: table-cell;\"></div><div style=\"display: table-cell;\">name&nbsp;=&nbsp;None,</div></div><div class=\"2265\" style=\"display: none;\"><div style=\"display: table-cell;\"></div><div style=\"display: table-cell;\">outline_line_alpha&nbsp;=&nbsp;1.0,</div></div><div class=\"2265\" style=\"display: none;\"><div style=\"display: table-cell;\"></div><div style=\"display: table-cell;\">outline_line_cap&nbsp;=&nbsp;'butt',</div></div><div class=\"2265\" style=\"display: none;\"><div style=\"display: table-cell;\"></div><div style=\"display: table-cell;\">outline_line_color&nbsp;=&nbsp;'#e5e5e5',</div></div><div class=\"2265\" style=\"display: none;\"><div style=\"display: table-cell;\"></div><div style=\"display: table-cell;\">outline_line_dash&nbsp;=&nbsp;[],</div></div><div class=\"2265\" style=\"display: none;\"><div style=\"display: table-cell;\"></div><div style=\"display: table-cell;\">outline_line_dash_offset&nbsp;=&nbsp;0,</div></div><div class=\"2265\" style=\"display: none;\"><div style=\"display: table-cell;\"></div><div style=\"display: table-cell;\">outline_line_join&nbsp;=&nbsp;'bevel',</div></div><div class=\"2265\" style=\"display: none;\"><div style=\"display: table-cell;\"></div><div style=\"display: table-cell;\">outline_line_width&nbsp;=&nbsp;1,</div></div><div class=\"2265\" style=\"display: none;\"><div style=\"display: table-cell;\"></div><div style=\"display: table-cell;\">output_backend&nbsp;=&nbsp;'webgl',</div></div><div class=\"2265\" style=\"display: none;\"><div style=\"display: table-cell;\"></div><div style=\"display: table-cell;\">plot_height&nbsp;=&nbsp;400,</div></div><div class=\"2265\" style=\"display: none;\"><div style=\"display: table-cell;\"></div><div style=\"display: table-cell;\">plot_width&nbsp;=&nbsp;600,</div></div><div class=\"2265\" style=\"display: none;\"><div style=\"display: table-cell;\"></div><div style=\"display: table-cell;\">renderers&nbsp;=&nbsp;[TileRenderer(id='2186', ...), GlyphRenderer(id='2193', ...)],</div></div><div class=\"2265\" style=\"display: none;\"><div style=\"display: table-cell;\"></div><div style=\"display: table-cell;\">reset_policy&nbsp;=&nbsp;'standard',</div></div><div class=\"2265\" style=\"display: none;\"><div style=\"display: table-cell;\"></div><div style=\"display: table-cell;\">right&nbsp;=&nbsp;[],</div></div><div class=\"2265\" style=\"display: none;\"><div style=\"display: table-cell;\"></div><div style=\"display: table-cell;\">sizing_mode&nbsp;=&nbsp;None,</div></div><div class=\"2265\" style=\"display: none;\"><div style=\"display: table-cell;\"></div><div style=\"display: table-cell;\">subscribed_events&nbsp;=&nbsp;[],</div></div><div class=\"2265\" style=\"display: none;\"><div style=\"display: table-cell;\"></div><div style=\"display: table-cell;\">tags&nbsp;=&nbsp;[],</div></div><div class=\"2265\" style=\"display: none;\"><div style=\"display: table-cell;\"></div><div style=\"display: table-cell;\">title&nbsp;=&nbsp;Title(id='2144', ...),</div></div><div class=\"2265\" style=\"display: none;\"><div style=\"display: table-cell;\"></div><div style=\"display: table-cell;\">title_location&nbsp;=&nbsp;'above',</div></div><div class=\"2265\" style=\"display: none;\"><div style=\"display: table-cell;\"></div><div style=\"display: table-cell;\">toolbar&nbsp;=&nbsp;Toolbar(id='2177', ...),</div></div><div class=\"2265\" style=\"display: none;\"><div style=\"display: table-cell;\"></div><div style=\"display: table-cell;\">toolbar_location&nbsp;=&nbsp;'right',</div></div><div class=\"2265\" style=\"display: none;\"><div style=\"display: table-cell;\"></div><div style=\"display: table-cell;\">toolbar_sticky&nbsp;=&nbsp;True,</div></div><div class=\"2265\" style=\"display: none;\"><div style=\"display: table-cell;\"></div><div style=\"display: table-cell;\">visible&nbsp;=&nbsp;True,</div></div><div class=\"2265\" style=\"display: none;\"><div style=\"display: table-cell;\"></div><div style=\"display: table-cell;\">width&nbsp;=&nbsp;None,</div></div><div class=\"2265\" style=\"display: none;\"><div style=\"display: table-cell;\"></div><div style=\"display: table-cell;\">width_policy&nbsp;=&nbsp;'auto',</div></div><div class=\"2265\" style=\"display: none;\"><div style=\"display: table-cell;\"></div><div style=\"display: table-cell;\">x_range&nbsp;=&nbsp;DataRange1d(id='2146', ...),</div></div><div class=\"2265\" style=\"display: none;\"><div style=\"display: table-cell;\"></div><div style=\"display: table-cell;\">x_scale&nbsp;=&nbsp;LinearScale(id='2150', ...),</div></div><div class=\"2265\" style=\"display: none;\"><div style=\"display: table-cell;\"></div><div style=\"display: table-cell;\">y_range&nbsp;=&nbsp;DataRange1d(id='2148', ...),</div></div><div class=\"2265\" style=\"display: none;\"><div style=\"display: table-cell;\"></div><div style=\"display: table-cell;\">y_scale&nbsp;=&nbsp;LinearScale(id='2152', ...))</div></div></div>\n",
       "<script>\n",
       "(function() {\n",
       "  var expanded = false;\n",
       "  var ellipsis = document.getElementById(\"2266\");\n",
       "  ellipsis.addEventListener(\"click\", function() {\n",
       "    var rows = document.getElementsByClassName(\"2265\");\n",
       "    for (var i = 0; i < rows.length; i++) {\n",
       "      var el = rows[i];\n",
       "      el.style.display = expanded ? \"none\" : \"table-row\";\n",
       "    }\n",
       "    ellipsis.innerHTML = expanded ? \"&hellip;)\" : \"&lsaquo;&lsaquo;&lsaquo;\";\n",
       "    expanded = !expanded;\n",
       "  });\n",
       "})();\n",
       "</script>\n"
      ],
      "text/plain": [
       "Figure(id='2143', ...)"
      ]
     },
     "execution_count": 5,
     "metadata": {},
     "output_type": "execute_result"
    }
   ],
   "source": [
    "gpdf = geopandas.GeoDataFrame(confirmed2, geometry=geopandas.points_from_xy(confirmed2.Long, confirmed2.Lat))\n",
    "gpdf.crs = CRS.from_string(\"epsg:4326\")\n",
    "gpdf.plot_bokeh(legend=False)"
   ]
  },
  {
   "cell_type": "code",
   "execution_count": 6,
   "metadata": {},
   "outputs": [],
   "source": [
    "columns_to_select = confirmed.columns[14:]\n",
    "# Selecting a subset from the dataframe\n",
    "confirmed = confirmed.select(columns_to_select)"
   ]
  },
  {
   "cell_type": "code",
   "execution_count": 7,
   "metadata": {},
   "outputs": [],
   "source": [
    "# sum up all rows data into 1 row (merging)\n",
    "confirmed = confirmed.select(confirmed.columns).groupBy().sum()"
   ]
  },
  {
   "cell_type": "markdown",
   "metadata": {},
   "source": [
    "###### Merge the data to one row since we want to consider the entire Australia"
   ]
  },
  {
   "cell_type": "code",
   "execution_count": 8,
   "metadata": {
    "scrolled": true
   },
   "outputs": [
    {
     "data": {
      "text/html": [
       "<div>\n",
       "<style scoped>\n",
       "    .dataframe tbody tr th:only-of-type {\n",
       "        vertical-align: middle;\n",
       "    }\n",
       "\n",
       "    .dataframe tbody tr th {\n",
       "        vertical-align: top;\n",
       "    }\n",
       "\n",
       "    .dataframe thead th {\n",
       "        text-align: right;\n",
       "    }\n",
       "</style>\n",
       "<table border=\"1\" class=\"dataframe\">\n",
       "  <thead>\n",
       "    <tr style=\"text-align: right;\">\n",
       "      <th></th>\n",
       "      <th>0</th>\n",
       "    </tr>\n",
       "  </thead>\n",
       "  <tbody>\n",
       "    <tr>\n",
       "      <th>0</th>\n",
       "      <td>12</td>\n",
       "    </tr>\n",
       "    <tr>\n",
       "      <th>1</th>\n",
       "      <td>12</td>\n",
       "    </tr>\n",
       "    <tr>\n",
       "      <th>2</th>\n",
       "      <td>12</td>\n",
       "    </tr>\n",
       "    <tr>\n",
       "      <th>3</th>\n",
       "      <td>13</td>\n",
       "    </tr>\n",
       "    <tr>\n",
       "      <th>4</th>\n",
       "      <td>13</td>\n",
       "    </tr>\n",
       "    <tr>\n",
       "      <th>5</th>\n",
       "      <td>14</td>\n",
       "    </tr>\n",
       "    <tr>\n",
       "      <th>6</th>\n",
       "      <td>15</td>\n",
       "    </tr>\n",
       "    <tr>\n",
       "      <th>7</th>\n",
       "      <td>15</td>\n",
       "    </tr>\n",
       "    <tr>\n",
       "      <th>8</th>\n",
       "      <td>15</td>\n",
       "    </tr>\n",
       "    <tr>\n",
       "      <th>9</th>\n",
       "      <td>15</td>\n",
       "    </tr>\n",
       "    <tr>\n",
       "      <th>10</th>\n",
       "      <td>15</td>\n",
       "    </tr>\n",
       "    <tr>\n",
       "      <th>11</th>\n",
       "      <td>15</td>\n",
       "    </tr>\n",
       "    <tr>\n",
       "      <th>12</th>\n",
       "      <td>15</td>\n",
       "    </tr>\n",
       "    <tr>\n",
       "      <th>13</th>\n",
       "      <td>15</td>\n",
       "    </tr>\n",
       "    <tr>\n",
       "      <th>14</th>\n",
       "      <td>15</td>\n",
       "    </tr>\n",
       "    <tr>\n",
       "      <th>15</th>\n",
       "      <td>15</td>\n",
       "    </tr>\n",
       "    <tr>\n",
       "      <th>16</th>\n",
       "      <td>15</td>\n",
       "    </tr>\n",
       "    <tr>\n",
       "      <th>17</th>\n",
       "      <td>15</td>\n",
       "    </tr>\n",
       "    <tr>\n",
       "      <th>18</th>\n",
       "      <td>15</td>\n",
       "    </tr>\n",
       "    <tr>\n",
       "      <th>19</th>\n",
       "      <td>15</td>\n",
       "    </tr>\n",
       "    <tr>\n",
       "      <th>20</th>\n",
       "      <td>19</td>\n",
       "    </tr>\n",
       "    <tr>\n",
       "      <th>21</th>\n",
       "      <td>22</td>\n",
       "    </tr>\n",
       "    <tr>\n",
       "      <th>22</th>\n",
       "      <td>22</td>\n",
       "    </tr>\n",
       "    <tr>\n",
       "      <th>23</th>\n",
       "      <td>22</td>\n",
       "    </tr>\n",
       "    <tr>\n",
       "      <th>24</th>\n",
       "      <td>22</td>\n",
       "    </tr>\n",
       "    <tr>\n",
       "      <th>25</th>\n",
       "      <td>22</td>\n",
       "    </tr>\n",
       "    <tr>\n",
       "      <th>26</th>\n",
       "      <td>23</td>\n",
       "    </tr>\n",
       "    <tr>\n",
       "      <th>27</th>\n",
       "      <td>23</td>\n",
       "    </tr>\n",
       "    <tr>\n",
       "      <th>28</th>\n",
       "      <td>25</td>\n",
       "    </tr>\n",
       "    <tr>\n",
       "      <th>29</th>\n",
       "      <td>27</td>\n",
       "    </tr>\n",
       "    <tr>\n",
       "      <th>30</th>\n",
       "      <td>30</td>\n",
       "    </tr>\n",
       "    <tr>\n",
       "      <th>31</th>\n",
       "      <td>39</td>\n",
       "    </tr>\n",
       "    <tr>\n",
       "      <th>32</th>\n",
       "      <td>52</td>\n",
       "    </tr>\n",
       "    <tr>\n",
       "      <th>33</th>\n",
       "      <td>55</td>\n",
       "    </tr>\n",
       "    <tr>\n",
       "      <th>34</th>\n",
       "      <td>60</td>\n",
       "    </tr>\n",
       "    <tr>\n",
       "      <th>35</th>\n",
       "      <td>63</td>\n",
       "    </tr>\n",
       "    <tr>\n",
       "      <th>36</th>\n",
       "      <td>76</td>\n",
       "    </tr>\n",
       "    <tr>\n",
       "      <th>37</th>\n",
       "      <td>91</td>\n",
       "    </tr>\n",
       "    <tr>\n",
       "      <th>38</th>\n",
       "      <td>107</td>\n",
       "    </tr>\n",
       "    <tr>\n",
       "      <th>39</th>\n",
       "      <td>128</td>\n",
       "    </tr>\n",
       "    <tr>\n",
       "      <th>40</th>\n",
       "      <td>128</td>\n",
       "    </tr>\n",
       "    <tr>\n",
       "      <th>41</th>\n",
       "      <td>200</td>\n",
       "    </tr>\n",
       "    <tr>\n",
       "      <th>42</th>\n",
       "      <td>250</td>\n",
       "    </tr>\n",
       "    <tr>\n",
       "      <th>43</th>\n",
       "      <td>297</td>\n",
       "    </tr>\n",
       "    <tr>\n",
       "      <th>44</th>\n",
       "      <td>377</td>\n",
       "    </tr>\n",
       "    <tr>\n",
       "      <th>45</th>\n",
       "      <td>452</td>\n",
       "    </tr>\n",
       "    <tr>\n",
       "      <th>46</th>\n",
       "      <td>568</td>\n",
       "    </tr>\n",
       "    <tr>\n",
       "      <th>47</th>\n",
       "      <td>681</td>\n",
       "    </tr>\n",
       "    <tr>\n",
       "      <th>48</th>\n",
       "      <td>791</td>\n",
       "    </tr>\n",
       "    <tr>\n",
       "      <th>49</th>\n",
       "      <td>1071</td>\n",
       "    </tr>\n",
       "    <tr>\n",
       "      <th>50</th>\n",
       "      <td>1314</td>\n",
       "    </tr>\n",
       "    <tr>\n",
       "      <th>51</th>\n",
       "      <td>1314</td>\n",
       "    </tr>\n",
       "  </tbody>\n",
       "</table>\n",
       "</div>"
      ],
      "text/plain": [
       "       0\n",
       "0     12\n",
       "1     12\n",
       "2     12\n",
       "3     13\n",
       "4     13\n",
       "5     14\n",
       "6     15\n",
       "7     15\n",
       "8     15\n",
       "9     15\n",
       "10    15\n",
       "11    15\n",
       "12    15\n",
       "13    15\n",
       "14    15\n",
       "15    15\n",
       "16    15\n",
       "17    15\n",
       "18    15\n",
       "19    15\n",
       "20    19\n",
       "21    22\n",
       "22    22\n",
       "23    22\n",
       "24    22\n",
       "25    22\n",
       "26    23\n",
       "27    23\n",
       "28    25\n",
       "29    27\n",
       "30    30\n",
       "31    39\n",
       "32    52\n",
       "33    55\n",
       "34    60\n",
       "35    63\n",
       "36    76\n",
       "37    91\n",
       "38   107\n",
       "39   128\n",
       "40   128\n",
       "41   200\n",
       "42   250\n",
       "43   297\n",
       "44   377\n",
       "45   452\n",
       "46   568\n",
       "47   681\n",
       "48   791\n",
       "49  1071\n",
       "50  1314\n",
       "51  1314"
      ]
     },
     "execution_count": 8,
     "metadata": {},
     "output_type": "execute_result"
    }
   ],
   "source": [
    "# sum up all rows data into 1 row (merging)\n",
    "confirmed = confirmed.select(confirmed.columns).groupBy().sum()\n",
    "\n",
    "# renaming column names for indexing\n",
    "counter = 0\n",
    "for column in confirmed.columns:\n",
    "    confirmed = confirmed.withColumnRenamed(f\"{column}\", f\"{counter}\")\n",
    "    counter = counter + 1\n",
    "    \n",
    "# Converting to Pandas to transpose the dataframe\n",
    "confirmed_transpose = confirmed.toPandas().transpose()\n",
    "confirmed_transpose"
   ]
  },
  {
   "cell_type": "code",
   "execution_count": 9,
   "metadata": {
    "scrolled": false
   },
   "outputs": [
    {
     "name": "stdout",
     "output_type": "stream",
     "text": [
      "+------------+-------+\n",
      "|total_counts|indexes|\n",
      "+------------+-------+\n",
      "|          12|      0|\n",
      "|          12|      1|\n",
      "|          12|      2|\n",
      "|          13|      3|\n",
      "|          13|      4|\n",
      "|          14|      5|\n",
      "|          15|      6|\n",
      "|          15|      7|\n",
      "|          15|      8|\n",
      "|          15|      9|\n",
      "|          15|     10|\n",
      "|          15|     11|\n",
      "|          15|     12|\n",
      "|          15|     13|\n",
      "|          15|     14|\n",
      "|          15|     15|\n",
      "|          15|     16|\n",
      "|          15|     17|\n",
      "|          15|     18|\n",
      "|          15|     19|\n",
      "+------------+-------+\n",
      "only showing top 20 rows\n",
      "\n"
     ]
    }
   ],
   "source": [
    "# Creating a Spark DataFrame from our Pandas DataFrame\n",
    "confirmedSparkDF = spark.createDataFrame(confirmed_transpose)\n",
    "confirmedSparkDF = confirmedSparkDF.withColumnRenamed(f\"{0}\", \"total_counts\")\n",
    "confirmedSparkDF = confirmedSparkDF.withColumn(\"indexes\", F.row_number()\n",
    "                                               .over(Window.orderBy(F.monotonically_increasing_id())) - 1)\n",
    "confirmedSparkDF.show()"
   ]
  },
  {
   "cell_type": "code",
   "execution_count": 10,
   "metadata": {},
   "outputs": [],
   "source": [
    "featureassembler = VectorAssembler(inputCols = ['indexes'], outputCol=\"Days\")\n",
    "output = featureassembler.transform(confirmedSparkDF)\n",
    "finalized_data = output.select(\"Days\", \"total_counts\")"
   ]
  },
  {
   "cell_type": "markdown",
   "metadata": {},
   "source": [
    "###### Splitting into Train & Test data"
   ]
  },
  {
   "cell_type": "code",
   "execution_count": 11,
   "metadata": {},
   "outputs": [
    {
     "name": "stdout",
     "output_type": "stream",
     "text": [
      "+------+------------+\n",
      "|  Days|total_counts|\n",
      "+------+------------+\n",
      "| [0.0]|          12|\n",
      "| [1.0]|          12|\n",
      "| [2.0]|          12|\n",
      "| [3.0]|          13|\n",
      "| [4.0]|          13|\n",
      "| [5.0]|          14|\n",
      "| [6.0]|          15|\n",
      "| [7.0]|          15|\n",
      "| [8.0]|          15|\n",
      "| [9.0]|          15|\n",
      "|[10.0]|          15|\n",
      "|[11.0]|          15|\n",
      "|[12.0]|          15|\n",
      "|[13.0]|          15|\n",
      "|[14.0]|          15|\n",
      "|[15.0]|          15|\n",
      "|[16.0]|          15|\n",
      "|[17.0]|          15|\n",
      "|[18.0]|          15|\n",
      "|[19.0]|          15|\n",
      "+------+------------+\n",
      "only showing top 20 rows\n",
      "\n",
      "+------+------------+\n",
      "|  Days|total_counts|\n",
      "+------+------------+\n",
      "|[51.0]|        1314|\n",
      "|[50.0]|        1314|\n",
      "+------+------------+\n",
      "\n"
     ]
    }
   ],
   "source": [
    "finalized_data.createOrReplaceTempView(\"Finalized_Cases\")\n",
    "train_data = spark.sql(\"SELECT * FROM Finalized_Cases LIMIT 50\")\n",
    "test_data = spark.sql(\"SELECT * FROM Finalized_Cases ORDER BY Days DESC LIMIT 2\")\n",
    "\n",
    "#####  Alternate method to split data into train and test data  ######\n",
    "# train_data = finalized_data.where(F.col('indexes') < 50)\n",
    "# test_data = finalized_data.where(F.col('indexes') > 49)\n",
    "\n",
    "train_data.show()\n",
    "test_data.show()"
   ]
  },
  {
   "cell_type": "code",
   "execution_count": 12,
   "metadata": {},
   "outputs": [
    {
     "data": {
      "text/html": [
       "\n",
       "\n",
       "\n",
       "\n",
       "\n",
       "\n",
       "  <div class=\"bk-root\" id=\"22c48597-26f5-481a-9730-a444f82d3a3d\" data-root-id=\"2268\"></div>\n"
      ]
     },
     "metadata": {},
     "output_type": "display_data"
    },
    {
     "data": {
      "application/javascript": [
       "(function(root) {\n",
       "  function embed_document(root) {\n",
       "    \n",
       "  var docs_json = {\"8160b51b-9cbc-4839-81be-5509e75bdc2c\":{\"roots\":{\"references\":[{\"attributes\":{\"below\":[{\"id\":\"2279\"}],\"center\":[{\"id\":\"2282\"},{\"id\":\"2286\"},{\"id\":\"2313\"}],\"left\":[{\"id\":\"2283\"}],\"output_backend\":\"webgl\",\"plot_height\":500,\"plot_width\":1000,\"renderers\":[{\"id\":\"2305\"}],\"sizing_mode\":\"fixed\",\"title\":{\"id\":\"2269\"},\"toolbar\":{\"id\":\"2294\"},\"x_range\":{\"id\":\"2271\"},\"x_scale\":{\"id\":\"2275\"},\"y_range\":{\"id\":\"2273\"},\"y_scale\":{\"id\":\"2277\"}},\"id\":\"2268\",\"subtype\":\"Figure\",\"type\":\"Plot\"},{\"attributes\":{},\"id\":\"2292\",\"type\":\"HelpTool\"},{\"attributes\":{},\"id\":\"2337\",\"type\":\"UnionRenderers\"},{\"attributes\":{},\"id\":\"2311\",\"type\":\"BasicTickFormatter\"},{\"attributes\":{\"ticks\":[0,1,2,3,4,5,6,7,8,9,10,11,12,13,14,15,16,17,18,19,20,21,22,23,24,25,26,27,28,29,30,31,32,33,34,35,36,37,38,39,40,41,42,43,44,45,46,47,48,49,50,51]},\"id\":\"2317\",\"type\":\"FixedTicker\"},{\"attributes\":{},\"id\":\"2275\",\"type\":\"LinearScale\"},{\"attributes\":{},\"id\":\"2291\",\"type\":\"ResetTool\"},{\"attributes\":{\"active_drag\":\"auto\",\"active_inspect\":\"auto\",\"active_multi\":null,\"active_scroll\":{\"id\":\"2288\"},\"active_tap\":\"auto\",\"tools\":[{\"id\":\"2287\"},{\"id\":\"2288\"},{\"id\":\"2289\"},{\"id\":\"2290\"},{\"id\":\"2291\"},{\"id\":\"2292\"},{\"id\":\"2315\"}]},\"id\":\"2294\",\"type\":\"Toolbar\"},{\"attributes\":{\"axis\":{\"id\":\"2279\"},\"ticker\":null},\"id\":\"2282\",\"type\":\"Grid\"},{\"attributes\":{\"data_source\":{\"id\":\"2301\"},\"glyph\":{\"id\":\"2303\"},\"hover_glyph\":null,\"muted_glyph\":null,\"nonselection_glyph\":{\"id\":\"2304\"},\"selection_glyph\":null,\"view\":{\"id\":\"2306\"}},\"id\":\"2305\",\"type\":\"GlyphRenderer\"},{\"attributes\":{\"axis\":{\"id\":\"2283\"},\"dimension\":1,\"ticker\":null},\"id\":\"2286\",\"type\":\"Grid\"},{\"attributes\":{\"click_policy\":\"hide\",\"items\":[{\"id\":\"2314\"}],\"visible\":false},\"id\":\"2313\",\"type\":\"Legend\"},{\"attributes\":{\"line_alpha\":0.1,\"line_color\":\"#1f77b4\",\"line_width\":2,\"x\":{\"field\":\"__x__values\"},\"y\":{\"field\":\"total_counts\"}},\"id\":\"2304\",\"type\":\"Line\"},{\"attributes\":{\"axis_label\":\"total_counts\",\"formatter\":{\"id\":\"2309\"},\"ticker\":{\"id\":\"2284\"}},\"id\":\"2283\",\"type\":\"LinearAxis\"},{\"attributes\":{},\"id\":\"2338\",\"type\":\"Selection\"},{\"attributes\":{},\"id\":\"2271\",\"type\":\"DataRange1d\"},{\"attributes\":{},\"id\":\"2284\",\"type\":\"BasicTicker\"},{\"attributes\":{\"data\":{\"__x__values\":[0,1,2,3,4,5,6,7,8,9,10,11,12,13,14,15,16,17,18,19,20,21,22,23,24,25,26,27,28,29,30,31,32,33,34,35,36,37,38,39,40,41,42,43,44,45,46,47,48,49,50,51],\"__x__values_original\":[0,1,2,3,4,5,6,7,8,9,10,11,12,13,14,15,16,17,18,19,20,21,22,23,24,25,26,27,28,29,30,31,32,33,34,35,36,37,38,39,40,41,42,43,44,45,46,47,48,49,50,51],\"total_counts\":[12,12,12,13,13,14,15,15,15,15,15,15,15,15,15,15,15,15,15,15,19,22,22,22,22,22,23,23,25,27,30,39,52,55,60,63,76,91,107,128,128,200,250,297,377,452,568,681,791,1071,1314,1314]},\"selected\":{\"id\":\"2338\"},\"selection_policy\":{\"id\":\"2337\"}},\"id\":\"2301\",\"type\":\"ColumnDataSource\"},{\"attributes\":{\"bottom_units\":\"screen\",\"fill_alpha\":0.5,\"fill_color\":\"lightgrey\",\"left_units\":\"screen\",\"level\":\"overlay\",\"line_alpha\":1.0,\"line_color\":\"black\",\"line_dash\":[4,4],\"line_width\":2,\"render_mode\":\"css\",\"right_units\":\"screen\",\"top_units\":\"screen\"},\"id\":\"2293\",\"type\":\"BoxAnnotation\"},{\"attributes\":{\"source\":{\"id\":\"2301\"}},\"id\":\"2306\",\"type\":\"CDSView\"},{\"attributes\":{},\"id\":\"2287\",\"type\":\"PanTool\"},{\"attributes\":{},\"id\":\"2288\",\"type\":\"WheelZoomTool\"},{\"attributes\":{},\"id\":\"2277\",\"type\":\"LinearScale\"},{\"attributes\":{},\"id\":\"2273\",\"type\":\"DataRange1d\"},{\"attributes\":{\"label\":{\"value\":\" total_counts\"},\"renderers\":[{\"id\":\"2305\"}]},\"id\":\"2314\",\"type\":\"LegendItem\"},{\"attributes\":{\"overlay\":{\"id\":\"2293\"}},\"id\":\"2289\",\"type\":\"BoxZoomTool\"},{\"attributes\":{\"formatter\":{\"id\":\"2311\"},\"ticker\":{\"id\":\"2317\"}},\"id\":\"2279\",\"type\":\"LinearAxis\"},{\"attributes\":{\"callback\":null,\"mode\":\"vline\",\"renderers\":[{\"id\":\"2305\"}],\"tooltips\":[[\"x\",\"@__x__values_original\"],[\"total_counts\",\"@{total_counts}\"]]},\"id\":\"2315\",\"type\":\"HoverTool\"},{\"attributes\":{},\"id\":\"2290\",\"type\":\"SaveTool\"},{\"attributes\":{\"text\":\"\"},\"id\":\"2269\",\"type\":\"Title\"},{\"attributes\":{},\"id\":\"2309\",\"type\":\"BasicTickFormatter\"},{\"attributes\":{\"line_color\":\"#1f77b4\",\"line_width\":2,\"x\":{\"field\":\"__x__values\"},\"y\":{\"field\":\"total_counts\"}},\"id\":\"2303\",\"type\":\"Line\"}],\"root_ids\":[\"2268\"]},\"title\":\"Bokeh Application\",\"version\":\"2.0.1\"}};\n",
       "  var render_items = [{\"docid\":\"8160b51b-9cbc-4839-81be-5509e75bdc2c\",\"root_ids\":[\"2268\"],\"roots\":{\"2268\":\"22c48597-26f5-481a-9730-a444f82d3a3d\"}}];\n",
       "  root.Bokeh.embed.embed_items_notebook(docs_json, render_items);\n",
       "\n",
       "  }\n",
       "  if (root.Bokeh !== undefined) {\n",
       "    embed_document(root);\n",
       "  } else {\n",
       "    var attempts = 0;\n",
       "    var timer = setInterval(function(root) {\n",
       "      if (root.Bokeh !== undefined) {\n",
       "        clearInterval(timer);\n",
       "        embed_document(root);\n",
       "      } else {\n",
       "        attempts++;\n",
       "        if (attempts > 100) {\n",
       "          clearInterval(timer);\n",
       "          console.log(\"Bokeh: ERROR: Unable to run BokehJS code because BokehJS library is missing\");\n",
       "        }\n",
       "      }\n",
       "    }, 10, root)\n",
       "  }\n",
       "})(window);"
      ],
      "application/vnd.bokehjs_exec.v0+json": ""
     },
     "metadata": {
      "application/vnd.bokehjs_exec.v0+json": {
       "id": "2268"
      }
     },
     "output_type": "display_data"
    },
    {
     "data": {
      "text/html": [
       "<div style=\"display: table;\"><div style=\"display: table-row;\"><div style=\"display: table-cell;\"><b title=\"bokeh.plotting.figure.Figure\">Figure</b>(</div><div style=\"display: table-cell;\">id&nbsp;=&nbsp;'2268', <span id=\"2383\" style=\"cursor: pointer;\">&hellip;)</span></div></div><div class=\"2382\" style=\"display: none;\"><div style=\"display: table-cell;\"></div><div style=\"display: table-cell;\">above&nbsp;=&nbsp;[],</div></div><div class=\"2382\" style=\"display: none;\"><div style=\"display: table-cell;\"></div><div style=\"display: table-cell;\">align&nbsp;=&nbsp;'start',</div></div><div class=\"2382\" style=\"display: none;\"><div style=\"display: table-cell;\"></div><div style=\"display: table-cell;\">aspect_ratio&nbsp;=&nbsp;None,</div></div><div class=\"2382\" style=\"display: none;\"><div style=\"display: table-cell;\"></div><div style=\"display: table-cell;\">aspect_scale&nbsp;=&nbsp;1,</div></div><div class=\"2382\" style=\"display: none;\"><div style=\"display: table-cell;\"></div><div style=\"display: table-cell;\">background&nbsp;=&nbsp;None,</div></div><div class=\"2382\" style=\"display: none;\"><div style=\"display: table-cell;\"></div><div style=\"display: table-cell;\">background_fill_alpha&nbsp;=&nbsp;1.0,</div></div><div class=\"2382\" style=\"display: none;\"><div style=\"display: table-cell;\"></div><div style=\"display: table-cell;\">background_fill_color&nbsp;=&nbsp;'#ffffff',</div></div><div class=\"2382\" style=\"display: none;\"><div style=\"display: table-cell;\"></div><div style=\"display: table-cell;\">below&nbsp;=&nbsp;[LinearAxis(id='2279', ...)],</div></div><div class=\"2382\" style=\"display: none;\"><div style=\"display: table-cell;\"></div><div style=\"display: table-cell;\">border_fill_alpha&nbsp;=&nbsp;1.0,</div></div><div class=\"2382\" style=\"display: none;\"><div style=\"display: table-cell;\"></div><div style=\"display: table-cell;\">border_fill_color&nbsp;=&nbsp;'#ffffff',</div></div><div class=\"2382\" style=\"display: none;\"><div style=\"display: table-cell;\"></div><div style=\"display: table-cell;\">center&nbsp;=&nbsp;[Grid(id='2282', ...), Grid(id='2286', ...), Legend(id='2313', ...)],</div></div><div class=\"2382\" style=\"display: none;\"><div style=\"display: table-cell;\"></div><div style=\"display: table-cell;\">css_classes&nbsp;=&nbsp;[],</div></div><div class=\"2382\" style=\"display: none;\"><div style=\"display: table-cell;\"></div><div style=\"display: table-cell;\">disabled&nbsp;=&nbsp;False,</div></div><div class=\"2382\" style=\"display: none;\"><div style=\"display: table-cell;\"></div><div style=\"display: table-cell;\">extra_x_ranges&nbsp;=&nbsp;{},</div></div><div class=\"2382\" style=\"display: none;\"><div style=\"display: table-cell;\"></div><div style=\"display: table-cell;\">extra_y_ranges&nbsp;=&nbsp;{},</div></div><div class=\"2382\" style=\"display: none;\"><div style=\"display: table-cell;\"></div><div style=\"display: table-cell;\">frame_height&nbsp;=&nbsp;None,</div></div><div class=\"2382\" style=\"display: none;\"><div style=\"display: table-cell;\"></div><div style=\"display: table-cell;\">frame_width&nbsp;=&nbsp;None,</div></div><div class=\"2382\" style=\"display: none;\"><div style=\"display: table-cell;\"></div><div style=\"display: table-cell;\">height&nbsp;=&nbsp;None,</div></div><div class=\"2382\" style=\"display: none;\"><div style=\"display: table-cell;\"></div><div style=\"display: table-cell;\">height_policy&nbsp;=&nbsp;'auto',</div></div><div class=\"2382\" style=\"display: none;\"><div style=\"display: table-cell;\"></div><div style=\"display: table-cell;\">hidpi&nbsp;=&nbsp;True,</div></div><div class=\"2382\" style=\"display: none;\"><div style=\"display: table-cell;\"></div><div style=\"display: table-cell;\">js_event_callbacks&nbsp;=&nbsp;{},</div></div><div class=\"2382\" style=\"display: none;\"><div style=\"display: table-cell;\"></div><div style=\"display: table-cell;\">js_property_callbacks&nbsp;=&nbsp;{},</div></div><div class=\"2382\" style=\"display: none;\"><div style=\"display: table-cell;\"></div><div style=\"display: table-cell;\">left&nbsp;=&nbsp;[LinearAxis(id='2283', ...)],</div></div><div class=\"2382\" style=\"display: none;\"><div style=\"display: table-cell;\"></div><div style=\"display: table-cell;\">lod_factor&nbsp;=&nbsp;10,</div></div><div class=\"2382\" style=\"display: none;\"><div style=\"display: table-cell;\"></div><div style=\"display: table-cell;\">lod_interval&nbsp;=&nbsp;300,</div></div><div class=\"2382\" style=\"display: none;\"><div style=\"display: table-cell;\"></div><div style=\"display: table-cell;\">lod_threshold&nbsp;=&nbsp;2000,</div></div><div class=\"2382\" style=\"display: none;\"><div style=\"display: table-cell;\"></div><div style=\"display: table-cell;\">lod_timeout&nbsp;=&nbsp;500,</div></div><div class=\"2382\" style=\"display: none;\"><div style=\"display: table-cell;\"></div><div style=\"display: table-cell;\">margin&nbsp;=&nbsp;(0, 0, 0, 0),</div></div><div class=\"2382\" style=\"display: none;\"><div style=\"display: table-cell;\"></div><div style=\"display: table-cell;\">match_aspect&nbsp;=&nbsp;False,</div></div><div class=\"2382\" style=\"display: none;\"><div style=\"display: table-cell;\"></div><div style=\"display: table-cell;\">max_height&nbsp;=&nbsp;None,</div></div><div class=\"2382\" style=\"display: none;\"><div style=\"display: table-cell;\"></div><div style=\"display: table-cell;\">max_width&nbsp;=&nbsp;None,</div></div><div class=\"2382\" style=\"display: none;\"><div style=\"display: table-cell;\"></div><div style=\"display: table-cell;\">min_border&nbsp;=&nbsp;5,</div></div><div class=\"2382\" style=\"display: none;\"><div style=\"display: table-cell;\"></div><div style=\"display: table-cell;\">min_border_bottom&nbsp;=&nbsp;None,</div></div><div class=\"2382\" style=\"display: none;\"><div style=\"display: table-cell;\"></div><div style=\"display: table-cell;\">min_border_left&nbsp;=&nbsp;None,</div></div><div class=\"2382\" style=\"display: none;\"><div style=\"display: table-cell;\"></div><div style=\"display: table-cell;\">min_border_right&nbsp;=&nbsp;None,</div></div><div class=\"2382\" style=\"display: none;\"><div style=\"display: table-cell;\"></div><div style=\"display: table-cell;\">min_border_top&nbsp;=&nbsp;None,</div></div><div class=\"2382\" style=\"display: none;\"><div style=\"display: table-cell;\"></div><div style=\"display: table-cell;\">min_height&nbsp;=&nbsp;None,</div></div><div class=\"2382\" style=\"display: none;\"><div style=\"display: table-cell;\"></div><div style=\"display: table-cell;\">min_width&nbsp;=&nbsp;None,</div></div><div class=\"2382\" style=\"display: none;\"><div style=\"display: table-cell;\"></div><div style=\"display: table-cell;\">name&nbsp;=&nbsp;None,</div></div><div class=\"2382\" style=\"display: none;\"><div style=\"display: table-cell;\"></div><div style=\"display: table-cell;\">outline_line_alpha&nbsp;=&nbsp;1.0,</div></div><div class=\"2382\" style=\"display: none;\"><div style=\"display: table-cell;\"></div><div style=\"display: table-cell;\">outline_line_cap&nbsp;=&nbsp;'butt',</div></div><div class=\"2382\" style=\"display: none;\"><div style=\"display: table-cell;\"></div><div style=\"display: table-cell;\">outline_line_color&nbsp;=&nbsp;'#e5e5e5',</div></div><div class=\"2382\" style=\"display: none;\"><div style=\"display: table-cell;\"></div><div style=\"display: table-cell;\">outline_line_dash&nbsp;=&nbsp;[],</div></div><div class=\"2382\" style=\"display: none;\"><div style=\"display: table-cell;\"></div><div style=\"display: table-cell;\">outline_line_dash_offset&nbsp;=&nbsp;0,</div></div><div class=\"2382\" style=\"display: none;\"><div style=\"display: table-cell;\"></div><div style=\"display: table-cell;\">outline_line_join&nbsp;=&nbsp;'bevel',</div></div><div class=\"2382\" style=\"display: none;\"><div style=\"display: table-cell;\"></div><div style=\"display: table-cell;\">outline_line_width&nbsp;=&nbsp;1,</div></div><div class=\"2382\" style=\"display: none;\"><div style=\"display: table-cell;\"></div><div style=\"display: table-cell;\">output_backend&nbsp;=&nbsp;'webgl',</div></div><div class=\"2382\" style=\"display: none;\"><div style=\"display: table-cell;\"></div><div style=\"display: table-cell;\">plot_height&nbsp;=&nbsp;500,</div></div><div class=\"2382\" style=\"display: none;\"><div style=\"display: table-cell;\"></div><div style=\"display: table-cell;\">plot_width&nbsp;=&nbsp;1000,</div></div><div class=\"2382\" style=\"display: none;\"><div style=\"display: table-cell;\"></div><div style=\"display: table-cell;\">renderers&nbsp;=&nbsp;[GlyphRenderer(id='2305', ...)],</div></div><div class=\"2382\" style=\"display: none;\"><div style=\"display: table-cell;\"></div><div style=\"display: table-cell;\">reset_policy&nbsp;=&nbsp;'standard',</div></div><div class=\"2382\" style=\"display: none;\"><div style=\"display: table-cell;\"></div><div style=\"display: table-cell;\">right&nbsp;=&nbsp;[],</div></div><div class=\"2382\" style=\"display: none;\"><div style=\"display: table-cell;\"></div><div style=\"display: table-cell;\">sizing_mode&nbsp;=&nbsp;'fixed',</div></div><div class=\"2382\" style=\"display: none;\"><div style=\"display: table-cell;\"></div><div style=\"display: table-cell;\">subscribed_events&nbsp;=&nbsp;[],</div></div><div class=\"2382\" style=\"display: none;\"><div style=\"display: table-cell;\"></div><div style=\"display: table-cell;\">tags&nbsp;=&nbsp;[],</div></div><div class=\"2382\" style=\"display: none;\"><div style=\"display: table-cell;\"></div><div style=\"display: table-cell;\">title&nbsp;=&nbsp;Title(id='2269', ...),</div></div><div class=\"2382\" style=\"display: none;\"><div style=\"display: table-cell;\"></div><div style=\"display: table-cell;\">title_location&nbsp;=&nbsp;'above',</div></div><div class=\"2382\" style=\"display: none;\"><div style=\"display: table-cell;\"></div><div style=\"display: table-cell;\">toolbar&nbsp;=&nbsp;Toolbar(id='2294', ...),</div></div><div class=\"2382\" style=\"display: none;\"><div style=\"display: table-cell;\"></div><div style=\"display: table-cell;\">toolbar_location&nbsp;=&nbsp;'right',</div></div><div class=\"2382\" style=\"display: none;\"><div style=\"display: table-cell;\"></div><div style=\"display: table-cell;\">toolbar_sticky&nbsp;=&nbsp;True,</div></div><div class=\"2382\" style=\"display: none;\"><div style=\"display: table-cell;\"></div><div style=\"display: table-cell;\">visible&nbsp;=&nbsp;True,</div></div><div class=\"2382\" style=\"display: none;\"><div style=\"display: table-cell;\"></div><div style=\"display: table-cell;\">width&nbsp;=&nbsp;None,</div></div><div class=\"2382\" style=\"display: none;\"><div style=\"display: table-cell;\"></div><div style=\"display: table-cell;\">width_policy&nbsp;=&nbsp;'auto',</div></div><div class=\"2382\" style=\"display: none;\"><div style=\"display: table-cell;\"></div><div style=\"display: table-cell;\">x_range&nbsp;=&nbsp;DataRange1d(id='2271', ...),</div></div><div class=\"2382\" style=\"display: none;\"><div style=\"display: table-cell;\"></div><div style=\"display: table-cell;\">x_scale&nbsp;=&nbsp;LinearScale(id='2275', ...),</div></div><div class=\"2382\" style=\"display: none;\"><div style=\"display: table-cell;\"></div><div style=\"display: table-cell;\">y_range&nbsp;=&nbsp;DataRange1d(id='2273', ...),</div></div><div class=\"2382\" style=\"display: none;\"><div style=\"display: table-cell;\"></div><div style=\"display: table-cell;\">y_scale&nbsp;=&nbsp;LinearScale(id='2277', ...))</div></div></div>\n",
       "<script>\n",
       "(function() {\n",
       "  var expanded = false;\n",
       "  var ellipsis = document.getElementById(\"2383\");\n",
       "  ellipsis.addEventListener(\"click\", function() {\n",
       "    var rows = document.getElementsByClassName(\"2382\");\n",
       "    for (var i = 0; i < rows.length; i++) {\n",
       "      var el = rows[i];\n",
       "      el.style.display = expanded ? \"none\" : \"table-row\";\n",
       "    }\n",
       "    ellipsis.innerHTML = expanded ? \"&hellip;)\" : \"&lsaquo;&lsaquo;&lsaquo;\";\n",
       "    expanded = !expanded;\n",
       "  });\n",
       "})();\n",
       "</script>\n"
      ],
      "text/plain": [
       "Figure(id='2268', ...)"
      ]
     },
     "execution_count": 12,
     "metadata": {},
     "output_type": "execute_result"
    }
   ],
   "source": [
    "# plotting the data\n",
    "#finalized_data.toPandas().drop(['Days'],axis=1).plot(kind='line',figsize=(10,5))\n",
    "finalized_data.toPandas().plot_bokeh(kind='line', legend=False, figsize=(1000, 500))"
   ]
  },
  {
   "cell_type": "markdown",
   "metadata": {},
   "source": [
    "### Apply Regression Method"
   ]
  },
  {
   "cell_type": "code",
   "execution_count": 13,
   "metadata": {},
   "outputs": [
    {
     "name": "stdout",
     "output_type": "stream",
     "text": [
      "Regressor coefficient:  [10.308381899055645]\n",
      "Regressor intercept:  -131.9753565268633\n",
      "total Iterations: 3\n",
      "RMSE: 163.472712\n",
      "R-squared: 0.455198\n",
      "+-------+------------------+\n",
      "|summary|      total_counts|\n",
      "+-------+------------------+\n",
      "|  count|                50|\n",
      "|   mean|            120.58|\n",
      "| stddev|223.72423714411073|\n",
      "|    min|                12|\n",
      "|    max|              1071|\n",
      "+-------+------------------+\n",
      "\n"
     ]
    }
   ],
   "source": [
    "regressor = LinearRegression(featuresCol='Days', labelCol='total_counts', maxIter=10, regParam=0.8, elasticNetParam=0.5)\n",
    "regressor = regressor.fit(train_data)\n",
    "\n",
    "print('Regressor coefficient: ', regressor.coefficients)\n",
    "print('Regressor intercept: ', regressor.intercept)\n",
    "Summary = regressor.summary\n",
    "print(\"total Iterations: %d\" % Summary.totalIterations)\n",
    "print(\"RMSE: %f\" % Summary.rootMeanSquaredError)\n",
    "print(\"R-squared: %f\" % Summary.r2)\n",
    "train_data.describe().show()"
   ]
  },
  {
   "cell_type": "code",
   "execution_count": 14,
   "metadata": {},
   "outputs": [
    {
     "name": "stdout",
     "output_type": "stream",
     "text": [
      "+------+------------+-----------------+\n",
      "|  Days|total_counts|       prediction|\n",
      "+------+------------+-----------------+\n",
      "|[51.0]|        1314|393.7521203249746|\n",
      "|[50.0]|        1314|383.4437384259189|\n",
      "+------+------------+-----------------+\n",
      "\n"
     ]
    }
   ],
   "source": [
    "pred_results = regressor.evaluate(test_data)\n",
    "test_data = pred_results.predictions\n",
    "test_data.show()"
   ]
  },
  {
   "cell_type": "markdown",
   "metadata": {},
   "source": [
    "### Compute the Difference"
   ]
  },
  {
   "cell_type": "code",
   "execution_count": 15,
   "metadata": {},
   "outputs": [
    {
     "name": "stdout",
     "output_type": "stream",
     "text": [
      "+-----------------+\n",
      "|difference_values|\n",
      "+-----------------+\n",
      "|        920.24786|\n",
      "|         930.5563|\n",
      "+-----------------+\n",
      "\n"
     ]
    }
   ],
   "source": [
    "prediction = pred_results.predictions.select(\"prediction\").collect()\n",
    "test_data_actual = test_data.withColumnRenamed(\"total_counts\",\"actual\")\n",
    "test_data_actual = test_data_actual.select(\"actual\").collect()\n",
    "\n",
    "actual_cases = []\n",
    "predicted_cases = []\n",
    "for actual in test_data_actual:\n",
    "    actual_cases.append(float(actual.actual))  \n",
    "for predicts in prediction:\n",
    "    predicted_cases.append(predicts.prediction)\n",
    "    \n",
    "difference = [actual - predicted for actual, predicted in zip(actual_cases, predicted_cases)]\n",
    "differenceDF = spark.createDataFrame(difference, FloatType())\n",
    "differenceDF = differenceDF.withColumnRenamed(\"value\",\"difference_values\")\n",
    "differenceDF.show()"
   ]
  },
  {
   "cell_type": "markdown",
   "metadata": {},
   "source": [
    "### Visualizing Results"
   ]
  },
  {
   "cell_type": "code",
   "execution_count": 16,
   "metadata": {},
   "outputs": [
    {
     "data": {
      "text/plain": [
       "<matplotlib.axes._subplots.AxesSubplot at 0x7f838534df90>"
      ]
     },
     "execution_count": 16,
     "metadata": {},
     "output_type": "execute_result"
    },
    {
     "data": {
      "image/png": "[encoded data removed]",
      "text/plain": [
       "<Figure size 864x576 with 1 Axes>"
      ]
     },
     "metadata": {},
     "output_type": "display_data"
    }
   ],
   "source": [
    "actual_DF = output.select(\"indexes\", \"total_counts\").withColumnRenamed(f\"indexes\", \"Days\")\n",
    "\n",
    "# Converting to Pandas to plot scatter and regression plots\n",
    "actual_data = actual_DF.toPandas()\n",
    "Predicted_df = test_data.toPandas()\n",
    "\n",
    "Predicted_df['Days']=[51,50]\n",
    "f, ax = plt.subplots(figsize=(12,8))\n",
    "sns.regplot(x='Days',y='total_counts',data=actual_data[:-2])\n",
    "sns.scatterplot(x='Days',y='total_counts',data=Predicted_df)\n",
    "sns.scatterplot(x='Days',y='prediction',data=Predicted_df,marker='x')"
   ]
  },
  {
   "cell_type": "code",
   "execution_count": null,
   "metadata": {},
   "outputs": [
    {
     "data": {
      "text/plain": [
       "<matplotlib.axes._subplots.AxesSubplot at 0x7f83841eee50>"
      ]
     },
     "execution_count": 17,
     "metadata": {},
     "output_type": "execute_result"
    }
   ],
   "source": [
    "# create residual plot\n",
    "f, ax = plt.subplots(figsize=(12, 8))\n",
    "sns.residplot(x='Days',y='total_counts',data=actual_data[:-2])\n",
    "sns.scatterplot(x=[51,50],y='difference_values',data=differenceDF.toPandas(),marker='x')"
   ]
  },
  {
   "cell_type": "code",
   "execution_count": null,
   "metadata": {},
   "outputs": [],
   "source": [
    "#End"
   ]
  }
 ],
 "metadata": {
  "kernelspec": {
   "display_name": "Python 3",
   "language": "python",
   "name": "python3"
  },
  "language_info": {
   "codemirror_mode": {
    "name": "ipython",
    "version": 3
   },
   "file_extension": ".py",
   "mimetype": "text/x-python",
   "name": "python",
   "nbconvert_exporter": "python",
   "pygments_lexer": "ipython3",
   "version": "3.7.6"
  }
 },
 "nbformat": 4,
 "nbformat_minor": 4
}