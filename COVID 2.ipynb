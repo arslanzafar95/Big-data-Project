{
 "cells": [
  {
   "cell_type": "code",
   "execution_count": 1,
   "metadata": {},
   "outputs": [],
   "source": [
    "from pyspark.sql import SparkSession\n",
    "import pyspark.sql.functions as F\n",
    "from pyspark.ml.regression import LinearRegression\n",
    "from pyspark.ml.evaluation import RegressionEvaluator\n",
    "from pyspark.ml.linalg import Vectors\n",
    "from pyspark.sql.types import DecimalType, FloatType\n",
    "from pyspark.ml.feature import VectorAssembler\n",
    "import matplotlib.pyplot as plt \n",
    "import seaborn as sns\n",
    "sns.set()"
   ]
  },
  {
   "cell_type": "code",
   "execution_count": 2,
   "metadata": {},
   "outputs": [],
   "source": [
    "# create sparksession\n",
    "spark = SparkSession.builder.appName(\"COVID\").config(\"spark.some.config.option\", \"some-value\").getOrCreate()\n",
    "confirmed = spark.read.csv('time_series_19-covid-Confirmed_archived_0325.csv', header=True, inferSchema = True)\n",
    "# I will start by creating temporary tables querying with SQL\n",
    "confirmed.createOrReplaceTempView('COVID_Confirmed')\n",
    "sparkConfirmedDF = spark.sql('''SELECT * FROM COVID_Confirmed''')"
   ]
  },
  {
   "cell_type": "code",
   "execution_count": 3,
   "metadata": {
    "scrolled": true
   },
   "outputs": [
    {
     "name": "stdout",
     "output_type": "stream",
     "text": [
      "+--------------------+--------------+--------+--------+-------+-------+-------+-------+-------+-------+-------+-------+-------+-------+------+------+------+------+------+------+------+------+------+-------+-------+-------+-------+-------+-------+-------+-------+-------+-------+-------+-------+-------+-------+-------+-------+-------+-------+-------+-------+------+------+------+------+------+------+------+------+------+-------+-------+-------+-------+-------+-------+-------+-------+-------+-------+-------+-------+-------+-------+\n",
      "|      Province/State|Country/Region|     Lat|    Long|1/22/20|1/23/20|1/24/20|1/25/20|1/26/20|1/27/20|1/28/20|1/29/20|1/30/20|1/31/20|2/1/20|2/2/20|2/3/20|2/4/20|2/5/20|2/6/20|2/7/20|2/8/20|2/9/20|2/10/20|2/11/20|2/12/20|2/13/20|2/14/20|2/15/20|2/16/20|2/17/20|2/18/20|2/19/20|2/20/20|2/21/20|2/22/20|2/23/20|2/24/20|2/25/20|2/26/20|2/27/20|2/28/20|2/29/20|3/1/20|3/2/20|3/3/20|3/4/20|3/5/20|3/6/20|3/7/20|3/8/20|3/9/20|3/10/20|3/11/20|3/12/20|3/13/20|3/14/20|3/15/20|3/16/20|3/17/20|3/18/20|3/19/20|3/20/20|3/21/20|3/22/20|3/23/20|\n",
      "+--------------------+--------------+--------+--------+-------+-------+-------+-------+-------+-------+-------+-------+-------+-------+------+------+------+------+------+------+------+------+------+-------+-------+-------+-------+-------+-------+-------+-------+-------+-------+-------+-------+-------+-------+-------+-------+-------+-------+-------+-------+------+------+------+------+------+------+------+------+------+-------+-------+-------+-------+-------+-------+-------+-------+-------+-------+-------+-------+-------+-------+\n",
      "|     New South Wales|     Australia|-33.8688|151.2093|      0|      0|      0|      0|      3|      4|      4|      4|      4|      4|     4|     4|     4|     4|     4|     4|     4|     4|     4|      4|      4|      4|      4|      4|      4|      4|      4|      4|      4|      4|      4|      4|      4|      4|      4|      4|      4|      4|      4|     6|     6|    13|    22|    22|    26|    28|    38|    48|     55|     65|     65|     92|    112|    134|    171|    210|    267|    307|    353|    436|    533|    533|\n",
      "|            Victoria|     Australia|-37.8136|144.9631|      0|      0|      0|      0|      1|      1|      1|      1|      2|      3|     4|     4|     4|     4|     4|     4|     4|     4|     4|      4|      4|      4|      4|      4|      4|      4|      4|      4|      4|      4|      4|      4|      4|      4|      4|      4|      4|      4|      7|     7|     9|     9|    10|    10|    10|    11|    11|    15|     18|     21|     21|     36|     49|     57|     71|     94|    121|    121|    121|    229|    296|    296|\n",
      "|          Queensland|     Australia|-28.0167|   153.4|      0|      0|      0|      0|      0|      0|      0|      1|      3|      2|     3|     2|     2|     3|     3|     4|     5|     5|     5|      5|      5|      5|      5|      5|      5|      5|      5|      5|      5|      5|      5|      5|      5|      5|      5|      5|      5|      5|      9|     9|     9|    11|    11|    13|    13|    13|    15|    15|     18|     20|     20|     35|     46|     61|     68|     78|     94|    144|    184|    221|    221|    221|\n",
      "|     South Australia|     Australia|-34.9285|138.6007|      0|      0|      0|      0|      0|      0|      0|      0|      0|      0|     1|     2|     2|     2|     2|     2|     2|     2|     2|      2|      2|      2|      2|      2|      2|      2|      2|      2|      2|      2|      2|      2|      2|      2|      2|      2|      2|      2|      3|     3|     3|     3|     5|     5|     7|     7|     7|     7|      7|      9|      9|     16|     19|     20|     29|     29|     37|     42|     50|     67|    100|    100|\n",
      "|From Diamond Prin...|     Australia| 35.4437| 139.638|      0|      0|      0|      0|      0|      0|      0|      0|      0|      0|     0|     0|     0|     0|     0|     0|     0|     0|     0|      0|      0|      0|      0|      0|      0|      0|      0|      0|      0|      0|      4|      7|      7|      7|      7|      7|      8|      8|      0|     0|     0|     0|     0|     0|     0|     0|     0|     0|      0|      0|      0|      0|      0|      0|      0|      0|      0|      0|      0|      0|      0|      0|\n",
      "|   Western Australia|     Australia|-31.9505|115.8605|      0|      0|      0|      0|      0|      0|      0|      0|      0|      0|     0|     0|     0|     0|     0|     0|     0|     0|     0|      0|      0|      0|      0|      0|      0|      0|      0|      0|      0|      0|      0|      0|      0|      0|      0|      0|      0|      0|      2|     2|     2|     2|     2|     3|     3|     3|     3|     4|      6|      9|      9|     14|     17|     17|     28|     31|     35|     52|     64|     90|    120|    120|\n",
      "|            Tasmania|     Australia|-41.4545|145.9707|      0|      0|      0|      0|      0|      0|      0|      0|      0|      0|     0|     0|     0|     0|     0|     0|     0|     0|     0|      0|      0|      0|      0|      0|      0|      0|      0|      0|      0|      0|      0|      0|      0|      0|      0|      0|      0|      0|      0|     0|     1|     1|     1|     1|     1|     1|     2|     2|      2|      3|      3|      5|      5|      6|      7|      7|     10|     10|     10|     16|     22|     22|\n",
      "|  Northern Territory|     Australia|-12.4634|130.8456|      0|      0|      0|      0|      0|      0|      0|      0|      0|      0|     0|     0|     0|     0|     0|     0|     0|     0|     0|      0|      0|      0|      0|      0|      0|      0|      0|      0|      0|      0|      0|      0|      0|      0|      0|      0|      0|      0|      0|     0|     0|     0|     1|     1|     0|     0|     0|     0|      1|      1|      1|      1|      1|      1|      1|      1|      1|      1|      3|      3|      3|      3|\n",
      "|Australian Capita...|     Australia|-35.4735|149.0124|      0|      0|      0|      0|      0|      0|      0|      0|      0|      0|     0|     0|     0|     0|     0|     0|     0|     0|     0|      0|      0|      0|      0|      0|      0|      0|      0|      0|      0|      0|      0|      0|      0|      0|      0|      0|      0|      0|      0|     0|     0|     0|     0|     0|     0|     0|     0|     0|      0|      0|      0|      1|      1|      1|      2|      2|      3|      4|      6|      9|     19|     19|\n",
      "+--------------------+--------------+--------+--------+-------+-------+-------+-------+-------+-------+-------+-------+-------+-------+------+------+------+------+------+------+------+------+------+-------+-------+-------+-------+-------+-------+-------+-------+-------+-------+-------+-------+-------+-------+-------+-------+-------+-------+-------+-------+------+------+------+------+------+------+------+------+------+-------+-------+-------+-------+-------+-------+-------+-------+-------+-------+-------+-------+-------+-------+\n",
      "\n"
     ]
    }
   ],
   "source": [
    "# Handling (Dropping) 'NULL / None' Values\n",
    "ConfirmedDF = sparkConfirmedDF.na.drop()\n",
    "# Selecting Australia Confirmed Cases\n",
    "confirmed = spark.sql(\n",
    "'''\n",
    "SELECT * FROM COVID_Confirmed \n",
    "WHERE `Country/Region` = 'Australia'\n",
    "'''\n",
    ")\n",
    "confirmed.show()"
   ]
  },
  {
   "cell_type": "code",
   "execution_count": 4,
   "metadata": {},
   "outputs": [
    {
     "name": "stdout",
     "output_type": "stream",
     "text": [
      "+-----+---+-------+\n",
      "|index|  0|indexes|\n",
      "+-----+---+-------+\n",
      "|    0| 12|      0|\n",
      "|    1| 12|      1|\n",
      "|    2| 12|      2|\n",
      "|    3| 13|      3|\n",
      "|    4| 13|      4|\n",
      "+-----+---+-------+\n",
      "only showing top 5 rows\n",
      "\n"
     ]
    }
   ],
   "source": [
    "columns_to_select = confirmed.columns[14:]\n",
    "# Selecting a subset from the dataframe\n",
    "confirmed = confirmed.select(columns_to_select)\n",
    "# sum up all rows data into 1 row (merging)\n",
    "confirmed = confirmed.select(confirmed.columns).groupBy().sum()\n",
    "# renaming column names for indexing\n",
    "counter = 0\n",
    "\n",
    "for column in confirmed.columns:\n",
    "    confirmed = confirmed.withColumnRenamed(f\"{column}\", f\"{counter}\")\n",
    "    counter = counter + 1\n",
    "\n",
    "confirmed.toPandas()\n",
    "# transpose the dataframe\n",
    "confirmed_transpose = confirmed.toPandas().transpose()\n",
    "# Create a Spark DataFrame from our Pandas DataFrame\n",
    "confirmed_transpose = confirmed_transpose.reset_index()\n",
    "confirmedSparkDF = spark.createDataFrame(confirmed_transpose)\n",
    "confirmedSparkDF = confirmedSparkDF.withColumn(\"indexes\", confirmedSparkDF['index'].cast(DecimalType()))\n",
    "confirmedSparkDF.show(5)"
   ]
  },
  {
   "cell_type": "code",
   "execution_count": 5,
   "metadata": {},
   "outputs": [
    {
     "name": "stdout",
     "output_type": "stream",
     "text": [
      "+--------+---+\n",
      "|Features|  0|\n",
      "+--------+---+\n",
      "|   [0.0]| 12|\n",
      "|   [1.0]| 12|\n",
      "|   [2.0]| 12|\n",
      "|   [3.0]| 13|\n",
      "|   [4.0]| 13|\n",
      "+--------+---+\n",
      "only showing top 5 rows\n",
      "\n"
     ]
    }
   ],
   "source": [
    "featureassembler = VectorAssembler(inputCols = ['indexes'], outputCol=\"Features\")\n",
    "output = featureassembler.transform(confirmedSparkDF)\n",
    "finalized_data = output.select(\"Features\", \"0\")\n",
    "finalized_data.show(5)"
   ]
  },
  {
   "cell_type": "code",
   "execution_count": 6,
   "metadata": {},
   "outputs": [
    {
     "name": "stdout",
     "output_type": "stream",
     "text": [
      "+--------+---+\n",
      "|Features|  0|\n",
      "+--------+---+\n",
      "|   [0.0]| 12|\n",
      "|   [1.0]| 12|\n",
      "|   [2.0]| 12|\n",
      "|   [3.0]| 13|\n",
      "|   [4.0]| 13|\n",
      "+--------+---+\n",
      "only showing top 5 rows\n",
      "\n",
      "+--------+----+\n",
      "|Features|   0|\n",
      "+--------+----+\n",
      "|  [50.0]|1314|\n",
      "|  [51.0]|1314|\n",
      "+--------+----+\n",
      "\n"
     ]
    }
   ],
   "source": [
    "finalized_data = finalized_data.toPandas()\n",
    "train_data = finalized_data[ : -2]\n",
    "test_data = finalized_data[-2 : ]\n",
    "train_data_DF = spark.createDataFrame(train_data)\n",
    "train_data_DF.show(5)\n",
    "test_data_DF = spark.createDataFrame(test_data)\n",
    "test_data_DF.show()"
   ]
  },
  {
   "cell_type": "code",
   "execution_count": 7,
   "metadata": {},
   "outputs": [
    {
     "data": {
      "text/plain": [
       "(DenseVector([10.3084]), -131.9753565268633)"
      ]
     },
     "execution_count": 7,
     "metadata": {},
     "output_type": "execute_result"
    }
   ],
   "source": [
    "regressor = LinearRegression(featuresCol='Features', labelCol='0', maxIter=10, regParam=0.8, elasticNetParam=0.5)\n",
    "regressor = regressor.fit(train_data_DF)\n",
    "regressor.coefficients,regressor.intercept"
   ]
  },
  {
   "cell_type": "code",
   "execution_count": 8,
   "metadata": {},
   "outputs": [
    {
     "name": "stdout",
     "output_type": "stream",
     "text": [
      "total Iterations: 3\n",
      "RMSE: 163.472712\n",
      "R-squared: 0.455198\n",
      "+-------+------------------+\n",
      "|summary|                 0|\n",
      "+-------+------------------+\n",
      "|  count|                50|\n",
      "|   mean|            120.58|\n",
      "| stddev|223.72423714411073|\n",
      "|    min|                12|\n",
      "|    max|              1071|\n",
      "+-------+------------------+\n",
      "\n"
     ]
    }
   ],
   "source": [
    "Summary = regressor.summary\n",
    "print(\"total Iterations: %d\" % Summary.totalIterations)\n",
    "print(\"RMSE: %f\" % Summary.rootMeanSquaredError)\n",
    "print(\"R-squared: %f\" % Summary.r2)\n",
    "train_data_DF.describe().show()"
   ]
  },
  {
   "cell_type": "code",
   "execution_count": 9,
   "metadata": {},
   "outputs": [
    {
     "name": "stdout",
     "output_type": "stream",
     "text": [
      "+--------+----+-----------------+\n",
      "|Features|   0|       prediction|\n",
      "+--------+----+-----------------+\n",
      "|  [50.0]|1314|383.4437384259189|\n",
      "|  [51.0]|1314|393.7521203249746|\n",
      "+--------+----+-----------------+\n",
      "\n"
     ]
    }
   ],
   "source": [
    "pred_results = regressor.evaluate(test_data_DF)\n",
    "pred_results.predictions.show()"
   ]
  },
  {
   "cell_type": "code",
   "execution_count": 10,
   "metadata": {},
   "outputs": [
    {
     "data": {
      "text/html": [
       "<div>\n",
       "<style scoped>\n",
       "    .dataframe tbody tr th:only-of-type {\n",
       "        vertical-align: middle;\n",
       "    }\n",
       "\n",
       "    .dataframe tbody tr th {\n",
       "        vertical-align: top;\n",
       "    }\n",
       "\n",
       "    .dataframe thead th {\n",
       "        text-align: right;\n",
       "    }\n",
       "</style>\n",
       "<table border=\"1\" class=\"dataframe\">\n",
       "  <thead>\n",
       "    <tr style=\"text-align: right;\">\n",
       "      <th></th>\n",
       "      <th>index</th>\n",
       "      <th>difference</th>\n",
       "    </tr>\n",
       "  </thead>\n",
       "  <tbody>\n",
       "    <tr>\n",
       "      <th>0</th>\n",
       "      <td>0</td>\n",
       "      <td>930.556274</td>\n",
       "    </tr>\n",
       "    <tr>\n",
       "      <th>1</th>\n",
       "      <td>1</td>\n",
       "      <td>920.247864</td>\n",
       "    </tr>\n",
       "  </tbody>\n",
       "</table>\n",
       "</div>"
      ],
      "text/plain": [
       "   index  difference\n",
       "0      0  930.556274\n",
       "1      1  920.247864"
      ]
     },
     "execution_count": 10,
     "metadata": {},
     "output_type": "execute_result"
    }
   ],
   "source": [
    "# calculating difference\n",
    "predictedDF = pred_results.predictions\n",
    "predictedPD = predictedDF.toPandas().reset_index()\n",
    "predictedPD = predictedPD[['index', 'prediction']]\n",
    "\n",
    "prediction = pred_results.predictions.select(\"prediction\").collect()\n",
    "\n",
    "test_result = spark.createDataFrame(test_data[['0']])\n",
    "test_result = test_result.withColumnRenamed(\"0\",\"actual\")\n",
    "\n",
    "test_result = test_result.select(\"actual\").collect()\n",
    "\n",
    "actualDF = spark.createDataFrame(test_result)\n",
    "actualPD = actualDF.toPandas().reset_index()\n",
    "\n",
    "actual_cases = []\n",
    "predicted_cases = []\n",
    "for actual in test_result:\n",
    "    actual_cases.append(float(actual.actual))\n",
    "    \n",
    "for predicts in prediction:\n",
    "    predicted_cases.append(predicts.prediction)\n",
    "    \n",
    "difference = [actual - predicted for actual, predicted in zip(actual_cases, predicted_cases)]\n",
    "\n",
    "differenceDF = spark.createDataFrame(difference, FloatType())\n",
    "differenceDF = differenceDF.withColumnRenamed(\"value\",\"difference\")\n",
    "differencePD = differenceDF.toPandas().reset_index()\n",
    "differencePD"
   ]
  },
  {
   "cell_type": "code",
   "execution_count": 11,
   "metadata": {},
   "outputs": [
    {
     "data": {
      "text/plain": [
       "<matplotlib.axes._subplots.AxesSubplot at 0x7fcefc895a50>"
      ]
     },
     "execution_count": 11,
     "metadata": {},
     "output_type": "execute_result"
    },
    {
     "data": {
      "image/png": "[encoded data removed]",
      "text/plain": [
       "<Figure size 864x576 with 1 Axes>"
      ]
     },
     "metadata": {},
     "output_type": "display_data"
    }
   ],
   "source": [
    "# create regression plot\n",
    "finalized_data=finalized_data.reset_index().drop(columns={'Features'})\n",
    "x=predictedDF.toPandas()\n",
    "x['row']=[50,51]\n",
    "f, ax = plt.subplots(figsize=(12, 8))\n",
    "sns.regplot(x='index',y='0',data=finalized_data[ : -2])\n",
    "sns.scatterplot(x='row',y='0',data=x)\n",
    "sns.scatterplot(x='row',y='prediction',data=x,marker='x')"
   ]
  },
  {
   "cell_type": "code",
   "execution_count": null,
   "metadata": {},
   "outputs": [],
   "source": [
    "#End"
   ]
  }
 ],
 "metadata": {
  "kernelspec": {
   "display_name": "Python 3",
   "language": "python",
   "name": "python3"
  },
  "language_info": {
   "codemirror_mode": {
    "name": "ipython",
    "version": 3
   },
   "file_extension": ".py",
   "mimetype": "text/x-python",
   "name": "python",
   "nbconvert_exporter": "python",
   "pygments_lexer": "ipython3",
   "version": "3.7.6"
  }
 },
 "nbformat": 4,
 "nbformat_minor": 4
}
