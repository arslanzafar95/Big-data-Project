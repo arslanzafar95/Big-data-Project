{
 "cells": [
  {
   "cell_type": "code",
   "execution_count": 1,
   "metadata": {},
   "outputs": [],
   "source": [
    "# Muhammad Arslan Zafar 218203179\n",
    "# Muhammad Ahmed Shehzad 218203458\n",
    "# Muhammad Naeem 218100998\n",
    "# Sevinj Guluzade 219100888\n",
    "# Davud Ismayilov 219203057"
   ]
  },
  {
   "cell_type": "code",
   "execution_count": 2,
   "metadata": {},
   "outputs": [],
   "source": [
    "from pyspark.sql import SparkSession\n",
    "import pyspark.sql.functions as F\n",
    "from pyspark.sql.window import Window\n",
    "from pyspark.ml.regression import LinearRegression\n",
    "from pyspark.ml.evaluation import RegressionEvaluator\n",
    "from pyspark.ml.linalg import Vectors\n",
    "from pyspark.sql.functions import desc\n",
    "from pyspark.sql.types import DecimalType, FloatType\n",
    "from pyspark.ml.feature import VectorAssembler\n",
    "import matplotlib.pyplot as plt \n",
    "import seaborn as sns\n",
    "sns.set()"
   ]
  },
  {
   "cell_type": "markdown",
   "metadata": {},
   "source": [
    "### Import the data to Spark"
   ]
  },
  {
   "cell_type": "code",
   "execution_count": 3,
   "metadata": {},
   "outputs": [],
   "source": [
    "# create sparksession\n",
    "spark = SparkSession.builder.appName(\"COVID\").config(\"spark.some.config.option\", \"some-value\").getOrCreate()\n",
    "confirmed = spark.read.csv('time_series_19-covid-Confirmed_archived_0325.csv', header=True, inferSchema = True)\n",
    "\n",
    "# I will start by creating temporary table querying with SQL\n",
    "confirmed.createOrReplaceTempView('COVID_Confirmed')\n",
    "sparkConfirmedDF = spark.sql('''SELECT * FROM COVID_Confirmed''')"
   ]
  },
  {
   "cell_type": "markdown",
   "metadata": {},
   "source": [
    "### Preprocess the data"
   ]
  },
  {
   "cell_type": "markdown",
   "metadata": {},
   "source": [
    "###### Handle null values & Select only the relevant rows (i.e., those that include data about Australia)"
   ]
  },
  {
   "cell_type": "code",
   "execution_count": 4,
   "metadata": {
    "scrolled": true
   },
   "outputs": [
    {
     "name": "stdout",
     "output_type": "stream",
     "text": [
      "+--------------------+--------------+--------+--------+-------+-------+-------+-------+-------+-------+-------+-------+-------+-------+------+------+------+------+------+------+------+------+------+-------+-------+-------+-------+-------+-------+-------+-------+-------+-------+-------+-------+-------+-------+-------+-------+-------+-------+-------+-------+------+------+------+------+------+------+------+------+------+-------+-------+-------+-------+-------+-------+-------+-------+-------+-------+-------+-------+-------+-------+\n",
      "|      Province/State|Country/Region|     Lat|    Long|1/22/20|1/23/20|1/24/20|1/25/20|1/26/20|1/27/20|1/28/20|1/29/20|1/30/20|1/31/20|2/1/20|2/2/20|2/3/20|2/4/20|2/5/20|2/6/20|2/7/20|2/8/20|2/9/20|2/10/20|2/11/20|2/12/20|2/13/20|2/14/20|2/15/20|2/16/20|2/17/20|2/18/20|2/19/20|2/20/20|2/21/20|2/22/20|2/23/20|2/24/20|2/25/20|2/26/20|2/27/20|2/28/20|2/29/20|3/1/20|3/2/20|3/3/20|3/4/20|3/5/20|3/6/20|3/7/20|3/8/20|3/9/20|3/10/20|3/11/20|3/12/20|3/13/20|3/14/20|3/15/20|3/16/20|3/17/20|3/18/20|3/19/20|3/20/20|3/21/20|3/22/20|3/23/20|\n",
      "+--------------------+--------------+--------+--------+-------+-------+-------+-------+-------+-------+-------+-------+-------+-------+------+------+------+------+------+------+------+------+------+-------+-------+-------+-------+-------+-------+-------+-------+-------+-------+-------+-------+-------+-------+-------+-------+-------+-------+-------+-------+------+------+------+------+------+------+------+------+------+-------+-------+-------+-------+-------+-------+-------+-------+-------+-------+-------+-------+-------+-------+\n",
      "|     New South Wales|     Australia|-33.8688|151.2093|      0|      0|      0|      0|      3|      4|      4|      4|      4|      4|     4|     4|     4|     4|     4|     4|     4|     4|     4|      4|      4|      4|      4|      4|      4|      4|      4|      4|      4|      4|      4|      4|      4|      4|      4|      4|      4|      4|      4|     6|     6|    13|    22|    22|    26|    28|    38|    48|     55|     65|     65|     92|    112|    134|    171|    210|    267|    307|    353|    436|    533|    533|\n",
      "|            Victoria|     Australia|-37.8136|144.9631|      0|      0|      0|      0|      1|      1|      1|      1|      2|      3|     4|     4|     4|     4|     4|     4|     4|     4|     4|      4|      4|      4|      4|      4|      4|      4|      4|      4|      4|      4|      4|      4|      4|      4|      4|      4|      4|      4|      7|     7|     9|     9|    10|    10|    10|    11|    11|    15|     18|     21|     21|     36|     49|     57|     71|     94|    121|    121|    121|    229|    296|    296|\n",
      "|          Queensland|     Australia|-28.0167|   153.4|      0|      0|      0|      0|      0|      0|      0|      1|      3|      2|     3|     2|     2|     3|     3|     4|     5|     5|     5|      5|      5|      5|      5|      5|      5|      5|      5|      5|      5|      5|      5|      5|      5|      5|      5|      5|      5|      5|      9|     9|     9|    11|    11|    13|    13|    13|    15|    15|     18|     20|     20|     35|     46|     61|     68|     78|     94|    144|    184|    221|    221|    221|\n",
      "|     South Australia|     Australia|-34.9285|138.6007|      0|      0|      0|      0|      0|      0|      0|      0|      0|      0|     1|     2|     2|     2|     2|     2|     2|     2|     2|      2|      2|      2|      2|      2|      2|      2|      2|      2|      2|      2|      2|      2|      2|      2|      2|      2|      2|      2|      3|     3|     3|     3|     5|     5|     7|     7|     7|     7|      7|      9|      9|     16|     19|     20|     29|     29|     37|     42|     50|     67|    100|    100|\n",
      "|From Diamond Prin...|     Australia| 35.4437| 139.638|      0|      0|      0|      0|      0|      0|      0|      0|      0|      0|     0|     0|     0|     0|     0|     0|     0|     0|     0|      0|      0|      0|      0|      0|      0|      0|      0|      0|      0|      0|      4|      7|      7|      7|      7|      7|      8|      8|      0|     0|     0|     0|     0|     0|     0|     0|     0|     0|      0|      0|      0|      0|      0|      0|      0|      0|      0|      0|      0|      0|      0|      0|\n",
      "|   Western Australia|     Australia|-31.9505|115.8605|      0|      0|      0|      0|      0|      0|      0|      0|      0|      0|     0|     0|     0|     0|     0|     0|     0|     0|     0|      0|      0|      0|      0|      0|      0|      0|      0|      0|      0|      0|      0|      0|      0|      0|      0|      0|      0|      0|      2|     2|     2|     2|     2|     3|     3|     3|     3|     4|      6|      9|      9|     14|     17|     17|     28|     31|     35|     52|     64|     90|    120|    120|\n",
      "|            Tasmania|     Australia|-41.4545|145.9707|      0|      0|      0|      0|      0|      0|      0|      0|      0|      0|     0|     0|     0|     0|     0|     0|     0|     0|     0|      0|      0|      0|      0|      0|      0|      0|      0|      0|      0|      0|      0|      0|      0|      0|      0|      0|      0|      0|      0|     0|     1|     1|     1|     1|     1|     1|     2|     2|      2|      3|      3|      5|      5|      6|      7|      7|     10|     10|     10|     16|     22|     22|\n",
      "|  Northern Territory|     Australia|-12.4634|130.8456|      0|      0|      0|      0|      0|      0|      0|      0|      0|      0|     0|     0|     0|     0|     0|     0|     0|     0|     0|      0|      0|      0|      0|      0|      0|      0|      0|      0|      0|      0|      0|      0|      0|      0|      0|      0|      0|      0|      0|     0|     0|     0|     1|     1|     0|     0|     0|     0|      1|      1|      1|      1|      1|      1|      1|      1|      1|      1|      3|      3|      3|      3|\n",
      "|Australian Capita...|     Australia|-35.4735|149.0124|      0|      0|      0|      0|      0|      0|      0|      0|      0|      0|     0|     0|     0|     0|     0|     0|     0|     0|     0|      0|      0|      0|      0|      0|      0|      0|      0|      0|      0|      0|      0|      0|      0|      0|      0|      0|      0|      0|      0|     0|     0|     0|     0|     0|     0|     0|     0|     0|      0|      0|      0|      1|      1|      1|      2|      2|      3|      4|      6|      9|     19|     19|\n",
      "+--------------------+--------------+--------+--------+-------+-------+-------+-------+-------+-------+-------+-------+-------+-------+------+------+------+------+------+------+------+------+------+-------+-------+-------+-------+-------+-------+-------+-------+-------+-------+-------+-------+-------+-------+-------+-------+-------+-------+-------+-------+------+------+------+------+------+------+------+------+------+-------+-------+-------+-------+-------+-------+-------+-------+-------+-------+-------+-------+-------+-------+\n",
      "\n"
     ]
    }
   ],
   "source": [
    "# Handling (Dropping) 'NULL / None' Values\n",
    "ConfirmedDF = sparkConfirmedDF.na.drop()\n",
    "\n",
    "# Selecting Australia Confirmed Cases\n",
    "confirmed = spark.sql('''\n",
    "SELECT * FROM COVID_Confirmed \n",
    "WHERE `Country/Region` = 'Australia'\n",
    "''')\n",
    "confirmed.show()"
   ]
  },
  {
   "cell_type": "code",
   "execution_count": 5,
   "metadata": {},
   "outputs": [],
   "source": [
    "columns_to_select = confirmed.columns[14:]\n",
    "# Selecting a subset from the dataframe\n",
    "confirmed = confirmed.select(columns_to_select)"
   ]
  },
  {
   "cell_type": "markdown",
   "metadata": {},
   "source": [
    "###### Merge the data to one row since we want to consider the entire Australia"
   ]
  },
  {
   "cell_type": "code",
   "execution_count": 6,
   "metadata": {},
   "outputs": [
    {
     "data": {
      "text/html": [
       "<div>\n",
       "<style scoped>\n",
       "    .dataframe tbody tr th:only-of-type {\n",
       "        vertical-align: middle;\n",
       "    }\n",
       "\n",
       "    .dataframe tbody tr th {\n",
       "        vertical-align: top;\n",
       "    }\n",
       "\n",
       "    .dataframe thead th {\n",
       "        text-align: right;\n",
       "    }\n",
       "</style>\n",
       "<table border=\"1\" class=\"dataframe\">\n",
       "  <thead>\n",
       "    <tr style=\"text-align: right;\">\n",
       "      <th></th>\n",
       "      <th>0</th>\n",
       "    </tr>\n",
       "  </thead>\n",
       "  <tbody>\n",
       "    <tr>\n",
       "      <th>0</th>\n",
       "      <td>12</td>\n",
       "    </tr>\n",
       "    <tr>\n",
       "      <th>1</th>\n",
       "      <td>12</td>\n",
       "    </tr>\n",
       "    <tr>\n",
       "      <th>2</th>\n",
       "      <td>12</td>\n",
       "    </tr>\n",
       "    <tr>\n",
       "      <th>3</th>\n",
       "      <td>13</td>\n",
       "    </tr>\n",
       "    <tr>\n",
       "      <th>4</th>\n",
       "      <td>13</td>\n",
       "    </tr>\n",
       "    <tr>\n",
       "      <th>5</th>\n",
       "      <td>14</td>\n",
       "    </tr>\n",
       "    <tr>\n",
       "      <th>6</th>\n",
       "      <td>15</td>\n",
       "    </tr>\n",
       "    <tr>\n",
       "      <th>7</th>\n",
       "      <td>15</td>\n",
       "    </tr>\n",
       "    <tr>\n",
       "      <th>8</th>\n",
       "      <td>15</td>\n",
       "    </tr>\n",
       "    <tr>\n",
       "      <th>9</th>\n",
       "      <td>15</td>\n",
       "    </tr>\n",
       "    <tr>\n",
       "      <th>10</th>\n",
       "      <td>15</td>\n",
       "    </tr>\n",
       "    <tr>\n",
       "      <th>11</th>\n",
       "      <td>15</td>\n",
       "    </tr>\n",
       "    <tr>\n",
       "      <th>12</th>\n",
       "      <td>15</td>\n",
       "    </tr>\n",
       "    <tr>\n",
       "      <th>13</th>\n",
       "      <td>15</td>\n",
       "    </tr>\n",
       "    <tr>\n",
       "      <th>14</th>\n",
       "      <td>15</td>\n",
       "    </tr>\n",
       "    <tr>\n",
       "      <th>15</th>\n",
       "      <td>15</td>\n",
       "    </tr>\n",
       "    <tr>\n",
       "      <th>16</th>\n",
       "      <td>15</td>\n",
       "    </tr>\n",
       "    <tr>\n",
       "      <th>17</th>\n",
       "      <td>15</td>\n",
       "    </tr>\n",
       "    <tr>\n",
       "      <th>18</th>\n",
       "      <td>15</td>\n",
       "    </tr>\n",
       "    <tr>\n",
       "      <th>19</th>\n",
       "      <td>15</td>\n",
       "    </tr>\n",
       "    <tr>\n",
       "      <th>20</th>\n",
       "      <td>19</td>\n",
       "    </tr>\n",
       "    <tr>\n",
       "      <th>21</th>\n",
       "      <td>22</td>\n",
       "    </tr>\n",
       "    <tr>\n",
       "      <th>22</th>\n",
       "      <td>22</td>\n",
       "    </tr>\n",
       "    <tr>\n",
       "      <th>23</th>\n",
       "      <td>22</td>\n",
       "    </tr>\n",
       "    <tr>\n",
       "      <th>24</th>\n",
       "      <td>22</td>\n",
       "    </tr>\n",
       "    <tr>\n",
       "      <th>25</th>\n",
       "      <td>22</td>\n",
       "    </tr>\n",
       "    <tr>\n",
       "      <th>26</th>\n",
       "      <td>23</td>\n",
       "    </tr>\n",
       "    <tr>\n",
       "      <th>27</th>\n",
       "      <td>23</td>\n",
       "    </tr>\n",
       "    <tr>\n",
       "      <th>28</th>\n",
       "      <td>25</td>\n",
       "    </tr>\n",
       "    <tr>\n",
       "      <th>29</th>\n",
       "      <td>27</td>\n",
       "    </tr>\n",
       "    <tr>\n",
       "      <th>30</th>\n",
       "      <td>30</td>\n",
       "    </tr>\n",
       "    <tr>\n",
       "      <th>31</th>\n",
       "      <td>39</td>\n",
       "    </tr>\n",
       "    <tr>\n",
       "      <th>32</th>\n",
       "      <td>52</td>\n",
       "    </tr>\n",
       "    <tr>\n",
       "      <th>33</th>\n",
       "      <td>55</td>\n",
       "    </tr>\n",
       "    <tr>\n",
       "      <th>34</th>\n",
       "      <td>60</td>\n",
       "    </tr>\n",
       "    <tr>\n",
       "      <th>35</th>\n",
       "      <td>63</td>\n",
       "    </tr>\n",
       "    <tr>\n",
       "      <th>36</th>\n",
       "      <td>76</td>\n",
       "    </tr>\n",
       "    <tr>\n",
       "      <th>37</th>\n",
       "      <td>91</td>\n",
       "    </tr>\n",
       "    <tr>\n",
       "      <th>38</th>\n",
       "      <td>107</td>\n",
       "    </tr>\n",
       "    <tr>\n",
       "      <th>39</th>\n",
       "      <td>128</td>\n",
       "    </tr>\n",
       "    <tr>\n",
       "      <th>40</th>\n",
       "      <td>128</td>\n",
       "    </tr>\n",
       "    <tr>\n",
       "      <th>41</th>\n",
       "      <td>200</td>\n",
       "    </tr>\n",
       "    <tr>\n",
       "      <th>42</th>\n",
       "      <td>250</td>\n",
       "    </tr>\n",
       "    <tr>\n",
       "      <th>43</th>\n",
       "      <td>297</td>\n",
       "    </tr>\n",
       "    <tr>\n",
       "      <th>44</th>\n",
       "      <td>377</td>\n",
       "    </tr>\n",
       "    <tr>\n",
       "      <th>45</th>\n",
       "      <td>452</td>\n",
       "    </tr>\n",
       "    <tr>\n",
       "      <th>46</th>\n",
       "      <td>568</td>\n",
       "    </tr>\n",
       "    <tr>\n",
       "      <th>47</th>\n",
       "      <td>681</td>\n",
       "    </tr>\n",
       "    <tr>\n",
       "      <th>48</th>\n",
       "      <td>791</td>\n",
       "    </tr>\n",
       "    <tr>\n",
       "      <th>49</th>\n",
       "      <td>1071</td>\n",
       "    </tr>\n",
       "    <tr>\n",
       "      <th>50</th>\n",
       "      <td>1314</td>\n",
       "    </tr>\n",
       "    <tr>\n",
       "      <th>51</th>\n",
       "      <td>1314</td>\n",
       "    </tr>\n",
       "  </tbody>\n",
       "</table>\n",
       "</div>"
      ],
      "text/plain": [
       "       0\n",
       "0     12\n",
       "1     12\n",
       "2     12\n",
       "3     13\n",
       "4     13\n",
       "5     14\n",
       "6     15\n",
       "7     15\n",
       "8     15\n",
       "9     15\n",
       "10    15\n",
       "11    15\n",
       "12    15\n",
       "13    15\n",
       "14    15\n",
       "15    15\n",
       "16    15\n",
       "17    15\n",
       "18    15\n",
       "19    15\n",
       "20    19\n",
       "21    22\n",
       "22    22\n",
       "23    22\n",
       "24    22\n",
       "25    22\n",
       "26    23\n",
       "27    23\n",
       "28    25\n",
       "29    27\n",
       "30    30\n",
       "31    39\n",
       "32    52\n",
       "33    55\n",
       "34    60\n",
       "35    63\n",
       "36    76\n",
       "37    91\n",
       "38   107\n",
       "39   128\n",
       "40   128\n",
       "41   200\n",
       "42   250\n",
       "43   297\n",
       "44   377\n",
       "45   452\n",
       "46   568\n",
       "47   681\n",
       "48   791\n",
       "49  1071\n",
       "50  1314\n",
       "51  1314"
      ]
     },
     "execution_count": 6,
     "metadata": {},
     "output_type": "execute_result"
    }
   ],
   "source": [
    "# sum up all rows data into 1 row (merging)\n",
    "confirmed = confirmed.select(confirmed.columns).groupBy().sum()\n",
    "\n",
    "# renaming column names for indexing\n",
    "counter = 0\n",
    "for column in confirmed.columns:\n",
    "    confirmed = confirmed.withColumnRenamed(f\"{column}\", f\"{counter}\")\n",
    "    counter = counter + 1\n",
    "    \n",
    "# Converting to Pandas to transpose the dataframe\n",
    "confirmed_transpose = confirmed.toPandas().transpose()\n",
    "confirmed_transpose"
   ]
  },
  {
   "cell_type": "code",
   "execution_count": 7,
   "metadata": {
    "scrolled": true
   },
   "outputs": [
    {
     "name": "stdout",
     "output_type": "stream",
     "text": [
      "+------------+-------+\n",
      "|total_counts|indexes|\n",
      "+------------+-------+\n",
      "|          12|      0|\n",
      "|          12|      1|\n",
      "|          12|      2|\n",
      "|          13|      3|\n",
      "|          13|      4|\n",
      "|          14|      5|\n",
      "|          15|      6|\n",
      "|          15|      7|\n",
      "|          15|      8|\n",
      "|          15|      9|\n",
      "+------------+-------+\n",
      "only showing top 10 rows\n",
      "\n"
     ]
    }
   ],
   "source": [
    "# Creating a Spark DataFrame from our Pandas DataFrame\n",
    "confirmedSparkDF = spark.createDataFrame(confirmed_transpose)\n",
    "confirmedSparkDF = confirmedSparkDF.withColumnRenamed(f\"{0}\", \"total_counts\")\n",
    "confirmedSparkDF = confirmedSparkDF.withColumn(\"indexes\", F.row_number()\n",
    "                                               .over(Window.orderBy(F.monotonically_increasing_id())) - 1)\n",
    "confirmedSparkDF.show(10)"
   ]
  },
  {
   "cell_type": "code",
   "execution_count": 8,
   "metadata": {},
   "outputs": [],
   "source": [
    "featureassembler = VectorAssembler(inputCols = ['indexes'], outputCol=\"Days\")\n",
    "output = featureassembler.transform(confirmedSparkDF)\n",
    "finalized_data = output.select(\"Days\", \"total_counts\")"
   ]
  },
  {
   "cell_type": "markdown",
   "metadata": {},
   "source": [
    "###### Splitting into Train & Test data"
   ]
  },
  {
   "cell_type": "code",
   "execution_count": 9,
   "metadata": {},
   "outputs": [
    {
     "name": "stdout",
     "output_type": "stream",
     "text": [
      "+------+------------+\n",
      "|  Days|total_counts|\n",
      "+------+------------+\n",
      "| [0.0]|          12|\n",
      "| [1.0]|          12|\n",
      "| [2.0]|          12|\n",
      "| [3.0]|          13|\n",
      "| [4.0]|          13|\n",
      "| [5.0]|          14|\n",
      "| [6.0]|          15|\n",
      "| [7.0]|          15|\n",
      "| [8.0]|          15|\n",
      "| [9.0]|          15|\n",
      "|[10.0]|          15|\n",
      "|[11.0]|          15|\n",
      "|[12.0]|          15|\n",
      "|[13.0]|          15|\n",
      "|[14.0]|          15|\n",
      "|[15.0]|          15|\n",
      "|[16.0]|          15|\n",
      "|[17.0]|          15|\n",
      "|[18.0]|          15|\n",
      "|[19.0]|          15|\n",
      "+------+------------+\n",
      "only showing top 20 rows\n",
      "\n",
      "+------+------------+\n",
      "|  Days|total_counts|\n",
      "+------+------------+\n",
      "|[51.0]|        1314|\n",
      "|[50.0]|        1314|\n",
      "+------+------------+\n",
      "\n"
     ]
    }
   ],
   "source": [
    "finalized_data.createOrReplaceTempView(\"Finalized_Cases\")\n",
    "train_data = spark.sql(\"SELECT * FROM Finalized_Cases LIMIT 50\")\n",
    "test_data = spark.sql(\"SELECT * FROM Finalized_Cases ORDER BY Days DESC LIMIT 2\")\n",
    "\n",
    "#####  Alternate method to split data into train and test data  ######\n",
    "# train_data = finalized_data.where(F.col('indexes') < 50)\n",
    "# test_data = finalized_data.where(F.col('indexes') > 49)\n",
    "\n",
    "train_data.show()\n",
    "test_data.show()"
   ]
  },
  {
   "cell_type": "markdown",
   "metadata": {},
   "source": [
    "### Apply Regression Method"
   ]
  },
  {
   "cell_type": "code",
   "execution_count": 10,
   "metadata": {},
   "outputs": [
    {
     "name": "stdout",
     "output_type": "stream",
     "text": [
      "Regressor coefficient:  [10.308381899055645]\n",
      "Regressor intercept:  -131.9753565268633\n",
      "total Iterations: 3\n",
      "RMSE: 163.472712\n",
      "R-squared: 0.455198\n",
      "+-------+------------------+\n",
      "|summary|      total_counts|\n",
      "+-------+------------------+\n",
      "|  count|                50|\n",
      "|   mean|            120.58|\n",
      "| stddev|223.72423714411073|\n",
      "|    min|                12|\n",
      "|    max|              1071|\n",
      "+-------+------------------+\n",
      "\n"
     ]
    }
   ],
   "source": [
    "regressor = LinearRegression(featuresCol='Days', labelCol='total_counts', maxIter=10, regParam=0.8, elasticNetParam=0.5)\n",
    "regressor = regressor.fit(train_data)\n",
    "\n",
    "print('Regressor coefficient: ', regressor.coefficients)\n",
    "print('Regressor intercept: ', regressor.intercept)\n",
    "Summary = regressor.summary\n",
    "print(\"total Iterations: %d\" % Summary.totalIterations)\n",
    "print(\"RMSE: %f\" % Summary.rootMeanSquaredError)\n",
    "print(\"R-squared: %f\" % Summary.r2)\n",
    "train_data.describe().show()"
   ]
  },
  {
   "cell_type": "code",
   "execution_count": 11,
   "metadata": {},
   "outputs": [
    {
     "name": "stdout",
     "output_type": "stream",
     "text": [
      "+------+------------+-----------------+\n",
      "|  Days|total_counts|       prediction|\n",
      "+------+------------+-----------------+\n",
      "|[51.0]|        1314|393.7521203249746|\n",
      "|[50.0]|        1314|383.4437384259189|\n",
      "+------+------------+-----------------+\n",
      "\n"
     ]
    }
   ],
   "source": [
    "pred_results = regressor.evaluate(test_data)\n",
    "test_data = pred_results.predictions\n",
    "test_data.show()"
   ]
  },
  {
   "cell_type": "markdown",
   "metadata": {},
   "source": [
    "### Compute the Difference"
   ]
  },
  {
   "cell_type": "code",
   "execution_count": 12,
   "metadata": {},
   "outputs": [
    {
     "name": "stdout",
     "output_type": "stream",
     "text": [
      "+-----------------+\n",
      "|difference_values|\n",
      "+-----------------+\n",
      "|        920.24786|\n",
      "|         930.5563|\n",
      "+-----------------+\n",
      "\n"
     ]
    }
   ],
   "source": [
    "prediction = pred_results.predictions.select(\"prediction\").collect()\n",
    "test_data_actual = test_data.withColumnRenamed(\"total_counts\",\"actual\")\n",
    "test_data_actual = test_data_actual.select(\"actual\").collect()\n",
    "\n",
    "actual_cases = []\n",
    "predicted_cases = []\n",
    "for actual in test_data_actual:\n",
    "    actual_cases.append(float(actual.actual))  \n",
    "for predicts in prediction:\n",
    "    predicted_cases.append(predicts.prediction)\n",
    "    \n",
    "difference = [actual - predicted for actual, predicted in zip(actual_cases, predicted_cases)]\n",
    "differenceDF = spark.createDataFrame(difference, FloatType())\n",
    "differenceDF = differenceDF.withColumnRenamed(\"value\",\"difference_values\")\n",
    "differenceDF.show()"
   ]
  },
  {
   "cell_type": "markdown",
   "metadata": {},
   "source": [
    "### Visualizing Results"
   ]
  },
  {
   "cell_type": "code",
   "execution_count": 13,
   "metadata": {},
   "outputs": [
    {
     "data": {
      "text/plain": [
       "<matplotlib.axes._subplots.AxesSubplot at 0x7fe0d5ebd590>"
      ]
     },
     "execution_count": 13,
     "metadata": {},
     "output_type": "execute_result"
    },
    {
     "data": {
      "image/png": "[encoded data removed]",
      "text/plain": [
       "<Figure size 864x576 with 1 Axes>"
      ]
     },
     "metadata": {},
     "output_type": "display_data"
    }
   ],
   "source": [
    "actual_DF = output.select(\"indexes\", \"total_counts\").withColumnRenamed(f\"indexes\", \"Days\")\n",
    "\n",
    "# Converting to Pandas to plot scatter and regression plots\n",
    "actual_data = actual_DF.toPandas()\n",
    "Predicted_df = test_data.toPandas()\n",
    "\n",
    "Predicted_df['Days']=[51,50]\n",
    "f, ax = plt.subplots(figsize=(12,8))\n",
    "sns.regplot(x='Days',y='total_counts',data=actual_data[:-2])\n",
    "sns.scatterplot(x='Days',y='total_counts',data=Predicted_df)\n",
    "sns.scatterplot(x='Days',y='prediction',data=Predicted_df,marker='x')"
   ]
  },
  {
   "cell_type": "code",
   "execution_count": 14,
   "metadata": {},
   "outputs": [],
   "source": [
    "#End"
   ]
  }
 ],
 "metadata": {
  "kernelspec": {
   "display_name": "Python 3",
   "language": "python",
   "name": "python3"
  },
  "language_info": {
   "codemirror_mode": {
    "name": "ipython",
    "version": 3
   },
   "file_extension": ".py",
   "mimetype": "text/x-python",
   "name": "python",
   "nbconvert_exporter": "python",
   "pygments_lexer": "ipython3",
   "version": "3.7.6"
  }
 },
 "nbformat": 4,
 "nbformat_minor": 4
}
